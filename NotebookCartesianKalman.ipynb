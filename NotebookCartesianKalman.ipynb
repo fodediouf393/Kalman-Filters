{
 "cells": [
  {
   "cell_type": "code",
   "execution_count": 98,
   "id": "f358af98",
   "metadata": {},
   "outputs": [],
   "source": [
    "###Importation des différents librairies\n",
    "\n",
    "import numpy as np\n",
    "import plotly.graph_objects as go\n",
    "import pandas as pd"
   ]
  },
  {
   "cell_type": "code",
   "execution_count": 99,
   "id": "04913573",
   "metadata": {},
   "outputs": [],
   "source": [
    "### initialisation des variables\n",
    "\n",
    "\n",
    "\n",
    "# --- Paramètres généraux ---\n",
    "Te = 1           # période d'échantillonnage (capteur)\n",
    "T = 100          # nombre d'instants (longueur du scénario)\n",
    "\n",
    "# --- Paramètres de bruit ---\n",
    "sigma_Q = 1      # écart-type du bruit de processus (modèle dynamique)\n",
    "sigma_px = 30    # écart-type du bruit de mesure en abscisse (capteur)\n",
    "sigma_py = 30    # écart-type du bruit de mesure en ordonnée (capteur)\n",
    "\n",
    "# --- Matrice F (transition d’état) ---\n",
    "F = np.array([\n",
    "    [1, Te, 0, 0],\n",
    "    [0, 1, 0, 0],\n",
    "    [0, 0, 1, Te],\n",
    "    [0, 0, 0, 1]\n",
    "])\n",
    "\n",
    "# --- Matrice Q (covariance du bruit de processus) ---\n",
    "Q = sigma_Q**2 * np.array([\n",
    "    [Te**3 / 3, Te**2 / 2, 0, 0],\n",
    "    [Te**2 / 2, Te, 0, 0],\n",
    "    [0, 0, Te**3 / 3, Te**2 / 2],\n",
    "    [0, 0, Te**2 / 2, Te]\n",
    "])\n",
    "\n",
    "# --- Matrice H (observation) ---\n",
    "H = np.array([\n",
    "    [1, 0, 0, 0],\n",
    "    [0, 0, 1, 0]\n",
    "])\n",
    "\n",
    "# --- Matrice R (covariance du bruit de mesure) ---\n",
    "R = np.array([\n",
    "    [sigma_px**2, 0],\n",
    "    [0, sigma_py**2]\n",
    "])\n",
    "\n",
    "# --- État initial ---\n",
    "x_init = np.array([3, 40, -4, 20])     # état initial de la cible\n",
    "x_kalm = x_init.copy()                # estimation initiale (x̂₀|₀)\n",
    "P_kalm = np.eye(4)                    # matrice de covariance initiale (P₀|₀)\n"
   ]
  },
  {
   "cell_type": "code",
   "execution_count": 100,
   "id": "204f47a7",
   "metadata": {},
   "outputs": [],
   "source": [
    "#---Création de la fonction qui simule l'équation d'état\n",
    "def creer_trajectoire(F, Q, x_init, T):\n",
    "    \"\"\"\n",
    "    Génère une trajectoire aléatoire de dimension (4 x T)\n",
    "    à partir du modèle dynamique X_k = F X_{k-1} + U_k.\n",
    "\n",
    "    Paramètres :\n",
    "    - F : matrice de transition d'état (4x4)\n",
    "    - Q : matrice de covariance du bruit de processus (4x4)\n",
    "    - x_init : vecteur d'état initial (4,)\n",
    "    - T : nombre d'instants\n",
    "\n",
    "    Retourne :\n",
    "    - x : matrice des états simulés de dimension (4 x T)\n",
    "    \"\"\"\n",
    "    x = np.zeros((4, T))\n",
    "    x[:, 0] = x_init  # initialisation au temps k=0\n",
    "\n",
    "    for k in range(1, T):\n",
    "        bruit = np.random.multivariate_normal(mean=np.zeros(4), cov=Q) # bruit de processus gaussien\n",
    "        #bruit = np.random.uniform(low=-10, high=10, size=4) # bruit uniforme\n",
    "        x[:, k] = F @ x[:, k-1] + bruit\n",
    "\n",
    "    return x"
   ]
  },
  {
   "cell_type": "code",
   "execution_count": 101,
   "id": "b49d1ee4",
   "metadata": {},
   "outputs": [],
   "source": [
    "#Appel de la fonction pour créer la trajectoire\n",
    "x = creer_trajectoire(F, Q, x_init, T) \n"
   ]
  },
  {
   "cell_type": "code",
   "execution_count": 102,
   "id": "9fa3ec49",
   "metadata": {},
   "outputs": [],
   "source": [
    "# --- Simulation de l'équation d'observation ---\n",
    "\n",
    "def creer_observation(H, R, x):\n",
    "    \"\"\"\n",
    "    Génère une matrice d'observation à partir du modèle d'observation Y_k = H X_k + V_k.\n",
    "\n",
    "    Paramètres :\n",
    "    - H : matrice d'observation (2x4)\n",
    "    - R : matrice de covariance du bruit de mesure (2x2)\n",
    "    - x : matrice des états simulés (4xT)\n",
    "\n",
    "    Retourne :\n",
    "    - y : matrice des observations simulées (2xT)\n",
    "    \"\"\"\n",
    "    T = x.shape[1]\n",
    "    y = np.zeros((2, T))\n",
    "\n",
    "    for k in range(T):\n",
    "        bruit = np.random.multivariate_normal(mean=np.zeros(2), cov=R) # bruit de mesure gaussien\n",
    "        #bruit = np.random.uniform(low=0, high=20, size=2) # bruit uniforme\n",
    "        y[:, k] = H @ x[:, k] + bruit\n",
    "\n",
    "    return y"
   ]
  },
  {
   "cell_type": "code",
   "execution_count": 103,
   "id": "fc5373f7",
   "metadata": {},
   "outputs": [],
   "source": [
    "# Appel de la fonction pour créer les observations\n",
    "y = creer_observation(H, R, x)"
   ]
  },
  {
   "cell_type": "code",
   "execution_count": 104,
   "id": "66a9a68f",
   "metadata": {},
   "outputs": [
    {
     "data": {
      "application/vnd.plotly.v1+json": {
       "config": {
        "plotlyServerURL": "https://plot.ly"
       },
       "data": [
        {
         "line": {
          "color": "blue"
         },
         "mode": "lines+markers",
         "name": "Trajectoire vraie",
         "type": "scatter",
         "x": {
          "bdata": "AAAAAAAACEDC34vykX9FQDBF8p4kwVRAUEtx0POwXkDqmyltvU5kQA9epqusPGlAmq3HeCIvbkAZRd/VaYVxQPAL8dAo8nNA082gD6FYdkAhXeSVTuF4QCep0jCse3tAWNzqnj8YfkDvGMz7IVSAQHE3GYAnnIFAsg3qkqrsgkAbjY451T+EQHhiojCnmIVA7qFJDtT0hkBmANC1d1aIQIbkczyru4lAHxYIMsIii0B+46F6dYuMQN9IpfdA7o1Av9bC6ttTj0ASEJdxImSQQIXXjHegHpFAKAhb0s/XkUD8fZsWWZOSQPqmf77iU5NAhOype4MRlEAZRJ8ThseUQC8QTd8HdpVAG8pbCEEhlkAbdQAIh8yWQObepxO+dZdAqc8Vz4MdmEAnc7edM8eYQCvfZBO3bplAvcO/vEQWmkDzplz85r+aQO1UqV9kaJtAgni7M8kLnEDszD3tlK+cQAGRScyCU51Atv4NH6v6nUD9qSJyb56eQFiZx2GdPZ9AyNWyKG/dn0DW5qr3nz+gQAN9hoielKBAueWZv4LooEDEasP8ZzqhQLK3bdk+jKFABESc1KvgoUBnqahynzaiQIYXMCcLjqJAbpuA/NvlokA0a9iwm0CjQKM8sadLnaNAk/BWHEf7o0DsySwppVmkQA800uw4uqRAy4G1hIwcpUAuCDOD+IClQGV/bzvW5aVAwLIqmMVJpkCQLtyjg66mQEuR3tTbE6dA2BMwFlt4p0DWYWM69t6nQLYlBXhORahAd+kKPlSuqEAZIf5GlRapQAF9JtjKfqlA5+uaeUfoqUBLNl0MiFOqQAQCrHDqvqpAObOgqIYrq0CQtlBVq5arQC0oy7kfBaxAvTDDT5l1rEDr0bClc+OsQKCBBNYpUa1AeaB93jHArUAPFSwgFi2uQEwVDG0cmK5Awj4i7MYDr0Cz8hv3r2+vQO8Gortl369AUZWhLsMosEA6weYAP2KwQDSMI4fCnbBALnc5vHDZsEBHRXQJARWxQFZ5zRPBT7FAf3YqhiaLsUCsEGoyn8axQA8nKqMiArJALDXC0Wk+skA=",
          "dtype": "f8"
         },
         "y": {
          "bdata": "AAAAAAAAEMDYuMkWFiEvQCzi7PJ5lkFAk97hZ0hAS0AziBkV0YpSQPePQcsLmFdAiOCqSOKOXEC0bos4DahgQMMUKGfT9mJAbvY20tppZUADEAmMgt5nQHvJyvMSVGpAJVkg422/bEAi2kRTGzlvQP4pEXVGxHBA8UUm8nH2cUBgkJZa+TxzQF6l5dExkHRA7m/dTiLhdUBq7X/gWEh3QJK70wtWsnhAgOaaQfUhekBPKFvP+Y17QOtLeK3M8XxAWN4yp8RafkCPfcXAorF/QDzvYBJ3gYBA7vJhXIorgUDZGQx3wOGBQFcnCOZ4noJAEo+8EtBbg0AUN2mSyRSEQLSle4zEzYRA3hgvuOOHhUCl6MT2ckqGQMNuiriIEYdAOtEL84/Oh0CX1XshAYWIQDVA+X+TOYlAzYCV0HDxiUCoeCV02aWKQFByIAurVotAkqOggeIFjEBwEQhQ8qqMQDxAdC4TTY1AkBAqExnyjUDOYFg+8JyOQDR8slIER49AFM/UPn/nj0CBvNFw2z+QQJ4UeKciiZBA/FCbaAzVkEAyj+FLdx+RQOkE+JRyZpFAcrHb3sKskUBLRyO94vKRQEVRe2ygQJJAEW+fMFOOkkBlN2mczNuSQG9jCztoKZNAPbDs7eZ5k0AMHosSasqTQBWyzkhhIJRAkzwB0oN3lEDxaNJOQ86UQHGP6GB3KJVAzWb4jJODlUBqfiJFj+CVQNt+bhbNPJZA43y6zmeVlkDWL2OXSO6WQOWO0aApS5dAzixsBFGml0CChOCJSv2XQFIh2gm2UJhAIXbXHJqkmEBdZP73nPmYQARsfJ+zS5lAyciNromgmUDyqBQ7i/SZQKBS4WX+S5pAoJKpZ7ikmkA4Jg549/maQHHr/WCtTptAPFt3Iyifm0CqNFWmqeqbQFcACuwzN5xA0W0pjhWEnECrOpn+LdCcQFI1JR/4HJ1As+S3l41tnUB2Qo4UYsKdQPr1aMYpFp5A/KazmNxpnkDZiekny7yeQHi3i/lVEZ9AAjsC9X5pn0BMaK6ddsWfQMEFgd3sEaBAYySq6GBCoEA=",
          "dtype": "f8"
         }
        },
        {
         "marker": {
          "color": "red",
          "size": 6,
          "symbol": "circle"
         },
         "mode": "markers",
         "name": "Observations bruitées",
         "type": "scatter",
         "x": {
          "bdata": "jntUCbNNIkDWQajEX/xNQGLZyhYVtUdA1jSeRpEBVkBdS6zWPQlkQOrKpLhUd21Ay5N0t8s2aUCBggvctRpwQHPfoUy+L3RA4oTnS3OadkDui2nBag93QN5dHS4gSH5AdrgcvhRPfkC4upIxoK+AQLJD3oCm935AT8WOJyN0gUDul0lR/5CDQHfIUSNGTIVAoBGOxD9jhUB0MCz5KzCHQFP0+twgkYlArPIlMmJiiEDorG6G532MQM9vNZYvtI1A/aR0cvDAjkCLmvbvcaaQQOs3KC7hSpFAPc8bpwfdkUBDLDQqVZuSQPfGSsAlT5NAQNG4FS1ulEBk76Gpe5GVQEH5NIzpopVAhOscS/dGlkDW8go6EkSWQGRx8MU7ZpdAmJD4SYzdl0DvZZb5ifSZQLMYlF/cPZpA8Q96vFRymUCYt7OFeciaQKAWQNai2ptALLJwYjMqm0B2jcjPpS6dQFoJ7qbP5Z1Aa3jlh5txnUCZ3D8UUj+eQHR4vFi4/J9AMVcNagZHn0DD6IznIXKgQG1+5z1YfaBALQkABAXYoEDV5DuE2TehQFTZZ9JWRKFAF8/yHf25oUDRQlmZvz6iQDk+bmUslaJAfwkqWTf0okDa11zuYvWiQHOFtRv3qaNAImr92z/ao0DaAyRuIDekQG2hOkepeaRAlWMoEShBpUC8SDOwf5ilQGDQcyyJ8KVAUFGzaB48pkA/V44WbIKmQDolZ9KeM6dAFNxrRtFIp0CBZKnP8ManQLDnEvMClqhAjMUEV6qLqEATt9KKVAapQFATnOFPrKlA7WdNdoYWqkD0WQkD/BGqQFGM21120KpAneqf8Ss4q0BE1x2XgVarQN5AJO4+DqxAij4bAPKOrEDdoCnNpD+tQEkowUbbaK1A7BGa816wrUDR+4Uz0B2uQDlzHymebq5AePr88SO7rkDmNOYfMWGvQFsl42jVA7BAm+gszxkjsEAhZZgi1YywQORyB/HhqrBACO7Fm7+bsEBaTaeGTiqxQHNojaKbMrFAJP68u4KpsUBO4Sxwns+xQMJaX0aqyLFAjU4TFfVEskA=",
          "dtype": "f8"
         },
         "y": {
          "bdata": "veUw4dy/IkBCzr/BVhdJQG0FSwpmOzlAd9UcYiycQ0DQjxie+VNMQKhi5nTlYU1AMepPneTkVUDrhf5Siy1eQBxQIvO98GFAHrZ1C2wDYUA7DYZOAPFtQDCs0WoH0mtAOGuX0A5RaECT4dZzYaBsQLvCCeCDAHFAnM2sgIFBb0Cr3a2ZkI9zQGYnAMCDiXNAWgVybE33dkAwHugGSnl0QOE1wMGkGHhA9QMNx0J9f0AtfJs3mZx6QNclG3fCD3pAuW1nN662gEC3zVu17AaBQDfzZM0XTIFABfyExXi1f0DIGXc7B3KDQBP9DiFRLIRA1NXqZm6DhEAnm+F67myDQJJk53TBhoRAMdA+zsgthUDuMbo8mkaFQFTZwIwv4YhA/F+odNq8h0Cq1ACB/wKJQEYHsrKdt4lAzvsj9eQNi0Dm9FWyKj6LQKgDMm6Efo1AcItyfZ6YjUCbDjFh156MQEr2i8bT2I1AA0m6ZsGTjkCLYHdcRiqQQG0Xp/dx/o5Agi3bg8y8jkC0zgFzrtCPQJ8NlDTH3JBAyOrBhyx1kUAD6pgZPGuQQG/rsHCXKpFAdkLNY0aMkUCr0ZLM926SQHFF/wcvIpFAnbHjaC58kkC3c+lABCaTQOrYeZpZoZNAbWwttoRZkkCUFLC8yZaTQJojk3nu4pNA8etvAiI3lEBLbLzyXkuUQB2i+oCxnpVA02EQPneilUBJjvMJeViWQAzyCU87d5ZAYqZHPoJ9lkB8ITacYDeXQJxI7habE5dAH13L2B2Al0DHrbBnxnyXQPExJY8l1JhA3g6t8qjDmEDSW4WirxGZQI1WDyujeZlA7AXMQcE1mkC14IA/kFSZQMAPwQGEq5lAMedpScPWmkAS0jQHbQObQD2PucSzbptAlKphJ04wnECmUMMNqTmbQDSwB80gnJxAphD0waSznECfnXK5f7OcQLdtZgOmJp1ALQDvGEnknUAbSFK8HNidQL/hwc2dmJ1ACZgxdW6wnkDLQCsDJraeQMagd4HdMJ5Adn9qLkP6nkByX58gzSWgQCt6p3ogNqBAPAColH9UoEA=",
          "dtype": "f8"
         }
        }
       ],
       "layout": {
        "height": 600,
        "legend": {
         "x": 0,
         "y": 1
        },
        "template": {
         "data": {
          "bar": [
           {
            "error_x": {
             "color": "#2a3f5f"
            },
            "error_y": {
             "color": "#2a3f5f"
            },
            "marker": {
             "line": {
              "color": "#E5ECF6",
              "width": 0.5
             },
             "pattern": {
              "fillmode": "overlay",
              "size": 10,
              "solidity": 0.2
             }
            },
            "type": "bar"
           }
          ],
          "barpolar": [
           {
            "marker": {
             "line": {
              "color": "#E5ECF6",
              "width": 0.5
             },
             "pattern": {
              "fillmode": "overlay",
              "size": 10,
              "solidity": 0.2
             }
            },
            "type": "barpolar"
           }
          ],
          "carpet": [
           {
            "aaxis": {
             "endlinecolor": "#2a3f5f",
             "gridcolor": "white",
             "linecolor": "white",
             "minorgridcolor": "white",
             "startlinecolor": "#2a3f5f"
            },
            "baxis": {
             "endlinecolor": "#2a3f5f",
             "gridcolor": "white",
             "linecolor": "white",
             "minorgridcolor": "white",
             "startlinecolor": "#2a3f5f"
            },
            "type": "carpet"
           }
          ],
          "choropleth": [
           {
            "colorbar": {
             "outlinewidth": 0,
             "ticks": ""
            },
            "type": "choropleth"
           }
          ],
          "contour": [
           {
            "colorbar": {
             "outlinewidth": 0,
             "ticks": ""
            },
            "colorscale": [
             [
              0,
              "#0d0887"
             ],
             [
              0.1111111111111111,
              "#46039f"
             ],
             [
              0.2222222222222222,
              "#7201a8"
             ],
             [
              0.3333333333333333,
              "#9c179e"
             ],
             [
              0.4444444444444444,
              "#bd3786"
             ],
             [
              0.5555555555555556,
              "#d8576b"
             ],
             [
              0.6666666666666666,
              "#ed7953"
             ],
             [
              0.7777777777777778,
              "#fb9f3a"
             ],
             [
              0.8888888888888888,
              "#fdca26"
             ],
             [
              1,
              "#f0f921"
             ]
            ],
            "type": "contour"
           }
          ],
          "contourcarpet": [
           {
            "colorbar": {
             "outlinewidth": 0,
             "ticks": ""
            },
            "type": "contourcarpet"
           }
          ],
          "heatmap": [
           {
            "colorbar": {
             "outlinewidth": 0,
             "ticks": ""
            },
            "colorscale": [
             [
              0,
              "#0d0887"
             ],
             [
              0.1111111111111111,
              "#46039f"
             ],
             [
              0.2222222222222222,
              "#7201a8"
             ],
             [
              0.3333333333333333,
              "#9c179e"
             ],
             [
              0.4444444444444444,
              "#bd3786"
             ],
             [
              0.5555555555555556,
              "#d8576b"
             ],
             [
              0.6666666666666666,
              "#ed7953"
             ],
             [
              0.7777777777777778,
              "#fb9f3a"
             ],
             [
              0.8888888888888888,
              "#fdca26"
             ],
             [
              1,
              "#f0f921"
             ]
            ],
            "type": "heatmap"
           }
          ],
          "histogram": [
           {
            "marker": {
             "pattern": {
              "fillmode": "overlay",
              "size": 10,
              "solidity": 0.2
             }
            },
            "type": "histogram"
           }
          ],
          "histogram2d": [
           {
            "colorbar": {
             "outlinewidth": 0,
             "ticks": ""
            },
            "colorscale": [
             [
              0,
              "#0d0887"
             ],
             [
              0.1111111111111111,
              "#46039f"
             ],
             [
              0.2222222222222222,
              "#7201a8"
             ],
             [
              0.3333333333333333,
              "#9c179e"
             ],
             [
              0.4444444444444444,
              "#bd3786"
             ],
             [
              0.5555555555555556,
              "#d8576b"
             ],
             [
              0.6666666666666666,
              "#ed7953"
             ],
             [
              0.7777777777777778,
              "#fb9f3a"
             ],
             [
              0.8888888888888888,
              "#fdca26"
             ],
             [
              1,
              "#f0f921"
             ]
            ],
            "type": "histogram2d"
           }
          ],
          "histogram2dcontour": [
           {
            "colorbar": {
             "outlinewidth": 0,
             "ticks": ""
            },
            "colorscale": [
             [
              0,
              "#0d0887"
             ],
             [
              0.1111111111111111,
              "#46039f"
             ],
             [
              0.2222222222222222,
              "#7201a8"
             ],
             [
              0.3333333333333333,
              "#9c179e"
             ],
             [
              0.4444444444444444,
              "#bd3786"
             ],
             [
              0.5555555555555556,
              "#d8576b"
             ],
             [
              0.6666666666666666,
              "#ed7953"
             ],
             [
              0.7777777777777778,
              "#fb9f3a"
             ],
             [
              0.8888888888888888,
              "#fdca26"
             ],
             [
              1,
              "#f0f921"
             ]
            ],
            "type": "histogram2dcontour"
           }
          ],
          "mesh3d": [
           {
            "colorbar": {
             "outlinewidth": 0,
             "ticks": ""
            },
            "type": "mesh3d"
           }
          ],
          "parcoords": [
           {
            "line": {
             "colorbar": {
              "outlinewidth": 0,
              "ticks": ""
             }
            },
            "type": "parcoords"
           }
          ],
          "pie": [
           {
            "automargin": true,
            "type": "pie"
           }
          ],
          "scatter": [
           {
            "fillpattern": {
             "fillmode": "overlay",
             "size": 10,
             "solidity": 0.2
            },
            "type": "scatter"
           }
          ],
          "scatter3d": [
           {
            "line": {
             "colorbar": {
              "outlinewidth": 0,
              "ticks": ""
             }
            },
            "marker": {
             "colorbar": {
              "outlinewidth": 0,
              "ticks": ""
             }
            },
            "type": "scatter3d"
           }
          ],
          "scattercarpet": [
           {
            "marker": {
             "colorbar": {
              "outlinewidth": 0,
              "ticks": ""
             }
            },
            "type": "scattercarpet"
           }
          ],
          "scattergeo": [
           {
            "marker": {
             "colorbar": {
              "outlinewidth": 0,
              "ticks": ""
             }
            },
            "type": "scattergeo"
           }
          ],
          "scattergl": [
           {
            "marker": {
             "colorbar": {
              "outlinewidth": 0,
              "ticks": ""
             }
            },
            "type": "scattergl"
           }
          ],
          "scattermap": [
           {
            "marker": {
             "colorbar": {
              "outlinewidth": 0,
              "ticks": ""
             }
            },
            "type": "scattermap"
           }
          ],
          "scattermapbox": [
           {
            "marker": {
             "colorbar": {
              "outlinewidth": 0,
              "ticks": ""
             }
            },
            "type": "scattermapbox"
           }
          ],
          "scatterpolar": [
           {
            "marker": {
             "colorbar": {
              "outlinewidth": 0,
              "ticks": ""
             }
            },
            "type": "scatterpolar"
           }
          ],
          "scatterpolargl": [
           {
            "marker": {
             "colorbar": {
              "outlinewidth": 0,
              "ticks": ""
             }
            },
            "type": "scatterpolargl"
           }
          ],
          "scatterternary": [
           {
            "marker": {
             "colorbar": {
              "outlinewidth": 0,
              "ticks": ""
             }
            },
            "type": "scatterternary"
           }
          ],
          "surface": [
           {
            "colorbar": {
             "outlinewidth": 0,
             "ticks": ""
            },
            "colorscale": [
             [
              0,
              "#0d0887"
             ],
             [
              0.1111111111111111,
              "#46039f"
             ],
             [
              0.2222222222222222,
              "#7201a8"
             ],
             [
              0.3333333333333333,
              "#9c179e"
             ],
             [
              0.4444444444444444,
              "#bd3786"
             ],
             [
              0.5555555555555556,
              "#d8576b"
             ],
             [
              0.6666666666666666,
              "#ed7953"
             ],
             [
              0.7777777777777778,
              "#fb9f3a"
             ],
             [
              0.8888888888888888,
              "#fdca26"
             ],
             [
              1,
              "#f0f921"
             ]
            ],
            "type": "surface"
           }
          ],
          "table": [
           {
            "cells": {
             "fill": {
              "color": "#EBF0F8"
             },
             "line": {
              "color": "white"
             }
            },
            "header": {
             "fill": {
              "color": "#C8D4E3"
             },
             "line": {
              "color": "white"
             }
            },
            "type": "table"
           }
          ]
         },
         "layout": {
          "annotationdefaults": {
           "arrowcolor": "#2a3f5f",
           "arrowhead": 0,
           "arrowwidth": 1
          },
          "autotypenumbers": "strict",
          "coloraxis": {
           "colorbar": {
            "outlinewidth": 0,
            "ticks": ""
           }
          },
          "colorscale": {
           "diverging": [
            [
             0,
             "#8e0152"
            ],
            [
             0.1,
             "#c51b7d"
            ],
            [
             0.2,
             "#de77ae"
            ],
            [
             0.3,
             "#f1b6da"
            ],
            [
             0.4,
             "#fde0ef"
            ],
            [
             0.5,
             "#f7f7f7"
            ],
            [
             0.6,
             "#e6f5d0"
            ],
            [
             0.7,
             "#b8e186"
            ],
            [
             0.8,
             "#7fbc41"
            ],
            [
             0.9,
             "#4d9221"
            ],
            [
             1,
             "#276419"
            ]
           ],
           "sequential": [
            [
             0,
             "#0d0887"
            ],
            [
             0.1111111111111111,
             "#46039f"
            ],
            [
             0.2222222222222222,
             "#7201a8"
            ],
            [
             0.3333333333333333,
             "#9c179e"
            ],
            [
             0.4444444444444444,
             "#bd3786"
            ],
            [
             0.5555555555555556,
             "#d8576b"
            ],
            [
             0.6666666666666666,
             "#ed7953"
            ],
            [
             0.7777777777777778,
             "#fb9f3a"
            ],
            [
             0.8888888888888888,
             "#fdca26"
            ],
            [
             1,
             "#f0f921"
            ]
           ],
           "sequentialminus": [
            [
             0,
             "#0d0887"
            ],
            [
             0.1111111111111111,
             "#46039f"
            ],
            [
             0.2222222222222222,
             "#7201a8"
            ],
            [
             0.3333333333333333,
             "#9c179e"
            ],
            [
             0.4444444444444444,
             "#bd3786"
            ],
            [
             0.5555555555555556,
             "#d8576b"
            ],
            [
             0.6666666666666666,
             "#ed7953"
            ],
            [
             0.7777777777777778,
             "#fb9f3a"
            ],
            [
             0.8888888888888888,
             "#fdca26"
            ],
            [
             1,
             "#f0f921"
            ]
           ]
          },
          "colorway": [
           "#636efa",
           "#EF553B",
           "#00cc96",
           "#ab63fa",
           "#FFA15A",
           "#19d3f3",
           "#FF6692",
           "#B6E880",
           "#FF97FF",
           "#FECB52"
          ],
          "font": {
           "color": "#2a3f5f"
          },
          "geo": {
           "bgcolor": "white",
           "lakecolor": "white",
           "landcolor": "#E5ECF6",
           "showlakes": true,
           "showland": true,
           "subunitcolor": "white"
          },
          "hoverlabel": {
           "align": "left"
          },
          "hovermode": "closest",
          "mapbox": {
           "style": "light"
          },
          "paper_bgcolor": "white",
          "plot_bgcolor": "#E5ECF6",
          "polar": {
           "angularaxis": {
            "gridcolor": "white",
            "linecolor": "white",
            "ticks": ""
           },
           "bgcolor": "#E5ECF6",
           "radialaxis": {
            "gridcolor": "white",
            "linecolor": "white",
            "ticks": ""
           }
          },
          "scene": {
           "xaxis": {
            "backgroundcolor": "#E5ECF6",
            "gridcolor": "white",
            "gridwidth": 2,
            "linecolor": "white",
            "showbackground": true,
            "ticks": "",
            "zerolinecolor": "white"
           },
           "yaxis": {
            "backgroundcolor": "#E5ECF6",
            "gridcolor": "white",
            "gridwidth": 2,
            "linecolor": "white",
            "showbackground": true,
            "ticks": "",
            "zerolinecolor": "white"
           },
           "zaxis": {
            "backgroundcolor": "#E5ECF6",
            "gridcolor": "white",
            "gridwidth": 2,
            "linecolor": "white",
            "showbackground": true,
            "ticks": "",
            "zerolinecolor": "white"
           }
          },
          "shapedefaults": {
           "line": {
            "color": "#2a3f5f"
           }
          },
          "ternary": {
           "aaxis": {
            "gridcolor": "white",
            "linecolor": "white",
            "ticks": ""
           },
           "baxis": {
            "gridcolor": "white",
            "linecolor": "white",
            "ticks": ""
           },
           "bgcolor": "#E5ECF6",
           "caxis": {
            "gridcolor": "white",
            "linecolor": "white",
            "ticks": ""
           }
          },
          "title": {
           "x": 0.05
          },
          "xaxis": {
           "automargin": true,
           "gridcolor": "white",
           "linecolor": "white",
           "ticks": "",
           "title": {
            "standoff": 15
           },
           "zerolinecolor": "white",
           "zerolinewidth": 2
          },
          "yaxis": {
           "automargin": true,
           "gridcolor": "white",
           "linecolor": "white",
           "ticks": "",
           "title": {
            "standoff": 15
           },
           "zerolinecolor": "white",
           "zerolinewidth": 2
          }
         }
        },
        "title": {
         "text": "Trajectoire vraie vs Observée (Filtrage de Kalman - données synthétiques)"
        },
        "width": 800,
        "xaxis": {
         "title": {
          "text": "Position x"
         }
        },
        "yaxis": {
         "title": {
          "text": "Position y"
         }
        }
       }
      }
     },
     "metadata": {},
     "output_type": "display_data"
    }
   ],
   "source": [
    "#Visualisation de la trajectoire et des observations\n",
    "fig = go.Figure()\n",
    "\n",
    "# Trajectoire vraie\n",
    "fig.add_trace(go.Scatter(\n",
    "    x=x[0], y=x[2],\n",
    "    mode='lines+markers',\n",
    "    name='Trajectoire vraie',\n",
    "    line=dict(color='blue')\n",
    "))\n",
    "\n",
    "# Trajectoire observée\n",
    "fig.add_trace(go.Scatter(\n",
    "    x=y[0], y=y[1],\n",
    "    mode='markers',\n",
    "    name='Observations bruitées',\n",
    "    marker=dict(color='red', size=6, symbol='circle')\n",
    "))\n",
    "\n",
    "fig.update_layout(\n",
    "    title='Trajectoire vraie vs Observée (Filtrage de Kalman - données synthétiques)',\n",
    "    xaxis_title='Position x',\n",
    "    yaxis_title='Position y',\n",
    "    legend=dict(x=0, y=1),\n",
    "    width=800,\n",
    "    height=600\n",
    ")\n",
    "\n",
    "fig.show()"
   ]
  },
  {
   "cell_type": "code",
   "execution_count": 105,
   "id": "31f22665",
   "metadata": {},
   "outputs": [],
   "source": [
    "def filtre_de_kalman(F, Q, H, R, y_k, x_kalm_prec, P_kalm_prec):\n",
    "    \"\"\"\n",
    "    Effectue une itération du filtre de Kalman (prédiction + mise à jour).\n",
    "\n",
    "    Entrées :\n",
    "    - F : matrice de transition (4x4)\n",
    "    - Q : matrice de covariance du bruit de processus (4x4)\n",
    "    - H : matrice d’observation (2x4)\n",
    "    - R : matrice de covariance du bruit de mesure (2x2)\n",
    "    - y_k : observation actuelle (2,)\n",
    "    - x_kalm_prec : estimation précédente de l’état (4,)\n",
    "    - P_kalm_prec : estimation précédente de la covariance (4x4)\n",
    "\n",
    "    Sorties :\n",
    "    - x_kalm_k : estimation actuelle de l’état (4,)\n",
    "    - P_kalm_k : covariance actuelle de l’état (4x4)\n",
    "    \"\"\"\n",
    "\n",
    "    # === Étape 1 : Prédiction ===\n",
    "    x_pred = F @ x_kalm_prec\n",
    "    P_pred = F @ P_kalm_prec @ F.T + Q\n",
    "\n",
    "    # === Étape 2 : Gain de Kalman ===\n",
    "    S = H @ P_pred @ H.T + R                # Matrice d’innovation\n",
    "    K = P_pred @ H.T @ np.linalg.inv(S)     # Gain de Kalman\n",
    "\n",
    "    # === Étape 3 : Mise à jour ===\n",
    "    y_pred = H @ x_pred                     # observation prédite\n",
    "    innovation = y_k - y_pred               # différence entre observation réelle et prédite\n",
    "\n",
    "    x_kalm_k = x_pred + K @ innovation      # estimation corrigée\n",
    "    P_kalm_k = (np.eye(len(F)) - K @ H) @ P_pred  # mise à jour de la covariance\n",
    "\n",
    "    return x_kalm_k, P_kalm_k"
   ]
  },
  {
   "cell_type": "code",
   "execution_count": 106,
   "id": "8d5b50a2",
   "metadata": {},
   "outputs": [],
   "source": [
    "# --- Initialisation pour le filtrage récursif ---\n",
    "x_est = np.zeros((4, T))           # Pour mémoriser les états estimés x̂_{k|k}\n",
    "x_kalm_prec = x_init.copy()        # x̂_{0|0} : estimation initiale\n",
    "P_kalm_prec = np.eye(4)            # P_{0|0} : covariance initiale\n",
    "\n",
    "# --- Boucle principale de filtrage ---\n",
    "for k in range(T):\n",
    "    # Étape de filtrage de Kalman\n",
    "    x_kalm_k, P_kalm_k = filtre_de_kalman(F, Q, H, R, y[:, k], x_kalm_prec, P_kalm_prec)\n",
    "    \n",
    "    # Mémorisation de l’état estimé à l’instant k\n",
    "    x_est[:, k] = x_kalm_k\n",
    "    \n",
    "    # Mise à jour pour l’itération suivante\n",
    "    x_kalm_prec = x_kalm_k\n",
    "    P_kalm_prec = P_kalm_k\n"
   ]
  },
  {
   "cell_type": "code",
   "execution_count": 107,
   "id": "e3648792",
   "metadata": {},
   "outputs": [
    {
     "name": "stdout",
     "output_type": "stream",
     "text": [
      "Erreur quadratique moyenne : 23.8874\n"
     ]
    }
   ],
   "source": [
    "# --- Calcul de l’erreur quadratique à chaque instant ---\n",
    "err_quadra = np.zeros(T)\n",
    "\n",
    "for k in range(T):\n",
    "    diff = x[:, k] - x_est[:, k]\n",
    "    err_quadra[k] = diff.T @ diff   # ||x_k - x̂_k||^2\n",
    "\n",
    "# --- Moyenne de l’erreur quadratique (avec racine) ---\n",
    "erreur_moyenne = np.mean(np.sqrt(err_quadra))\n",
    "\n",
    "# --- Affichage du résultat ---\n",
    "print(f\"Erreur quadratique moyenne : {erreur_moyenne:.4f}\")\n"
   ]
  },
  {
   "cell_type": "code",
   "execution_count": 108,
   "id": "f68cf503",
   "metadata": {},
   "outputs": [
    {
     "data": {
      "application/vnd.plotly.v1+json": {
       "config": {
        "plotlyServerURL": "https://plot.ly"
       },
       "data": [
        {
         "line": {
          "color": "orange"
         },
         "mode": "lines",
         "name": "√Erreur quadratique instantanée",
         "type": "scatter",
         "x": {
          "bdata": "AAECAwQFBgcICQoLDA0ODxAREhMUFRYXGBkaGxwdHh8gISIjJCUmJygpKissLS4vMDEyMzQ1Njc4OTo7PD0+P0BBQkNERUZHSElKS0xNTk9QUVJTVFVWV1hZWltcXV5fYGFiYw==",
          "dtype": "i1"
         },
         "y": {
          "bdata": "+g1mjFZRRkDhJyJDt1VGQN0v9/KiiEVAuQukHEPWQ0CgxQ4JvpZBQAXThng4hD9A3WSdJtD3M0AonWW3IwgnQFaeK1s28iBAPdZnWBkSLUBxOjs61BknQOpP9vgnvBhAjFMd1jBGK0ATF8Y6XI4wQC4kDZkUcDpAjO1y58atQ0D8Lr/BF5BEQHd+UFvyEkVA71RMLu8DSEBTVKtPOPZLQI/M8mG8REpAqJnaDu6eTkDCb69+Hh1LQH8mFQfTCUlAJ0bwpPgfRkCOHzS9oYlBQIWl6NlejT1A/b5r+8ZyNUDum+grcz41QIpd7Bbh8TlAnl8GoBmROkA8alpHiiwzQKq29tWh2TJAnetTTXMXNEBsD/oB3IMqQKT7WthPvyxA0r6E1IbUJUCFKuCi/2U8QMde5t1We0NAtwnd45BUPUC3BlRHyHs8QCox94Jia0RARRZCbpkYREDNDer98/NCQHcYmt9KakRAs7bXd7GgQUBLfF8s3yNEQHoMHSjlXUFAdRKy5yNfMkDjP80JRawrQFEigcMsKixAScBYcOwfNED147lSwgcbQDVNj9TmiSNArRDDhY3mLEAwIH/C8zUuQBR7bCc6bjFAurSBMsUFMUDUr1sTDDQ2QPUl2k98fDNAFJIGGzjsPUA5g9UXMHxAQH8oyVn7KURAv7BD1/lMQkC3MWFiTBxDQBSJiXkemz1AKBdiLCkPO0D/KiCsUCA6QL7XxCl5IDNAYWiSobY4NkAi+59GR302QJJkisWc/iVA/1s1NvnoLUBNX7rKWeAxQHNlUIFS9B5APn8gqQfaD0Aafyi0nA4nQAD99jBhMSdAkm6C9j66MUBS+QNhIkEtQDm8vOwy0ypAoj4TihaNI0DFkBfX6dEAQEeNs0S2yhJAmXpGNt1HJkBWgMKcXsYDQKuLaIZ4FSNAjwevP/YHMEA0kaFEBjMtQEHUyTKzGidAfK63LQWdMEBMwLetzAIpQJdD9H5sWxJAEqk+Fz8EMkBXODkKWOgoQAciWZESdDVAnkM+Z7jvNEDqS90NhTAqQM6nNjMkDjZANalWBOghM0A=",
          "dtype": "f8"
         }
        },
        {
         "line": {
          "color": "red",
          "dash": "dash"
         },
         "mode": "lines",
         "name": "Erreur quadratique moyenne : 23.89",
         "type": "scatter",
         "x": {
          "bdata": "AAECAwQFBgcICQoLDA0ODxAREhMUFRYXGBkaGxwdHh8gISIjJCUmJygpKissLS4vMDEyMzQ1Njc4OTo7PD0+P0BBQkNERUZHSElKS0xNTk9QUVJTVFVWV1hZWltcXV5fYGFiYw==",
          "dtype": "i1"
         },
         "y": [
          23.887402959220907,
          23.887402959220907,
          23.887402959220907,
          23.887402959220907,
          23.887402959220907,
          23.887402959220907,
          23.887402959220907,
          23.887402959220907,
          23.887402959220907,
          23.887402959220907,
          23.887402959220907,
          23.887402959220907,
          23.887402959220907,
          23.887402959220907,
          23.887402959220907,
          23.887402959220907,
          23.887402959220907,
          23.887402959220907,
          23.887402959220907,
          23.887402959220907,
          23.887402959220907,
          23.887402959220907,
          23.887402959220907,
          23.887402959220907,
          23.887402959220907,
          23.887402959220907,
          23.887402959220907,
          23.887402959220907,
          23.887402959220907,
          23.887402959220907,
          23.887402959220907,
          23.887402959220907,
          23.887402959220907,
          23.887402959220907,
          23.887402959220907,
          23.887402959220907,
          23.887402959220907,
          23.887402959220907,
          23.887402959220907,
          23.887402959220907,
          23.887402959220907,
          23.887402959220907,
          23.887402959220907,
          23.887402959220907,
          23.887402959220907,
          23.887402959220907,
          23.887402959220907,
          23.887402959220907,
          23.887402959220907,
          23.887402959220907,
          23.887402959220907,
          23.887402959220907,
          23.887402959220907,
          23.887402959220907,
          23.887402959220907,
          23.887402959220907,
          23.887402959220907,
          23.887402959220907,
          23.887402959220907,
          23.887402959220907,
          23.887402959220907,
          23.887402959220907,
          23.887402959220907,
          23.887402959220907,
          23.887402959220907,
          23.887402959220907,
          23.887402959220907,
          23.887402959220907,
          23.887402959220907,
          23.887402959220907,
          23.887402959220907,
          23.887402959220907,
          23.887402959220907,
          23.887402959220907,
          23.887402959220907,
          23.887402959220907,
          23.887402959220907,
          23.887402959220907,
          23.887402959220907,
          23.887402959220907,
          23.887402959220907,
          23.887402959220907,
          23.887402959220907,
          23.887402959220907,
          23.887402959220907,
          23.887402959220907,
          23.887402959220907,
          23.887402959220907,
          23.887402959220907,
          23.887402959220907,
          23.887402959220907,
          23.887402959220907,
          23.887402959220907,
          23.887402959220907,
          23.887402959220907,
          23.887402959220907,
          23.887402959220907,
          23.887402959220907,
          23.887402959220907,
          23.887402959220907
         ]
        }
       ],
       "layout": {
        "grid": {
         "columns": 1,
         "rows": 1
        },
        "height": 500,
        "legend": {
         "x": 0,
         "y": 1
        },
        "template": {
         "data": {
          "bar": [
           {
            "error_x": {
             "color": "#2a3f5f"
            },
            "error_y": {
             "color": "#2a3f5f"
            },
            "marker": {
             "line": {
              "color": "#E5ECF6",
              "width": 0.5
             },
             "pattern": {
              "fillmode": "overlay",
              "size": 10,
              "solidity": 0.2
             }
            },
            "type": "bar"
           }
          ],
          "barpolar": [
           {
            "marker": {
             "line": {
              "color": "#E5ECF6",
              "width": 0.5
             },
             "pattern": {
              "fillmode": "overlay",
              "size": 10,
              "solidity": 0.2
             }
            },
            "type": "barpolar"
           }
          ],
          "carpet": [
           {
            "aaxis": {
             "endlinecolor": "#2a3f5f",
             "gridcolor": "white",
             "linecolor": "white",
             "minorgridcolor": "white",
             "startlinecolor": "#2a3f5f"
            },
            "baxis": {
             "endlinecolor": "#2a3f5f",
             "gridcolor": "white",
             "linecolor": "white",
             "minorgridcolor": "white",
             "startlinecolor": "#2a3f5f"
            },
            "type": "carpet"
           }
          ],
          "choropleth": [
           {
            "colorbar": {
             "outlinewidth": 0,
             "ticks": ""
            },
            "type": "choropleth"
           }
          ],
          "contour": [
           {
            "colorbar": {
             "outlinewidth": 0,
             "ticks": ""
            },
            "colorscale": [
             [
              0,
              "#0d0887"
             ],
             [
              0.1111111111111111,
              "#46039f"
             ],
             [
              0.2222222222222222,
              "#7201a8"
             ],
             [
              0.3333333333333333,
              "#9c179e"
             ],
             [
              0.4444444444444444,
              "#bd3786"
             ],
             [
              0.5555555555555556,
              "#d8576b"
             ],
             [
              0.6666666666666666,
              "#ed7953"
             ],
             [
              0.7777777777777778,
              "#fb9f3a"
             ],
             [
              0.8888888888888888,
              "#fdca26"
             ],
             [
              1,
              "#f0f921"
             ]
            ],
            "type": "contour"
           }
          ],
          "contourcarpet": [
           {
            "colorbar": {
             "outlinewidth": 0,
             "ticks": ""
            },
            "type": "contourcarpet"
           }
          ],
          "heatmap": [
           {
            "colorbar": {
             "outlinewidth": 0,
             "ticks": ""
            },
            "colorscale": [
             [
              0,
              "#0d0887"
             ],
             [
              0.1111111111111111,
              "#46039f"
             ],
             [
              0.2222222222222222,
              "#7201a8"
             ],
             [
              0.3333333333333333,
              "#9c179e"
             ],
             [
              0.4444444444444444,
              "#bd3786"
             ],
             [
              0.5555555555555556,
              "#d8576b"
             ],
             [
              0.6666666666666666,
              "#ed7953"
             ],
             [
              0.7777777777777778,
              "#fb9f3a"
             ],
             [
              0.8888888888888888,
              "#fdca26"
             ],
             [
              1,
              "#f0f921"
             ]
            ],
            "type": "heatmap"
           }
          ],
          "histogram": [
           {
            "marker": {
             "pattern": {
              "fillmode": "overlay",
              "size": 10,
              "solidity": 0.2
             }
            },
            "type": "histogram"
           }
          ],
          "histogram2d": [
           {
            "colorbar": {
             "outlinewidth": 0,
             "ticks": ""
            },
            "colorscale": [
             [
              0,
              "#0d0887"
             ],
             [
              0.1111111111111111,
              "#46039f"
             ],
             [
              0.2222222222222222,
              "#7201a8"
             ],
             [
              0.3333333333333333,
              "#9c179e"
             ],
             [
              0.4444444444444444,
              "#bd3786"
             ],
             [
              0.5555555555555556,
              "#d8576b"
             ],
             [
              0.6666666666666666,
              "#ed7953"
             ],
             [
              0.7777777777777778,
              "#fb9f3a"
             ],
             [
              0.8888888888888888,
              "#fdca26"
             ],
             [
              1,
              "#f0f921"
             ]
            ],
            "type": "histogram2d"
           }
          ],
          "histogram2dcontour": [
           {
            "colorbar": {
             "outlinewidth": 0,
             "ticks": ""
            },
            "colorscale": [
             [
              0,
              "#0d0887"
             ],
             [
              0.1111111111111111,
              "#46039f"
             ],
             [
              0.2222222222222222,
              "#7201a8"
             ],
             [
              0.3333333333333333,
              "#9c179e"
             ],
             [
              0.4444444444444444,
              "#bd3786"
             ],
             [
              0.5555555555555556,
              "#d8576b"
             ],
             [
              0.6666666666666666,
              "#ed7953"
             ],
             [
              0.7777777777777778,
              "#fb9f3a"
             ],
             [
              0.8888888888888888,
              "#fdca26"
             ],
             [
              1,
              "#f0f921"
             ]
            ],
            "type": "histogram2dcontour"
           }
          ],
          "mesh3d": [
           {
            "colorbar": {
             "outlinewidth": 0,
             "ticks": ""
            },
            "type": "mesh3d"
           }
          ],
          "parcoords": [
           {
            "line": {
             "colorbar": {
              "outlinewidth": 0,
              "ticks": ""
             }
            },
            "type": "parcoords"
           }
          ],
          "pie": [
           {
            "automargin": true,
            "type": "pie"
           }
          ],
          "scatter": [
           {
            "fillpattern": {
             "fillmode": "overlay",
             "size": 10,
             "solidity": 0.2
            },
            "type": "scatter"
           }
          ],
          "scatter3d": [
           {
            "line": {
             "colorbar": {
              "outlinewidth": 0,
              "ticks": ""
             }
            },
            "marker": {
             "colorbar": {
              "outlinewidth": 0,
              "ticks": ""
             }
            },
            "type": "scatter3d"
           }
          ],
          "scattercarpet": [
           {
            "marker": {
             "colorbar": {
              "outlinewidth": 0,
              "ticks": ""
             }
            },
            "type": "scattercarpet"
           }
          ],
          "scattergeo": [
           {
            "marker": {
             "colorbar": {
              "outlinewidth": 0,
              "ticks": ""
             }
            },
            "type": "scattergeo"
           }
          ],
          "scattergl": [
           {
            "marker": {
             "colorbar": {
              "outlinewidth": 0,
              "ticks": ""
             }
            },
            "type": "scattergl"
           }
          ],
          "scattermap": [
           {
            "marker": {
             "colorbar": {
              "outlinewidth": 0,
              "ticks": ""
             }
            },
            "type": "scattermap"
           }
          ],
          "scattermapbox": [
           {
            "marker": {
             "colorbar": {
              "outlinewidth": 0,
              "ticks": ""
             }
            },
            "type": "scattermapbox"
           }
          ],
          "scatterpolar": [
           {
            "marker": {
             "colorbar": {
              "outlinewidth": 0,
              "ticks": ""
             }
            },
            "type": "scatterpolar"
           }
          ],
          "scatterpolargl": [
           {
            "marker": {
             "colorbar": {
              "outlinewidth": 0,
              "ticks": ""
             }
            },
            "type": "scatterpolargl"
           }
          ],
          "scatterternary": [
           {
            "marker": {
             "colorbar": {
              "outlinewidth": 0,
              "ticks": ""
             }
            },
            "type": "scatterternary"
           }
          ],
          "surface": [
           {
            "colorbar": {
             "outlinewidth": 0,
             "ticks": ""
            },
            "colorscale": [
             [
              0,
              "#0d0887"
             ],
             [
              0.1111111111111111,
              "#46039f"
             ],
             [
              0.2222222222222222,
              "#7201a8"
             ],
             [
              0.3333333333333333,
              "#9c179e"
             ],
             [
              0.4444444444444444,
              "#bd3786"
             ],
             [
              0.5555555555555556,
              "#d8576b"
             ],
             [
              0.6666666666666666,
              "#ed7953"
             ],
             [
              0.7777777777777778,
              "#fb9f3a"
             ],
             [
              0.8888888888888888,
              "#fdca26"
             ],
             [
              1,
              "#f0f921"
             ]
            ],
            "type": "surface"
           }
          ],
          "table": [
           {
            "cells": {
             "fill": {
              "color": "#EBF0F8"
             },
             "line": {
              "color": "white"
             }
            },
            "header": {
             "fill": {
              "color": "#C8D4E3"
             },
             "line": {
              "color": "white"
             }
            },
            "type": "table"
           }
          ]
         },
         "layout": {
          "annotationdefaults": {
           "arrowcolor": "#2a3f5f",
           "arrowhead": 0,
           "arrowwidth": 1
          },
          "autotypenumbers": "strict",
          "coloraxis": {
           "colorbar": {
            "outlinewidth": 0,
            "ticks": ""
           }
          },
          "colorscale": {
           "diverging": [
            [
             0,
             "#8e0152"
            ],
            [
             0.1,
             "#c51b7d"
            ],
            [
             0.2,
             "#de77ae"
            ],
            [
             0.3,
             "#f1b6da"
            ],
            [
             0.4,
             "#fde0ef"
            ],
            [
             0.5,
             "#f7f7f7"
            ],
            [
             0.6,
             "#e6f5d0"
            ],
            [
             0.7,
             "#b8e186"
            ],
            [
             0.8,
             "#7fbc41"
            ],
            [
             0.9,
             "#4d9221"
            ],
            [
             1,
             "#276419"
            ]
           ],
           "sequential": [
            [
             0,
             "#0d0887"
            ],
            [
             0.1111111111111111,
             "#46039f"
            ],
            [
             0.2222222222222222,
             "#7201a8"
            ],
            [
             0.3333333333333333,
             "#9c179e"
            ],
            [
             0.4444444444444444,
             "#bd3786"
            ],
            [
             0.5555555555555556,
             "#d8576b"
            ],
            [
             0.6666666666666666,
             "#ed7953"
            ],
            [
             0.7777777777777778,
             "#fb9f3a"
            ],
            [
             0.8888888888888888,
             "#fdca26"
            ],
            [
             1,
             "#f0f921"
            ]
           ],
           "sequentialminus": [
            [
             0,
             "#0d0887"
            ],
            [
             0.1111111111111111,
             "#46039f"
            ],
            [
             0.2222222222222222,
             "#7201a8"
            ],
            [
             0.3333333333333333,
             "#9c179e"
            ],
            [
             0.4444444444444444,
             "#bd3786"
            ],
            [
             0.5555555555555556,
             "#d8576b"
            ],
            [
             0.6666666666666666,
             "#ed7953"
            ],
            [
             0.7777777777777778,
             "#fb9f3a"
            ],
            [
             0.8888888888888888,
             "#fdca26"
            ],
            [
             1,
             "#f0f921"
            ]
           ]
          },
          "colorway": [
           "#636efa",
           "#EF553B",
           "#00cc96",
           "#ab63fa",
           "#FFA15A",
           "#19d3f3",
           "#FF6692",
           "#B6E880",
           "#FF97FF",
           "#FECB52"
          ],
          "font": {
           "color": "#2a3f5f"
          },
          "geo": {
           "bgcolor": "white",
           "lakecolor": "white",
           "landcolor": "#E5ECF6",
           "showlakes": true,
           "showland": true,
           "subunitcolor": "white"
          },
          "hoverlabel": {
           "align": "left"
          },
          "hovermode": "closest",
          "mapbox": {
           "style": "light"
          },
          "paper_bgcolor": "white",
          "plot_bgcolor": "#E5ECF6",
          "polar": {
           "angularaxis": {
            "gridcolor": "white",
            "linecolor": "white",
            "ticks": ""
           },
           "bgcolor": "#E5ECF6",
           "radialaxis": {
            "gridcolor": "white",
            "linecolor": "white",
            "ticks": ""
           }
          },
          "scene": {
           "xaxis": {
            "backgroundcolor": "#E5ECF6",
            "gridcolor": "white",
            "gridwidth": 2,
            "linecolor": "white",
            "showbackground": true,
            "ticks": "",
            "zerolinecolor": "white"
           },
           "yaxis": {
            "backgroundcolor": "#E5ECF6",
            "gridcolor": "white",
            "gridwidth": 2,
            "linecolor": "white",
            "showbackground": true,
            "ticks": "",
            "zerolinecolor": "white"
           },
           "zaxis": {
            "backgroundcolor": "#E5ECF6",
            "gridcolor": "white",
            "gridwidth": 2,
            "linecolor": "white",
            "showbackground": true,
            "ticks": "",
            "zerolinecolor": "white"
           }
          },
          "shapedefaults": {
           "line": {
            "color": "#2a3f5f"
           }
          },
          "ternary": {
           "aaxis": {
            "gridcolor": "white",
            "linecolor": "white",
            "ticks": ""
           },
           "baxis": {
            "gridcolor": "white",
            "linecolor": "white",
            "ticks": ""
           },
           "bgcolor": "#E5ECF6",
           "caxis": {
            "gridcolor": "white",
            "linecolor": "white",
            "ticks": ""
           }
          },
          "title": {
           "x": 0.05
          },
          "xaxis": {
           "automargin": true,
           "gridcolor": "white",
           "linecolor": "white",
           "ticks": "",
           "title": {
            "standoff": 15
           },
           "zerolinecolor": "white",
           "zerolinewidth": 2
          },
          "yaxis": {
           "automargin": true,
           "gridcolor": "white",
           "linecolor": "white",
           "ticks": "",
           "title": {
            "standoff": 15
           },
           "zerolinecolor": "white",
           "zerolinewidth": 2
          }
         }
        },
        "title": {
         "text": "Erreur quadratique (racine) au fil du temps"
        },
        "width": 800,
        "xaxis": {
         "title": {
          "text": "Temps k"
         }
        },
        "yaxis": {
         "title": {
          "text": "√Erreur quadratique"
         }
        }
       }
      }
     },
     "metadata": {},
     "output_type": "display_data"
    }
   ],
   "source": [
    "# --- Courbe d'erreur quadratique moyenne instantanée ---\n",
    "fig = go.Figure()\n",
    "\n",
    "# Courbe des √erreurs à chaque instant\n",
    "fig.add_trace(go.Scatter(\n",
    "    y=np.sqrt(err_quadra),\n",
    "    x=np.arange(T),\n",
    "    mode='lines',\n",
    "    name='√Erreur quadratique instantanée',\n",
    "    line=dict(color='orange')\n",
    "))\n",
    "\n",
    "# Ligne horizontale = erreur moyenne\n",
    "fig.add_trace(go.Scatter(\n",
    "    y=[erreur_moyenne] * T,\n",
    "    x=np.arange(T),\n",
    "    mode='lines',\n",
    "    name=f'Erreur quadratique moyenne : {erreur_moyenne:.2f}',\n",
    "    line=dict(dash='dash', color='red')\n",
    "))\n",
    "\n",
    "fig.update_layout(\n",
    "    title=\"Erreur quadratique (racine) au fil du temps\",\n",
    "    xaxis_title=\"Temps k\",\n",
    "    yaxis_title=\"√Erreur quadratique\",\n",
    "    legend=dict(x=0, y=1),\n",
    "    width=800,\n",
    "    height=500,\n",
    "    grid=dict(rows=1, columns=1)\n",
    ")\n",
    "\n",
    "fig.show()"
   ]
  },
  {
   "cell_type": "code",
   "execution_count": 109,
   "id": "a758810f",
   "metadata": {},
   "outputs": [
    {
     "data": {
      "application/vnd.plotly.v1+json": {
       "config": {
        "plotlyServerURL": "https://plot.ly"
       },
       "data": [
        {
         "line": {
          "color": "blue"
         },
         "mode": "lines",
         "name": "Position vraie x",
         "type": "scatter",
         "x": {
          "bdata": "AAECAwQFBgcICQoLDA0ODxAREhMUFRYXGBkaGxwdHh8gISIjJCUmJygpKissLS4vMDEyMzQ1Njc4OTo7PD0+P0BBQkNERUZHSElKS0xNTk9QUVJTVFVWV1hZWltcXV5fYGFiYw==",
          "dtype": "i1"
         },
         "y": {
          "bdata": "AAAAAAAACEDC34vykX9FQDBF8p4kwVRAUEtx0POwXkDqmyltvU5kQA9epqusPGlAmq3HeCIvbkAZRd/VaYVxQPAL8dAo8nNA082gD6FYdkAhXeSVTuF4QCep0jCse3tAWNzqnj8YfkDvGMz7IVSAQHE3GYAnnIFAsg3qkqrsgkAbjY451T+EQHhiojCnmIVA7qFJDtT0hkBmANC1d1aIQIbkczyru4lAHxYIMsIii0B+46F6dYuMQN9IpfdA7o1Av9bC6ttTj0ASEJdxImSQQIXXjHegHpFAKAhb0s/XkUD8fZsWWZOSQPqmf77iU5NAhOype4MRlEAZRJ8ThseUQC8QTd8HdpVAG8pbCEEhlkAbdQAIh8yWQObepxO+dZdAqc8Vz4MdmEAnc7edM8eYQCvfZBO3bplAvcO/vEQWmkDzplz85r+aQO1UqV9kaJtAgni7M8kLnEDszD3tlK+cQAGRScyCU51Atv4NH6v6nUD9qSJyb56eQFiZx2GdPZ9AyNWyKG/dn0DW5qr3nz+gQAN9hoielKBAueWZv4LooEDEasP8ZzqhQLK3bdk+jKFABESc1KvgoUBnqahynzaiQIYXMCcLjqJAbpuA/NvlokA0a9iwm0CjQKM8sadLnaNAk/BWHEf7o0DsySwppVmkQA800uw4uqRAy4G1hIwcpUAuCDOD+IClQGV/bzvW5aVAwLIqmMVJpkCQLtyjg66mQEuR3tTbE6dA2BMwFlt4p0DWYWM69t6nQLYlBXhORahAd+kKPlSuqEAZIf5GlRapQAF9JtjKfqlA5+uaeUfoqUBLNl0MiFOqQAQCrHDqvqpAObOgqIYrq0CQtlBVq5arQC0oy7kfBaxAvTDDT5l1rEDr0bClc+OsQKCBBNYpUa1AeaB93jHArUAPFSwgFi2uQEwVDG0cmK5Awj4i7MYDr0Cz8hv3r2+vQO8Gortl369AUZWhLsMosEA6weYAP2KwQDSMI4fCnbBALnc5vHDZsEBHRXQJARWxQFZ5zRPBT7FAf3YqhiaLsUCsEGoyn8axQA8nKqMiArJALDXC0Wk+skA=",
          "dtype": "f8"
         }
        },
        {
         "marker": {
          "color": "red",
          "size": 4
         },
         "mode": "markers",
         "name": "Observation x",
         "type": "scatter",
         "x": {
          "bdata": "AAECAwQFBgcICQoLDA0ODxAREhMUFRYXGBkaGxwdHh8gISIjJCUmJygpKissLS4vMDEyMzQ1Njc4OTo7PD0+P0BBQkNERUZHSElKS0xNTk9QUVJTVFVWV1hZWltcXV5fYGFiYw==",
          "dtype": "i1"
         },
         "y": {
          "bdata": "jntUCbNNIkDWQajEX/xNQGLZyhYVtUdA1jSeRpEBVkBdS6zWPQlkQOrKpLhUd21Ay5N0t8s2aUCBggvctRpwQHPfoUy+L3RA4oTnS3OadkDui2nBag93QN5dHS4gSH5AdrgcvhRPfkC4upIxoK+AQLJD3oCm935AT8WOJyN0gUDul0lR/5CDQHfIUSNGTIVAoBGOxD9jhUB0MCz5KzCHQFP0+twgkYlArPIlMmJiiEDorG6G532MQM9vNZYvtI1A/aR0cvDAjkCLmvbvcaaQQOs3KC7hSpFAPc8bpwfdkUBDLDQqVZuSQPfGSsAlT5NAQNG4FS1ulEBk76Gpe5GVQEH5NIzpopVAhOscS/dGlkDW8go6EkSWQGRx8MU7ZpdAmJD4SYzdl0DvZZb5ifSZQLMYlF/cPZpA8Q96vFRymUCYt7OFeciaQKAWQNai2ptALLJwYjMqm0B2jcjPpS6dQFoJ7qbP5Z1Aa3jlh5txnUCZ3D8UUj+eQHR4vFi4/J9AMVcNagZHn0DD6IznIXKgQG1+5z1YfaBALQkABAXYoEDV5DuE2TehQFTZZ9JWRKFAF8/yHf25oUDRQlmZvz6iQDk+bmUslaJAfwkqWTf0okDa11zuYvWiQHOFtRv3qaNAImr92z/ao0DaAyRuIDekQG2hOkepeaRAlWMoEShBpUC8SDOwf5ilQGDQcyyJ8KVAUFGzaB48pkA/V44WbIKmQDolZ9KeM6dAFNxrRtFIp0CBZKnP8ManQLDnEvMClqhAjMUEV6qLqEATt9KKVAapQFATnOFPrKlA7WdNdoYWqkD0WQkD/BGqQFGM21120KpAneqf8Ss4q0BE1x2XgVarQN5AJO4+DqxAij4bAPKOrEDdoCnNpD+tQEkowUbbaK1A7BGa816wrUDR+4Uz0B2uQDlzHymebq5AePr88SO7rkDmNOYfMWGvQFsl42jVA7BAm+gszxkjsEAhZZgi1YywQORyB/HhqrBACO7Fm7+bsEBaTaeGTiqxQHNojaKbMrFAJP68u4KpsUBO4Sxwns+xQMJaX0aqyLFAjU4TFfVEskA=",
          "dtype": "f8"
         }
        },
        {
         "line": {
          "color": "green"
         },
         "mode": "lines",
         "name": "Estimation Kalman x",
         "type": "scatter",
         "x": {
          "bdata": "AAECAwQFBgcICQoLDA0ODxAREhMUFRYXGBkaGxwdHh8gISIjJCUmJygpKissLS4vMDEyMzQ1Njc4OTo7PD0+P0BBQkNERUZHSElKS0xNTk9QUVJTVFVWV1hZWltcXV5fYGFiYw==",
          "dtype": "i1"
         },
         "y": {
          "bdata": "xNvA48t0RUDunPrDc6pUQKKTo1H5PV5Aj6REk66qY0DKCoeb4SpoQFIld8CB8GxAfciXalRLcEAVGbjPbityQAAX0co2VHRA2R0Moy+IdkChaJrHeF94QF7grHEDVHtA3jzrFFe9fUBlVdKGQiiAQNTH+z0x54BAHnkCt93hgUDibbBveRqDQLrBz3K4c4RAk0mL+9+KhUD9pPxAqcmGQGuSsGqJTIhA7aA0f809iUD94Em0GN+KQFw8FFhrdIxA6y7PSUz0jUAduww427aPQPJivVPptJBAMCdF0KOCkUD7Hyb6h0+SQKqTh2D1GJNATWo0vG/3k0AHHIokDumUQFSSIG2hrJVAhs0z+b9olkDrccRla/iWQAG4fCgipJdAsuQfJRxCmEBtq2PI7TKZQOh7Cl1OA5pAT9J3KKt3mkAxFx+QwBebQKmDYNd4z5tAcJF2oZA1nECpXEPUHPKcQM3BZV01r51AAFX3oG4onkD5XtqShq+eQDNTpYfxeZ9ADrziJ8nwn0DDvMa/0lKgQCV0I+8knKBAsELKEIPooEAewoNH0zihQHHxpR2teaFAARthtPrEoUCyBq79CB2iQKm7qR61daJAfJuJWMDQokBmmWf5YRijQD3eg9zHd6NA961Wg+3No0AiFMij9yWkQEKPy6+deaRAuvEwtqDnpEAFZwOTGlOlQG8+r3gwvKVAAj+SSRggpkBzoVLPFX6mQKmmkiAj76ZAFnDJDUtNp0BcsXapl7KnQPOTkZiOMKhAZqdwpnmSqECHS2g/0/moQCOAFT7Lb6lA9Me+S9zkqUDx9dmXtT+qQKRYfdnjr6pAgcVY5Bgfq0C6/w3ConyrQAlT7VCV7atAkKs6eBJjrEA2PuLpUeesQHOK+YdwWa1A2QzJzlDCrUC6GOWCtCuuQAB2n9UXj65Acpiwk1PsrkBRzE5ysFivQF2ZHm6G0q9ANFvVLjYgsEDvvq0ozWKwQBR/Ar5OnrBAEktjeDLJsEC7Be+IbwmxQC7hbYDoPbFANDX8miqBsUD5ijYn+b6xQKtul+We7bFALmTuq9osskA=",
          "dtype": "f8"
         }
        }
       ],
       "layout": {
        "height": 400,
        "template": {
         "data": {
          "bar": [
           {
            "error_x": {
             "color": "#2a3f5f"
            },
            "error_y": {
             "color": "#2a3f5f"
            },
            "marker": {
             "line": {
              "color": "#E5ECF6",
              "width": 0.5
             },
             "pattern": {
              "fillmode": "overlay",
              "size": 10,
              "solidity": 0.2
             }
            },
            "type": "bar"
           }
          ],
          "barpolar": [
           {
            "marker": {
             "line": {
              "color": "#E5ECF6",
              "width": 0.5
             },
             "pattern": {
              "fillmode": "overlay",
              "size": 10,
              "solidity": 0.2
             }
            },
            "type": "barpolar"
           }
          ],
          "carpet": [
           {
            "aaxis": {
             "endlinecolor": "#2a3f5f",
             "gridcolor": "white",
             "linecolor": "white",
             "minorgridcolor": "white",
             "startlinecolor": "#2a3f5f"
            },
            "baxis": {
             "endlinecolor": "#2a3f5f",
             "gridcolor": "white",
             "linecolor": "white",
             "minorgridcolor": "white",
             "startlinecolor": "#2a3f5f"
            },
            "type": "carpet"
           }
          ],
          "choropleth": [
           {
            "colorbar": {
             "outlinewidth": 0,
             "ticks": ""
            },
            "type": "choropleth"
           }
          ],
          "contour": [
           {
            "colorbar": {
             "outlinewidth": 0,
             "ticks": ""
            },
            "colorscale": [
             [
              0,
              "#0d0887"
             ],
             [
              0.1111111111111111,
              "#46039f"
             ],
             [
              0.2222222222222222,
              "#7201a8"
             ],
             [
              0.3333333333333333,
              "#9c179e"
             ],
             [
              0.4444444444444444,
              "#bd3786"
             ],
             [
              0.5555555555555556,
              "#d8576b"
             ],
             [
              0.6666666666666666,
              "#ed7953"
             ],
             [
              0.7777777777777778,
              "#fb9f3a"
             ],
             [
              0.8888888888888888,
              "#fdca26"
             ],
             [
              1,
              "#f0f921"
             ]
            ],
            "type": "contour"
           }
          ],
          "contourcarpet": [
           {
            "colorbar": {
             "outlinewidth": 0,
             "ticks": ""
            },
            "type": "contourcarpet"
           }
          ],
          "heatmap": [
           {
            "colorbar": {
             "outlinewidth": 0,
             "ticks": ""
            },
            "colorscale": [
             [
              0,
              "#0d0887"
             ],
             [
              0.1111111111111111,
              "#46039f"
             ],
             [
              0.2222222222222222,
              "#7201a8"
             ],
             [
              0.3333333333333333,
              "#9c179e"
             ],
             [
              0.4444444444444444,
              "#bd3786"
             ],
             [
              0.5555555555555556,
              "#d8576b"
             ],
             [
              0.6666666666666666,
              "#ed7953"
             ],
             [
              0.7777777777777778,
              "#fb9f3a"
             ],
             [
              0.8888888888888888,
              "#fdca26"
             ],
             [
              1,
              "#f0f921"
             ]
            ],
            "type": "heatmap"
           }
          ],
          "histogram": [
           {
            "marker": {
             "pattern": {
              "fillmode": "overlay",
              "size": 10,
              "solidity": 0.2
             }
            },
            "type": "histogram"
           }
          ],
          "histogram2d": [
           {
            "colorbar": {
             "outlinewidth": 0,
             "ticks": ""
            },
            "colorscale": [
             [
              0,
              "#0d0887"
             ],
             [
              0.1111111111111111,
              "#46039f"
             ],
             [
              0.2222222222222222,
              "#7201a8"
             ],
             [
              0.3333333333333333,
              "#9c179e"
             ],
             [
              0.4444444444444444,
              "#bd3786"
             ],
             [
              0.5555555555555556,
              "#d8576b"
             ],
             [
              0.6666666666666666,
              "#ed7953"
             ],
             [
              0.7777777777777778,
              "#fb9f3a"
             ],
             [
              0.8888888888888888,
              "#fdca26"
             ],
             [
              1,
              "#f0f921"
             ]
            ],
            "type": "histogram2d"
           }
          ],
          "histogram2dcontour": [
           {
            "colorbar": {
             "outlinewidth": 0,
             "ticks": ""
            },
            "colorscale": [
             [
              0,
              "#0d0887"
             ],
             [
              0.1111111111111111,
              "#46039f"
             ],
             [
              0.2222222222222222,
              "#7201a8"
             ],
             [
              0.3333333333333333,
              "#9c179e"
             ],
             [
              0.4444444444444444,
              "#bd3786"
             ],
             [
              0.5555555555555556,
              "#d8576b"
             ],
             [
              0.6666666666666666,
              "#ed7953"
             ],
             [
              0.7777777777777778,
              "#fb9f3a"
             ],
             [
              0.8888888888888888,
              "#fdca26"
             ],
             [
              1,
              "#f0f921"
             ]
            ],
            "type": "histogram2dcontour"
           }
          ],
          "mesh3d": [
           {
            "colorbar": {
             "outlinewidth": 0,
             "ticks": ""
            },
            "type": "mesh3d"
           }
          ],
          "parcoords": [
           {
            "line": {
             "colorbar": {
              "outlinewidth": 0,
              "ticks": ""
             }
            },
            "type": "parcoords"
           }
          ],
          "pie": [
           {
            "automargin": true,
            "type": "pie"
           }
          ],
          "scatter": [
           {
            "fillpattern": {
             "fillmode": "overlay",
             "size": 10,
             "solidity": 0.2
            },
            "type": "scatter"
           }
          ],
          "scatter3d": [
           {
            "line": {
             "colorbar": {
              "outlinewidth": 0,
              "ticks": ""
             }
            },
            "marker": {
             "colorbar": {
              "outlinewidth": 0,
              "ticks": ""
             }
            },
            "type": "scatter3d"
           }
          ],
          "scattercarpet": [
           {
            "marker": {
             "colorbar": {
              "outlinewidth": 0,
              "ticks": ""
             }
            },
            "type": "scattercarpet"
           }
          ],
          "scattergeo": [
           {
            "marker": {
             "colorbar": {
              "outlinewidth": 0,
              "ticks": ""
             }
            },
            "type": "scattergeo"
           }
          ],
          "scattergl": [
           {
            "marker": {
             "colorbar": {
              "outlinewidth": 0,
              "ticks": ""
             }
            },
            "type": "scattergl"
           }
          ],
          "scattermap": [
           {
            "marker": {
             "colorbar": {
              "outlinewidth": 0,
              "ticks": ""
             }
            },
            "type": "scattermap"
           }
          ],
          "scattermapbox": [
           {
            "marker": {
             "colorbar": {
              "outlinewidth": 0,
              "ticks": ""
             }
            },
            "type": "scattermapbox"
           }
          ],
          "scatterpolar": [
           {
            "marker": {
             "colorbar": {
              "outlinewidth": 0,
              "ticks": ""
             }
            },
            "type": "scatterpolar"
           }
          ],
          "scatterpolargl": [
           {
            "marker": {
             "colorbar": {
              "outlinewidth": 0,
              "ticks": ""
             }
            },
            "type": "scatterpolargl"
           }
          ],
          "scatterternary": [
           {
            "marker": {
             "colorbar": {
              "outlinewidth": 0,
              "ticks": ""
             }
            },
            "type": "scatterternary"
           }
          ],
          "surface": [
           {
            "colorbar": {
             "outlinewidth": 0,
             "ticks": ""
            },
            "colorscale": [
             [
              0,
              "#0d0887"
             ],
             [
              0.1111111111111111,
              "#46039f"
             ],
             [
              0.2222222222222222,
              "#7201a8"
             ],
             [
              0.3333333333333333,
              "#9c179e"
             ],
             [
              0.4444444444444444,
              "#bd3786"
             ],
             [
              0.5555555555555556,
              "#d8576b"
             ],
             [
              0.6666666666666666,
              "#ed7953"
             ],
             [
              0.7777777777777778,
              "#fb9f3a"
             ],
             [
              0.8888888888888888,
              "#fdca26"
             ],
             [
              1,
              "#f0f921"
             ]
            ],
            "type": "surface"
           }
          ],
          "table": [
           {
            "cells": {
             "fill": {
              "color": "#EBF0F8"
             },
             "line": {
              "color": "white"
             }
            },
            "header": {
             "fill": {
              "color": "#C8D4E3"
             },
             "line": {
              "color": "white"
             }
            },
            "type": "table"
           }
          ]
         },
         "layout": {
          "annotationdefaults": {
           "arrowcolor": "#2a3f5f",
           "arrowhead": 0,
           "arrowwidth": 1
          },
          "autotypenumbers": "strict",
          "coloraxis": {
           "colorbar": {
            "outlinewidth": 0,
            "ticks": ""
           }
          },
          "colorscale": {
           "diverging": [
            [
             0,
             "#8e0152"
            ],
            [
             0.1,
             "#c51b7d"
            ],
            [
             0.2,
             "#de77ae"
            ],
            [
             0.3,
             "#f1b6da"
            ],
            [
             0.4,
             "#fde0ef"
            ],
            [
             0.5,
             "#f7f7f7"
            ],
            [
             0.6,
             "#e6f5d0"
            ],
            [
             0.7,
             "#b8e186"
            ],
            [
             0.8,
             "#7fbc41"
            ],
            [
             0.9,
             "#4d9221"
            ],
            [
             1,
             "#276419"
            ]
           ],
           "sequential": [
            [
             0,
             "#0d0887"
            ],
            [
             0.1111111111111111,
             "#46039f"
            ],
            [
             0.2222222222222222,
             "#7201a8"
            ],
            [
             0.3333333333333333,
             "#9c179e"
            ],
            [
             0.4444444444444444,
             "#bd3786"
            ],
            [
             0.5555555555555556,
             "#d8576b"
            ],
            [
             0.6666666666666666,
             "#ed7953"
            ],
            [
             0.7777777777777778,
             "#fb9f3a"
            ],
            [
             0.8888888888888888,
             "#fdca26"
            ],
            [
             1,
             "#f0f921"
            ]
           ],
           "sequentialminus": [
            [
             0,
             "#0d0887"
            ],
            [
             0.1111111111111111,
             "#46039f"
            ],
            [
             0.2222222222222222,
             "#7201a8"
            ],
            [
             0.3333333333333333,
             "#9c179e"
            ],
            [
             0.4444444444444444,
             "#bd3786"
            ],
            [
             0.5555555555555556,
             "#d8576b"
            ],
            [
             0.6666666666666666,
             "#ed7953"
            ],
            [
             0.7777777777777778,
             "#fb9f3a"
            ],
            [
             0.8888888888888888,
             "#fdca26"
            ],
            [
             1,
             "#f0f921"
            ]
           ]
          },
          "colorway": [
           "#636efa",
           "#EF553B",
           "#00cc96",
           "#ab63fa",
           "#FFA15A",
           "#19d3f3",
           "#FF6692",
           "#B6E880",
           "#FF97FF",
           "#FECB52"
          ],
          "font": {
           "color": "#2a3f5f"
          },
          "geo": {
           "bgcolor": "white",
           "lakecolor": "white",
           "landcolor": "#E5ECF6",
           "showlakes": true,
           "showland": true,
           "subunitcolor": "white"
          },
          "hoverlabel": {
           "align": "left"
          },
          "hovermode": "closest",
          "mapbox": {
           "style": "light"
          },
          "paper_bgcolor": "white",
          "plot_bgcolor": "#E5ECF6",
          "polar": {
           "angularaxis": {
            "gridcolor": "white",
            "linecolor": "white",
            "ticks": ""
           },
           "bgcolor": "#E5ECF6",
           "radialaxis": {
            "gridcolor": "white",
            "linecolor": "white",
            "ticks": ""
           }
          },
          "scene": {
           "xaxis": {
            "backgroundcolor": "#E5ECF6",
            "gridcolor": "white",
            "gridwidth": 2,
            "linecolor": "white",
            "showbackground": true,
            "ticks": "",
            "zerolinecolor": "white"
           },
           "yaxis": {
            "backgroundcolor": "#E5ECF6",
            "gridcolor": "white",
            "gridwidth": 2,
            "linecolor": "white",
            "showbackground": true,
            "ticks": "",
            "zerolinecolor": "white"
           },
           "zaxis": {
            "backgroundcolor": "#E5ECF6",
            "gridcolor": "white",
            "gridwidth": 2,
            "linecolor": "white",
            "showbackground": true,
            "ticks": "",
            "zerolinecolor": "white"
           }
          },
          "shapedefaults": {
           "line": {
            "color": "#2a3f5f"
           }
          },
          "ternary": {
           "aaxis": {
            "gridcolor": "white",
            "linecolor": "white",
            "ticks": ""
           },
           "baxis": {
            "gridcolor": "white",
            "linecolor": "white",
            "ticks": ""
           },
           "bgcolor": "#E5ECF6",
           "caxis": {
            "gridcolor": "white",
            "linecolor": "white",
            "ticks": ""
           }
          },
          "title": {
           "x": 0.05
          },
          "xaxis": {
           "automargin": true,
           "gridcolor": "white",
           "linecolor": "white",
           "ticks": "",
           "title": {
            "standoff": 15
           },
           "zerolinecolor": "white",
           "zerolinewidth": 2
          },
          "yaxis": {
           "automargin": true,
           "gridcolor": "white",
           "linecolor": "white",
           "ticks": "",
           "title": {
            "standoff": 15
           },
           "zerolinecolor": "white",
           "zerolinewidth": 2
          }
         }
        },
        "title": {
         "text": "Position en abscisse (x) dans le temps"
        },
        "width": 800,
        "xaxis": {
         "title": {
          "text": "Temps k"
         }
        },
        "yaxis": {
         "title": {
          "text": "Position x"
         }
        }
       }
      }
     },
     "metadata": {},
     "output_type": "display_data"
    },
    {
     "data": {
      "application/vnd.plotly.v1+json": {
       "config": {
        "plotlyServerURL": "https://plot.ly"
       },
       "data": [
        {
         "line": {
          "color": "blue"
         },
         "mode": "lines",
         "name": "Position vraie y",
         "type": "scatter",
         "x": {
          "bdata": "AAECAwQFBgcICQoLDA0ODxAREhMUFRYXGBkaGxwdHh8gISIjJCUmJygpKissLS4vMDEyMzQ1Njc4OTo7PD0+P0BBQkNERUZHSElKS0xNTk9QUVJTVFVWV1hZWltcXV5fYGFiYw==",
          "dtype": "i1"
         },
         "y": {
          "bdata": "AAAAAAAAEMDYuMkWFiEvQCzi7PJ5lkFAk97hZ0hAS0AziBkV0YpSQPePQcsLmFdAiOCqSOKOXEC0bos4DahgQMMUKGfT9mJAbvY20tppZUADEAmMgt5nQHvJyvMSVGpAJVkg422/bEAi2kRTGzlvQP4pEXVGxHBA8UUm8nH2cUBgkJZa+TxzQF6l5dExkHRA7m/dTiLhdUBq7X/gWEh3QJK70wtWsnhAgOaaQfUhekBPKFvP+Y17QOtLeK3M8XxAWN4yp8RafkCPfcXAorF/QDzvYBJ3gYBA7vJhXIorgUDZGQx3wOGBQFcnCOZ4noJAEo+8EtBbg0AUN2mSyRSEQLSle4zEzYRA3hgvuOOHhUCl6MT2ckqGQMNuiriIEYdAOtEL84/Oh0CX1XshAYWIQDVA+X+TOYlAzYCV0HDxiUCoeCV02aWKQFByIAurVotAkqOggeIFjEBwEQhQ8qqMQDxAdC4TTY1AkBAqExnyjUDOYFg+8JyOQDR8slIER49AFM/UPn/nj0CBvNFw2z+QQJ4UeKciiZBA/FCbaAzVkEAyj+FLdx+RQOkE+JRyZpFAcrHb3sKskUBLRyO94vKRQEVRe2ygQJJAEW+fMFOOkkBlN2mczNuSQG9jCztoKZNAPbDs7eZ5k0AMHosSasqTQBWyzkhhIJRAkzwB0oN3lEDxaNJOQ86UQHGP6GB3KJVAzWb4jJODlUBqfiJFj+CVQNt+bhbNPJZA43y6zmeVlkDWL2OXSO6WQOWO0aApS5dAzixsBFGml0CChOCJSv2XQFIh2gm2UJhAIXbXHJqkmEBdZP73nPmYQARsfJ+zS5lAyciNromgmUDyqBQ7i/SZQKBS4WX+S5pAoJKpZ7ikmkA4Jg549/maQHHr/WCtTptAPFt3Iyifm0CqNFWmqeqbQFcACuwzN5xA0W0pjhWEnECrOpn+LdCcQFI1JR/4HJ1As+S3l41tnUB2Qo4UYsKdQPr1aMYpFp5A/KazmNxpnkDZiekny7yeQHi3i/lVEZ9AAjsC9X5pn0BMaK6ddsWfQMEFgd3sEaBAYySq6GBCoEA=",
          "dtype": "f8"
         }
        },
        {
         "marker": {
          "color": "red",
          "size": 4
         },
         "mode": "markers",
         "name": "Observation y",
         "type": "scatter",
         "x": {
          "bdata": "AAECAwQFBgcICQoLDA0ODxAREhMUFRYXGBkaGxwdHh8gISIjJCUmJygpKissLS4vMDEyMzQ1Njc4OTo7PD0+P0BBQkNERUZHSElKS0xNTk9QUVJTVFVWV1hZWltcXV5fYGFiYw==",
          "dtype": "i1"
         },
         "y": {
          "bdata": "veUw4dy/IkBCzr/BVhdJQG0FSwpmOzlAd9UcYiycQ0DQjxie+VNMQKhi5nTlYU1AMepPneTkVUDrhf5Siy1eQBxQIvO98GFAHrZ1C2wDYUA7DYZOAPFtQDCs0WoH0mtAOGuX0A5RaECT4dZzYaBsQLvCCeCDAHFAnM2sgIFBb0Cr3a2ZkI9zQGYnAMCDiXNAWgVybE33dkAwHugGSnl0QOE1wMGkGHhA9QMNx0J9f0AtfJs3mZx6QNclG3fCD3pAuW1nN662gEC3zVu17AaBQDfzZM0XTIFABfyExXi1f0DIGXc7B3KDQBP9DiFRLIRA1NXqZm6DhEAnm+F67myDQJJk53TBhoRAMdA+zsgthUDuMbo8mkaFQFTZwIwv4YhA/F+odNq8h0Cq1ACB/wKJQEYHsrKdt4lAzvsj9eQNi0Dm9FWyKj6LQKgDMm6Efo1AcItyfZ6YjUCbDjFh156MQEr2i8bT2I1AA0m6ZsGTjkCLYHdcRiqQQG0Xp/dx/o5Agi3bg8y8jkC0zgFzrtCPQJ8NlDTH3JBAyOrBhyx1kUAD6pgZPGuQQG/rsHCXKpFAdkLNY0aMkUCr0ZLM926SQHFF/wcvIpFAnbHjaC58kkC3c+lABCaTQOrYeZpZoZNAbWwttoRZkkCUFLC8yZaTQJojk3nu4pNA8etvAiI3lEBLbLzyXkuUQB2i+oCxnpVA02EQPneilUBJjvMJeViWQAzyCU87d5ZAYqZHPoJ9lkB8ITacYDeXQJxI7habE5dAH13L2B2Al0DHrbBnxnyXQPExJY8l1JhA3g6t8qjDmEDSW4WirxGZQI1WDyujeZlA7AXMQcE1mkC14IA/kFSZQMAPwQGEq5lAMedpScPWmkAS0jQHbQObQD2PucSzbptAlKphJ04wnECmUMMNqTmbQDSwB80gnJxAphD0waSznECfnXK5f7OcQLdtZgOmJp1ALQDvGEnknUAbSFK8HNidQL/hwc2dmJ1ACZgxdW6wnkDLQCsDJraeQMagd4HdMJ5Adn9qLkP6nkByX58gzSWgQCt6p3ogNqBAPAColH9UoEA=",
          "dtype": "f8"
         }
        },
        {
         "line": {
          "color": "green"
         },
         "mode": "lines",
         "name": "Estimation Kalman y",
         "type": "scatter",
         "x": {
          "bdata": "AAECAwQFBgcICQoLDA0ODxAREhMUFRYXGBkaGxwdHh8gISIjJCUmJygpKissLS4vMDEyMzQ1Njc4OTo7PD0+P0BBQkNERUZHSElKS0xNTk9QUVJTVFVWV1hZWltcXV5fYGFiYw==",
          "dtype": "i1"
         },
         "y": {
          "bdata": "zR+icjr3L0AJyS+SugtCQA/5p49IwUtAw2GfDhd4UkCTAQpIjrRWQDvUa/X0KVpAoO8MjLp2XUBCuTS6Io5gQKgTJ2K2e2JAXF3+PTHSY0DBQetCj3VnQB7egrsqGmpAVlpVRZZya0CiRHkFrVptQFJLTiERAnBAh5+AFurCcECxk0fM/DFyQPbJzANSV3NAhXAXYRMBdUDFiyNpnMp1QF4YBLRfLXdAYUw5BqnweUDVmOR1BCV7QEdpIS8R8HtAUZzS3BIpfkCtLcjxJg+AQI8N/2j454BA0cWZ+cw+gUBiaXrRGkiCQISJAec7SINAMGul0KgohEAcP5kRZpmEQNkPbSHFJ4VA/Z5YXAa3hUD7sXfMTieGQObl+3ZfSYdAzi8rv97yh0ARvY/sbb6IQDFr+P3GholAQOYaQNpwikBCX4qcPzWLQANiRXJdUIxAoDZJSNk5jUCJiv5DJLiNQMliG2HnWI5AVCBmOt77jkAzvxrq0tyPQDWMnwYgIJBAT2a4xFc6kEBvG0NTimeQQP4lSn9ZvpBAnjEImPkkkUD6pg+VFDqRQC40bDHeb5FAp+G3YZ2tkUA3TBVw6w+SQBdjGU3pEpJAI02jg+dckkDw3KuVn72SQN5BogF1J5NAM5x7dy0yk0AED3QDT3yTQGRqJWOsx5NAq5ZZ99gVlEDL5sMd0FeUQD4xZlme15RA3Km8EAhBlUBZjBCBur6VQAcnGGJTK5ZAcYXc5NyClkC75/2KnvCWQOOiNyRVP5dAPB/NpYuTl0CA+631Q9OXQE4ZUbMWUJhAg3oE2p+wmEBL/DN9gQ2ZQEGVuFoHbZlASu5F4P3hmUBWTcNsjAuaQHjfmB4TOppAstOB5O6dmkDgrN545faaQEB13NlkVJtAgdMtLXHJm0CqK/wKvu6bQNNdkWXpVpxAuh30X8GunEA/wnNCuPKcQIZ4isSRP51AwhvOy1qlnUDkR7UlDfOdQBiwmEzUH55Aew70ciF+nkCCpeZev8meQFheL9dA5Z5AAHbUdgsjn0Amq11LWJ6fQMrN4+MLBaBA+41blwI3oEA=",
          "dtype": "f8"
         }
        }
       ],
       "layout": {
        "height": 400,
        "template": {
         "data": {
          "bar": [
           {
            "error_x": {
             "color": "#2a3f5f"
            },
            "error_y": {
             "color": "#2a3f5f"
            },
            "marker": {
             "line": {
              "color": "#E5ECF6",
              "width": 0.5
             },
             "pattern": {
              "fillmode": "overlay",
              "size": 10,
              "solidity": 0.2
             }
            },
            "type": "bar"
           }
          ],
          "barpolar": [
           {
            "marker": {
             "line": {
              "color": "#E5ECF6",
              "width": 0.5
             },
             "pattern": {
              "fillmode": "overlay",
              "size": 10,
              "solidity": 0.2
             }
            },
            "type": "barpolar"
           }
          ],
          "carpet": [
           {
            "aaxis": {
             "endlinecolor": "#2a3f5f",
             "gridcolor": "white",
             "linecolor": "white",
             "minorgridcolor": "white",
             "startlinecolor": "#2a3f5f"
            },
            "baxis": {
             "endlinecolor": "#2a3f5f",
             "gridcolor": "white",
             "linecolor": "white",
             "minorgridcolor": "white",
             "startlinecolor": "#2a3f5f"
            },
            "type": "carpet"
           }
          ],
          "choropleth": [
           {
            "colorbar": {
             "outlinewidth": 0,
             "ticks": ""
            },
            "type": "choropleth"
           }
          ],
          "contour": [
           {
            "colorbar": {
             "outlinewidth": 0,
             "ticks": ""
            },
            "colorscale": [
             [
              0,
              "#0d0887"
             ],
             [
              0.1111111111111111,
              "#46039f"
             ],
             [
              0.2222222222222222,
              "#7201a8"
             ],
             [
              0.3333333333333333,
              "#9c179e"
             ],
             [
              0.4444444444444444,
              "#bd3786"
             ],
             [
              0.5555555555555556,
              "#d8576b"
             ],
             [
              0.6666666666666666,
              "#ed7953"
             ],
             [
              0.7777777777777778,
              "#fb9f3a"
             ],
             [
              0.8888888888888888,
              "#fdca26"
             ],
             [
              1,
              "#f0f921"
             ]
            ],
            "type": "contour"
           }
          ],
          "contourcarpet": [
           {
            "colorbar": {
             "outlinewidth": 0,
             "ticks": ""
            },
            "type": "contourcarpet"
           }
          ],
          "heatmap": [
           {
            "colorbar": {
             "outlinewidth": 0,
             "ticks": ""
            },
            "colorscale": [
             [
              0,
              "#0d0887"
             ],
             [
              0.1111111111111111,
              "#46039f"
             ],
             [
              0.2222222222222222,
              "#7201a8"
             ],
             [
              0.3333333333333333,
              "#9c179e"
             ],
             [
              0.4444444444444444,
              "#bd3786"
             ],
             [
              0.5555555555555556,
              "#d8576b"
             ],
             [
              0.6666666666666666,
              "#ed7953"
             ],
             [
              0.7777777777777778,
              "#fb9f3a"
             ],
             [
              0.8888888888888888,
              "#fdca26"
             ],
             [
              1,
              "#f0f921"
             ]
            ],
            "type": "heatmap"
           }
          ],
          "histogram": [
           {
            "marker": {
             "pattern": {
              "fillmode": "overlay",
              "size": 10,
              "solidity": 0.2
             }
            },
            "type": "histogram"
           }
          ],
          "histogram2d": [
           {
            "colorbar": {
             "outlinewidth": 0,
             "ticks": ""
            },
            "colorscale": [
             [
              0,
              "#0d0887"
             ],
             [
              0.1111111111111111,
              "#46039f"
             ],
             [
              0.2222222222222222,
              "#7201a8"
             ],
             [
              0.3333333333333333,
              "#9c179e"
             ],
             [
              0.4444444444444444,
              "#bd3786"
             ],
             [
              0.5555555555555556,
              "#d8576b"
             ],
             [
              0.6666666666666666,
              "#ed7953"
             ],
             [
              0.7777777777777778,
              "#fb9f3a"
             ],
             [
              0.8888888888888888,
              "#fdca26"
             ],
             [
              1,
              "#f0f921"
             ]
            ],
            "type": "histogram2d"
           }
          ],
          "histogram2dcontour": [
           {
            "colorbar": {
             "outlinewidth": 0,
             "ticks": ""
            },
            "colorscale": [
             [
              0,
              "#0d0887"
             ],
             [
              0.1111111111111111,
              "#46039f"
             ],
             [
              0.2222222222222222,
              "#7201a8"
             ],
             [
              0.3333333333333333,
              "#9c179e"
             ],
             [
              0.4444444444444444,
              "#bd3786"
             ],
             [
              0.5555555555555556,
              "#d8576b"
             ],
             [
              0.6666666666666666,
              "#ed7953"
             ],
             [
              0.7777777777777778,
              "#fb9f3a"
             ],
             [
              0.8888888888888888,
              "#fdca26"
             ],
             [
              1,
              "#f0f921"
             ]
            ],
            "type": "histogram2dcontour"
           }
          ],
          "mesh3d": [
           {
            "colorbar": {
             "outlinewidth": 0,
             "ticks": ""
            },
            "type": "mesh3d"
           }
          ],
          "parcoords": [
           {
            "line": {
             "colorbar": {
              "outlinewidth": 0,
              "ticks": ""
             }
            },
            "type": "parcoords"
           }
          ],
          "pie": [
           {
            "automargin": true,
            "type": "pie"
           }
          ],
          "scatter": [
           {
            "fillpattern": {
             "fillmode": "overlay",
             "size": 10,
             "solidity": 0.2
            },
            "type": "scatter"
           }
          ],
          "scatter3d": [
           {
            "line": {
             "colorbar": {
              "outlinewidth": 0,
              "ticks": ""
             }
            },
            "marker": {
             "colorbar": {
              "outlinewidth": 0,
              "ticks": ""
             }
            },
            "type": "scatter3d"
           }
          ],
          "scattercarpet": [
           {
            "marker": {
             "colorbar": {
              "outlinewidth": 0,
              "ticks": ""
             }
            },
            "type": "scattercarpet"
           }
          ],
          "scattergeo": [
           {
            "marker": {
             "colorbar": {
              "outlinewidth": 0,
              "ticks": ""
             }
            },
            "type": "scattergeo"
           }
          ],
          "scattergl": [
           {
            "marker": {
             "colorbar": {
              "outlinewidth": 0,
              "ticks": ""
             }
            },
            "type": "scattergl"
           }
          ],
          "scattermap": [
           {
            "marker": {
             "colorbar": {
              "outlinewidth": 0,
              "ticks": ""
             }
            },
            "type": "scattermap"
           }
          ],
          "scattermapbox": [
           {
            "marker": {
             "colorbar": {
              "outlinewidth": 0,
              "ticks": ""
             }
            },
            "type": "scattermapbox"
           }
          ],
          "scatterpolar": [
           {
            "marker": {
             "colorbar": {
              "outlinewidth": 0,
              "ticks": ""
             }
            },
            "type": "scatterpolar"
           }
          ],
          "scatterpolargl": [
           {
            "marker": {
             "colorbar": {
              "outlinewidth": 0,
              "ticks": ""
             }
            },
            "type": "scatterpolargl"
           }
          ],
          "scatterternary": [
           {
            "marker": {
             "colorbar": {
              "outlinewidth": 0,
              "ticks": ""
             }
            },
            "type": "scatterternary"
           }
          ],
          "surface": [
           {
            "colorbar": {
             "outlinewidth": 0,
             "ticks": ""
            },
            "colorscale": [
             [
              0,
              "#0d0887"
             ],
             [
              0.1111111111111111,
              "#46039f"
             ],
             [
              0.2222222222222222,
              "#7201a8"
             ],
             [
              0.3333333333333333,
              "#9c179e"
             ],
             [
              0.4444444444444444,
              "#bd3786"
             ],
             [
              0.5555555555555556,
              "#d8576b"
             ],
             [
              0.6666666666666666,
              "#ed7953"
             ],
             [
              0.7777777777777778,
              "#fb9f3a"
             ],
             [
              0.8888888888888888,
              "#fdca26"
             ],
             [
              1,
              "#f0f921"
             ]
            ],
            "type": "surface"
           }
          ],
          "table": [
           {
            "cells": {
             "fill": {
              "color": "#EBF0F8"
             },
             "line": {
              "color": "white"
             }
            },
            "header": {
             "fill": {
              "color": "#C8D4E3"
             },
             "line": {
              "color": "white"
             }
            },
            "type": "table"
           }
          ]
         },
         "layout": {
          "annotationdefaults": {
           "arrowcolor": "#2a3f5f",
           "arrowhead": 0,
           "arrowwidth": 1
          },
          "autotypenumbers": "strict",
          "coloraxis": {
           "colorbar": {
            "outlinewidth": 0,
            "ticks": ""
           }
          },
          "colorscale": {
           "diverging": [
            [
             0,
             "#8e0152"
            ],
            [
             0.1,
             "#c51b7d"
            ],
            [
             0.2,
             "#de77ae"
            ],
            [
             0.3,
             "#f1b6da"
            ],
            [
             0.4,
             "#fde0ef"
            ],
            [
             0.5,
             "#f7f7f7"
            ],
            [
             0.6,
             "#e6f5d0"
            ],
            [
             0.7,
             "#b8e186"
            ],
            [
             0.8,
             "#7fbc41"
            ],
            [
             0.9,
             "#4d9221"
            ],
            [
             1,
             "#276419"
            ]
           ],
           "sequential": [
            [
             0,
             "#0d0887"
            ],
            [
             0.1111111111111111,
             "#46039f"
            ],
            [
             0.2222222222222222,
             "#7201a8"
            ],
            [
             0.3333333333333333,
             "#9c179e"
            ],
            [
             0.4444444444444444,
             "#bd3786"
            ],
            [
             0.5555555555555556,
             "#d8576b"
            ],
            [
             0.6666666666666666,
             "#ed7953"
            ],
            [
             0.7777777777777778,
             "#fb9f3a"
            ],
            [
             0.8888888888888888,
             "#fdca26"
            ],
            [
             1,
             "#f0f921"
            ]
           ],
           "sequentialminus": [
            [
             0,
             "#0d0887"
            ],
            [
             0.1111111111111111,
             "#46039f"
            ],
            [
             0.2222222222222222,
             "#7201a8"
            ],
            [
             0.3333333333333333,
             "#9c179e"
            ],
            [
             0.4444444444444444,
             "#bd3786"
            ],
            [
             0.5555555555555556,
             "#d8576b"
            ],
            [
             0.6666666666666666,
             "#ed7953"
            ],
            [
             0.7777777777777778,
             "#fb9f3a"
            ],
            [
             0.8888888888888888,
             "#fdca26"
            ],
            [
             1,
             "#f0f921"
            ]
           ]
          },
          "colorway": [
           "#636efa",
           "#EF553B",
           "#00cc96",
           "#ab63fa",
           "#FFA15A",
           "#19d3f3",
           "#FF6692",
           "#B6E880",
           "#FF97FF",
           "#FECB52"
          ],
          "font": {
           "color": "#2a3f5f"
          },
          "geo": {
           "bgcolor": "white",
           "lakecolor": "white",
           "landcolor": "#E5ECF6",
           "showlakes": true,
           "showland": true,
           "subunitcolor": "white"
          },
          "hoverlabel": {
           "align": "left"
          },
          "hovermode": "closest",
          "mapbox": {
           "style": "light"
          },
          "paper_bgcolor": "white",
          "plot_bgcolor": "#E5ECF6",
          "polar": {
           "angularaxis": {
            "gridcolor": "white",
            "linecolor": "white",
            "ticks": ""
           },
           "bgcolor": "#E5ECF6",
           "radialaxis": {
            "gridcolor": "white",
            "linecolor": "white",
            "ticks": ""
           }
          },
          "scene": {
           "xaxis": {
            "backgroundcolor": "#E5ECF6",
            "gridcolor": "white",
            "gridwidth": 2,
            "linecolor": "white",
            "showbackground": true,
            "ticks": "",
            "zerolinecolor": "white"
           },
           "yaxis": {
            "backgroundcolor": "#E5ECF6",
            "gridcolor": "white",
            "gridwidth": 2,
            "linecolor": "white",
            "showbackground": true,
            "ticks": "",
            "zerolinecolor": "white"
           },
           "zaxis": {
            "backgroundcolor": "#E5ECF6",
            "gridcolor": "white",
            "gridwidth": 2,
            "linecolor": "white",
            "showbackground": true,
            "ticks": "",
            "zerolinecolor": "white"
           }
          },
          "shapedefaults": {
           "line": {
            "color": "#2a3f5f"
           }
          },
          "ternary": {
           "aaxis": {
            "gridcolor": "white",
            "linecolor": "white",
            "ticks": ""
           },
           "baxis": {
            "gridcolor": "white",
            "linecolor": "white",
            "ticks": ""
           },
           "bgcolor": "#E5ECF6",
           "caxis": {
            "gridcolor": "white",
            "linecolor": "white",
            "ticks": ""
           }
          },
          "title": {
           "x": 0.05
          },
          "xaxis": {
           "automargin": true,
           "gridcolor": "white",
           "linecolor": "white",
           "ticks": "",
           "title": {
            "standoff": 15
           },
           "zerolinecolor": "white",
           "zerolinewidth": 2
          },
          "yaxis": {
           "automargin": true,
           "gridcolor": "white",
           "linecolor": "white",
           "ticks": "",
           "title": {
            "standoff": 15
           },
           "zerolinecolor": "white",
           "zerolinewidth": 2
          }
         }
        },
        "title": {
         "text": "Position en ordonnée (y) dans le temps"
        },
        "width": 800,
        "xaxis": {
         "title": {
          "text": "Temps k"
         }
        },
        "yaxis": {
         "title": {
          "text": "Position y"
         }
        }
       }
      }
     },
     "metadata": {},
     "output_type": "display_data"
    },
    {
     "data": {
      "application/vnd.plotly.v1+json": {
       "config": {
        "plotlyServerURL": "https://plot.ly"
       },
       "data": [
        {
         "line": {
          "color": "blue"
         },
         "mode": "lines+markers",
         "name": "Trajectoire vraie",
         "type": "scatter",
         "x": {
          "bdata": "AAAAAAAACEDC34vykX9FQDBF8p4kwVRAUEtx0POwXkDqmyltvU5kQA9epqusPGlAmq3HeCIvbkAZRd/VaYVxQPAL8dAo8nNA082gD6FYdkAhXeSVTuF4QCep0jCse3tAWNzqnj8YfkDvGMz7IVSAQHE3GYAnnIFAsg3qkqrsgkAbjY451T+EQHhiojCnmIVA7qFJDtT0hkBmANC1d1aIQIbkczyru4lAHxYIMsIii0B+46F6dYuMQN9IpfdA7o1Av9bC6ttTj0ASEJdxImSQQIXXjHegHpFAKAhb0s/XkUD8fZsWWZOSQPqmf77iU5NAhOype4MRlEAZRJ8ThseUQC8QTd8HdpVAG8pbCEEhlkAbdQAIh8yWQObepxO+dZdAqc8Vz4MdmEAnc7edM8eYQCvfZBO3bplAvcO/vEQWmkDzplz85r+aQO1UqV9kaJtAgni7M8kLnEDszD3tlK+cQAGRScyCU51Atv4NH6v6nUD9qSJyb56eQFiZx2GdPZ9AyNWyKG/dn0DW5qr3nz+gQAN9hoielKBAueWZv4LooEDEasP8ZzqhQLK3bdk+jKFABESc1KvgoUBnqahynzaiQIYXMCcLjqJAbpuA/NvlokA0a9iwm0CjQKM8sadLnaNAk/BWHEf7o0DsySwppVmkQA800uw4uqRAy4G1hIwcpUAuCDOD+IClQGV/bzvW5aVAwLIqmMVJpkCQLtyjg66mQEuR3tTbE6dA2BMwFlt4p0DWYWM69t6nQLYlBXhORahAd+kKPlSuqEAZIf5GlRapQAF9JtjKfqlA5+uaeUfoqUBLNl0MiFOqQAQCrHDqvqpAObOgqIYrq0CQtlBVq5arQC0oy7kfBaxAvTDDT5l1rEDr0bClc+OsQKCBBNYpUa1AeaB93jHArUAPFSwgFi2uQEwVDG0cmK5Awj4i7MYDr0Cz8hv3r2+vQO8Gortl369AUZWhLsMosEA6weYAP2KwQDSMI4fCnbBALnc5vHDZsEBHRXQJARWxQFZ5zRPBT7FAf3YqhiaLsUCsEGoyn8axQA8nKqMiArJALDXC0Wk+skA=",
          "dtype": "f8"
         },
         "y": {
          "bdata": "AAAAAAAAEMDYuMkWFiEvQCzi7PJ5lkFAk97hZ0hAS0AziBkV0YpSQPePQcsLmFdAiOCqSOKOXEC0bos4DahgQMMUKGfT9mJAbvY20tppZUADEAmMgt5nQHvJyvMSVGpAJVkg422/bEAi2kRTGzlvQP4pEXVGxHBA8UUm8nH2cUBgkJZa+TxzQF6l5dExkHRA7m/dTiLhdUBq7X/gWEh3QJK70wtWsnhAgOaaQfUhekBPKFvP+Y17QOtLeK3M8XxAWN4yp8RafkCPfcXAorF/QDzvYBJ3gYBA7vJhXIorgUDZGQx3wOGBQFcnCOZ4noJAEo+8EtBbg0AUN2mSyRSEQLSle4zEzYRA3hgvuOOHhUCl6MT2ckqGQMNuiriIEYdAOtEL84/Oh0CX1XshAYWIQDVA+X+TOYlAzYCV0HDxiUCoeCV02aWKQFByIAurVotAkqOggeIFjEBwEQhQ8qqMQDxAdC4TTY1AkBAqExnyjUDOYFg+8JyOQDR8slIER49AFM/UPn/nj0CBvNFw2z+QQJ4UeKciiZBA/FCbaAzVkEAyj+FLdx+RQOkE+JRyZpFAcrHb3sKskUBLRyO94vKRQEVRe2ygQJJAEW+fMFOOkkBlN2mczNuSQG9jCztoKZNAPbDs7eZ5k0AMHosSasqTQBWyzkhhIJRAkzwB0oN3lEDxaNJOQ86UQHGP6GB3KJVAzWb4jJODlUBqfiJFj+CVQNt+bhbNPJZA43y6zmeVlkDWL2OXSO6WQOWO0aApS5dAzixsBFGml0CChOCJSv2XQFIh2gm2UJhAIXbXHJqkmEBdZP73nPmYQARsfJ+zS5lAyciNromgmUDyqBQ7i/SZQKBS4WX+S5pAoJKpZ7ikmkA4Jg549/maQHHr/WCtTptAPFt3Iyifm0CqNFWmqeqbQFcACuwzN5xA0W0pjhWEnECrOpn+LdCcQFI1JR/4HJ1As+S3l41tnUB2Qo4UYsKdQPr1aMYpFp5A/KazmNxpnkDZiekny7yeQHi3i/lVEZ9AAjsC9X5pn0BMaK6ddsWfQMEFgd3sEaBAYySq6GBCoEA=",
          "dtype": "f8"
         }
        },
        {
         "marker": {
          "color": "red",
          "size": 4
         },
         "mode": "markers",
         "name": "Observations",
         "type": "scatter",
         "x": {
          "bdata": "jntUCbNNIkDWQajEX/xNQGLZyhYVtUdA1jSeRpEBVkBdS6zWPQlkQOrKpLhUd21Ay5N0t8s2aUCBggvctRpwQHPfoUy+L3RA4oTnS3OadkDui2nBag93QN5dHS4gSH5AdrgcvhRPfkC4upIxoK+AQLJD3oCm935AT8WOJyN0gUDul0lR/5CDQHfIUSNGTIVAoBGOxD9jhUB0MCz5KzCHQFP0+twgkYlArPIlMmJiiEDorG6G532MQM9vNZYvtI1A/aR0cvDAjkCLmvbvcaaQQOs3KC7hSpFAPc8bpwfdkUBDLDQqVZuSQPfGSsAlT5NAQNG4FS1ulEBk76Gpe5GVQEH5NIzpopVAhOscS/dGlkDW8go6EkSWQGRx8MU7ZpdAmJD4SYzdl0DvZZb5ifSZQLMYlF/cPZpA8Q96vFRymUCYt7OFeciaQKAWQNai2ptALLJwYjMqm0B2jcjPpS6dQFoJ7qbP5Z1Aa3jlh5txnUCZ3D8UUj+eQHR4vFi4/J9AMVcNagZHn0DD6IznIXKgQG1+5z1YfaBALQkABAXYoEDV5DuE2TehQFTZZ9JWRKFAF8/yHf25oUDRQlmZvz6iQDk+bmUslaJAfwkqWTf0okDa11zuYvWiQHOFtRv3qaNAImr92z/ao0DaAyRuIDekQG2hOkepeaRAlWMoEShBpUC8SDOwf5ilQGDQcyyJ8KVAUFGzaB48pkA/V44WbIKmQDolZ9KeM6dAFNxrRtFIp0CBZKnP8ManQLDnEvMClqhAjMUEV6qLqEATt9KKVAapQFATnOFPrKlA7WdNdoYWqkD0WQkD/BGqQFGM21120KpAneqf8Ss4q0BE1x2XgVarQN5AJO4+DqxAij4bAPKOrEDdoCnNpD+tQEkowUbbaK1A7BGa816wrUDR+4Uz0B2uQDlzHymebq5AePr88SO7rkDmNOYfMWGvQFsl42jVA7BAm+gszxkjsEAhZZgi1YywQORyB/HhqrBACO7Fm7+bsEBaTaeGTiqxQHNojaKbMrFAJP68u4KpsUBO4Sxwns+xQMJaX0aqyLFAjU4TFfVEskA=",
          "dtype": "f8"
         },
         "y": {
          "bdata": "veUw4dy/IkBCzr/BVhdJQG0FSwpmOzlAd9UcYiycQ0DQjxie+VNMQKhi5nTlYU1AMepPneTkVUDrhf5Siy1eQBxQIvO98GFAHrZ1C2wDYUA7DYZOAPFtQDCs0WoH0mtAOGuX0A5RaECT4dZzYaBsQLvCCeCDAHFAnM2sgIFBb0Cr3a2ZkI9zQGYnAMCDiXNAWgVybE33dkAwHugGSnl0QOE1wMGkGHhA9QMNx0J9f0AtfJs3mZx6QNclG3fCD3pAuW1nN662gEC3zVu17AaBQDfzZM0XTIFABfyExXi1f0DIGXc7B3KDQBP9DiFRLIRA1NXqZm6DhEAnm+F67myDQJJk53TBhoRAMdA+zsgthUDuMbo8mkaFQFTZwIwv4YhA/F+odNq8h0Cq1ACB/wKJQEYHsrKdt4lAzvsj9eQNi0Dm9FWyKj6LQKgDMm6Efo1AcItyfZ6YjUCbDjFh156MQEr2i8bT2I1AA0m6ZsGTjkCLYHdcRiqQQG0Xp/dx/o5Agi3bg8y8jkC0zgFzrtCPQJ8NlDTH3JBAyOrBhyx1kUAD6pgZPGuQQG/rsHCXKpFAdkLNY0aMkUCr0ZLM926SQHFF/wcvIpFAnbHjaC58kkC3c+lABCaTQOrYeZpZoZNAbWwttoRZkkCUFLC8yZaTQJojk3nu4pNA8etvAiI3lEBLbLzyXkuUQB2i+oCxnpVA02EQPneilUBJjvMJeViWQAzyCU87d5ZAYqZHPoJ9lkB8ITacYDeXQJxI7habE5dAH13L2B2Al0DHrbBnxnyXQPExJY8l1JhA3g6t8qjDmEDSW4WirxGZQI1WDyujeZlA7AXMQcE1mkC14IA/kFSZQMAPwQGEq5lAMedpScPWmkAS0jQHbQObQD2PucSzbptAlKphJ04wnECmUMMNqTmbQDSwB80gnJxAphD0waSznECfnXK5f7OcQLdtZgOmJp1ALQDvGEnknUAbSFK8HNidQL/hwc2dmJ1ACZgxdW6wnkDLQCsDJraeQMagd4HdMJ5Adn9qLkP6nkByX58gzSWgQCt6p3ogNqBAPAColH9UoEA=",
          "dtype": "f8"
         }
        },
        {
         "line": {
          "color": "green"
         },
         "mode": "lines",
         "name": "Trajectoire estimée (Kalman)",
         "type": "scatter",
         "x": {
          "bdata": "xNvA48t0RUDunPrDc6pUQKKTo1H5PV5Aj6REk66qY0DKCoeb4SpoQFIld8CB8GxAfciXalRLcEAVGbjPbityQAAX0co2VHRA2R0Moy+IdkChaJrHeF94QF7grHEDVHtA3jzrFFe9fUBlVdKGQiiAQNTH+z0x54BAHnkCt93hgUDibbBveRqDQLrBz3K4c4RAk0mL+9+KhUD9pPxAqcmGQGuSsGqJTIhA7aA0f809iUD94Em0GN+KQFw8FFhrdIxA6y7PSUz0jUAduww427aPQPJivVPptJBAMCdF0KOCkUD7Hyb6h0+SQKqTh2D1GJNATWo0vG/3k0AHHIokDumUQFSSIG2hrJVAhs0z+b9olkDrccRla/iWQAG4fCgipJdAsuQfJRxCmEBtq2PI7TKZQOh7Cl1OA5pAT9J3KKt3mkAxFx+QwBebQKmDYNd4z5tAcJF2oZA1nECpXEPUHPKcQM3BZV01r51AAFX3oG4onkD5XtqShq+eQDNTpYfxeZ9ADrziJ8nwn0DDvMa/0lKgQCV0I+8knKBAsELKEIPooEAewoNH0zihQHHxpR2teaFAARthtPrEoUCyBq79CB2iQKm7qR61daJAfJuJWMDQokBmmWf5YRijQD3eg9zHd6NA961Wg+3No0AiFMij9yWkQEKPy6+deaRAuvEwtqDnpEAFZwOTGlOlQG8+r3gwvKVAAj+SSRggpkBzoVLPFX6mQKmmkiAj76ZAFnDJDUtNp0BcsXapl7KnQPOTkZiOMKhAZqdwpnmSqECHS2g/0/moQCOAFT7Lb6lA9Me+S9zkqUDx9dmXtT+qQKRYfdnjr6pAgcVY5Bgfq0C6/w3ConyrQAlT7VCV7atAkKs6eBJjrEA2PuLpUeesQHOK+YdwWa1A2QzJzlDCrUC6GOWCtCuuQAB2n9UXj65Acpiwk1PsrkBRzE5ysFivQF2ZHm6G0q9ANFvVLjYgsEDvvq0ozWKwQBR/Ar5OnrBAEktjeDLJsEC7Be+IbwmxQC7hbYDoPbFANDX8miqBsUD5ijYn+b6xQKtul+We7bFALmTuq9osskA=",
          "dtype": "f8"
         },
         "y": {
          "bdata": "zR+icjr3L0AJyS+SugtCQA/5p49IwUtAw2GfDhd4UkCTAQpIjrRWQDvUa/X0KVpAoO8MjLp2XUBCuTS6Io5gQKgTJ2K2e2JAXF3+PTHSY0DBQetCj3VnQB7egrsqGmpAVlpVRZZya0CiRHkFrVptQFJLTiERAnBAh5+AFurCcECxk0fM/DFyQPbJzANSV3NAhXAXYRMBdUDFiyNpnMp1QF4YBLRfLXdAYUw5BqnweUDVmOR1BCV7QEdpIS8R8HtAUZzS3BIpfkCtLcjxJg+AQI8N/2j454BA0cWZ+cw+gUBiaXrRGkiCQISJAec7SINAMGul0KgohEAcP5kRZpmEQNkPbSHFJ4VA/Z5YXAa3hUD7sXfMTieGQObl+3ZfSYdAzi8rv97yh0ARvY/sbb6IQDFr+P3GholAQOYaQNpwikBCX4qcPzWLQANiRXJdUIxAoDZJSNk5jUCJiv5DJLiNQMliG2HnWI5AVCBmOt77jkAzvxrq0tyPQDWMnwYgIJBAT2a4xFc6kEBvG0NTimeQQP4lSn9ZvpBAnjEImPkkkUD6pg+VFDqRQC40bDHeb5FAp+G3YZ2tkUA3TBVw6w+SQBdjGU3pEpJAI02jg+dckkDw3KuVn72SQN5BogF1J5NAM5x7dy0yk0AED3QDT3yTQGRqJWOsx5NAq5ZZ99gVlEDL5sMd0FeUQD4xZlme15RA3Km8EAhBlUBZjBCBur6VQAcnGGJTK5ZAcYXc5NyClkC75/2KnvCWQOOiNyRVP5dAPB/NpYuTl0CA+631Q9OXQE4ZUbMWUJhAg3oE2p+wmEBL/DN9gQ2ZQEGVuFoHbZlASu5F4P3hmUBWTcNsjAuaQHjfmB4TOppAstOB5O6dmkDgrN545faaQEB13NlkVJtAgdMtLXHJm0CqK/wKvu6bQNNdkWXpVpxAuh30X8GunEA/wnNCuPKcQIZ4isSRP51AwhvOy1qlnUDkR7UlDfOdQBiwmEzUH55Aew70ciF+nkCCpeZev8meQFheL9dA5Z5AAHbUdgsjn0Amq11LWJ6fQMrN4+MLBaBA+41blwI3oEA=",
          "dtype": "f8"
         }
        }
       ],
       "layout": {
        "height": 600,
        "template": {
         "data": {
          "bar": [
           {
            "error_x": {
             "color": "#2a3f5f"
            },
            "error_y": {
             "color": "#2a3f5f"
            },
            "marker": {
             "line": {
              "color": "#E5ECF6",
              "width": 0.5
             },
             "pattern": {
              "fillmode": "overlay",
              "size": 10,
              "solidity": 0.2
             }
            },
            "type": "bar"
           }
          ],
          "barpolar": [
           {
            "marker": {
             "line": {
              "color": "#E5ECF6",
              "width": 0.5
             },
             "pattern": {
              "fillmode": "overlay",
              "size": 10,
              "solidity": 0.2
             }
            },
            "type": "barpolar"
           }
          ],
          "carpet": [
           {
            "aaxis": {
             "endlinecolor": "#2a3f5f",
             "gridcolor": "white",
             "linecolor": "white",
             "minorgridcolor": "white",
             "startlinecolor": "#2a3f5f"
            },
            "baxis": {
             "endlinecolor": "#2a3f5f",
             "gridcolor": "white",
             "linecolor": "white",
             "minorgridcolor": "white",
             "startlinecolor": "#2a3f5f"
            },
            "type": "carpet"
           }
          ],
          "choropleth": [
           {
            "colorbar": {
             "outlinewidth": 0,
             "ticks": ""
            },
            "type": "choropleth"
           }
          ],
          "contour": [
           {
            "colorbar": {
             "outlinewidth": 0,
             "ticks": ""
            },
            "colorscale": [
             [
              0,
              "#0d0887"
             ],
             [
              0.1111111111111111,
              "#46039f"
             ],
             [
              0.2222222222222222,
              "#7201a8"
             ],
             [
              0.3333333333333333,
              "#9c179e"
             ],
             [
              0.4444444444444444,
              "#bd3786"
             ],
             [
              0.5555555555555556,
              "#d8576b"
             ],
             [
              0.6666666666666666,
              "#ed7953"
             ],
             [
              0.7777777777777778,
              "#fb9f3a"
             ],
             [
              0.8888888888888888,
              "#fdca26"
             ],
             [
              1,
              "#f0f921"
             ]
            ],
            "type": "contour"
           }
          ],
          "contourcarpet": [
           {
            "colorbar": {
             "outlinewidth": 0,
             "ticks": ""
            },
            "type": "contourcarpet"
           }
          ],
          "heatmap": [
           {
            "colorbar": {
             "outlinewidth": 0,
             "ticks": ""
            },
            "colorscale": [
             [
              0,
              "#0d0887"
             ],
             [
              0.1111111111111111,
              "#46039f"
             ],
             [
              0.2222222222222222,
              "#7201a8"
             ],
             [
              0.3333333333333333,
              "#9c179e"
             ],
             [
              0.4444444444444444,
              "#bd3786"
             ],
             [
              0.5555555555555556,
              "#d8576b"
             ],
             [
              0.6666666666666666,
              "#ed7953"
             ],
             [
              0.7777777777777778,
              "#fb9f3a"
             ],
             [
              0.8888888888888888,
              "#fdca26"
             ],
             [
              1,
              "#f0f921"
             ]
            ],
            "type": "heatmap"
           }
          ],
          "histogram": [
           {
            "marker": {
             "pattern": {
              "fillmode": "overlay",
              "size": 10,
              "solidity": 0.2
             }
            },
            "type": "histogram"
           }
          ],
          "histogram2d": [
           {
            "colorbar": {
             "outlinewidth": 0,
             "ticks": ""
            },
            "colorscale": [
             [
              0,
              "#0d0887"
             ],
             [
              0.1111111111111111,
              "#46039f"
             ],
             [
              0.2222222222222222,
              "#7201a8"
             ],
             [
              0.3333333333333333,
              "#9c179e"
             ],
             [
              0.4444444444444444,
              "#bd3786"
             ],
             [
              0.5555555555555556,
              "#d8576b"
             ],
             [
              0.6666666666666666,
              "#ed7953"
             ],
             [
              0.7777777777777778,
              "#fb9f3a"
             ],
             [
              0.8888888888888888,
              "#fdca26"
             ],
             [
              1,
              "#f0f921"
             ]
            ],
            "type": "histogram2d"
           }
          ],
          "histogram2dcontour": [
           {
            "colorbar": {
             "outlinewidth": 0,
             "ticks": ""
            },
            "colorscale": [
             [
              0,
              "#0d0887"
             ],
             [
              0.1111111111111111,
              "#46039f"
             ],
             [
              0.2222222222222222,
              "#7201a8"
             ],
             [
              0.3333333333333333,
              "#9c179e"
             ],
             [
              0.4444444444444444,
              "#bd3786"
             ],
             [
              0.5555555555555556,
              "#d8576b"
             ],
             [
              0.6666666666666666,
              "#ed7953"
             ],
             [
              0.7777777777777778,
              "#fb9f3a"
             ],
             [
              0.8888888888888888,
              "#fdca26"
             ],
             [
              1,
              "#f0f921"
             ]
            ],
            "type": "histogram2dcontour"
           }
          ],
          "mesh3d": [
           {
            "colorbar": {
             "outlinewidth": 0,
             "ticks": ""
            },
            "type": "mesh3d"
           }
          ],
          "parcoords": [
           {
            "line": {
             "colorbar": {
              "outlinewidth": 0,
              "ticks": ""
             }
            },
            "type": "parcoords"
           }
          ],
          "pie": [
           {
            "automargin": true,
            "type": "pie"
           }
          ],
          "scatter": [
           {
            "fillpattern": {
             "fillmode": "overlay",
             "size": 10,
             "solidity": 0.2
            },
            "type": "scatter"
           }
          ],
          "scatter3d": [
           {
            "line": {
             "colorbar": {
              "outlinewidth": 0,
              "ticks": ""
             }
            },
            "marker": {
             "colorbar": {
              "outlinewidth": 0,
              "ticks": ""
             }
            },
            "type": "scatter3d"
           }
          ],
          "scattercarpet": [
           {
            "marker": {
             "colorbar": {
              "outlinewidth": 0,
              "ticks": ""
             }
            },
            "type": "scattercarpet"
           }
          ],
          "scattergeo": [
           {
            "marker": {
             "colorbar": {
              "outlinewidth": 0,
              "ticks": ""
             }
            },
            "type": "scattergeo"
           }
          ],
          "scattergl": [
           {
            "marker": {
             "colorbar": {
              "outlinewidth": 0,
              "ticks": ""
             }
            },
            "type": "scattergl"
           }
          ],
          "scattermap": [
           {
            "marker": {
             "colorbar": {
              "outlinewidth": 0,
              "ticks": ""
             }
            },
            "type": "scattermap"
           }
          ],
          "scattermapbox": [
           {
            "marker": {
             "colorbar": {
              "outlinewidth": 0,
              "ticks": ""
             }
            },
            "type": "scattermapbox"
           }
          ],
          "scatterpolar": [
           {
            "marker": {
             "colorbar": {
              "outlinewidth": 0,
              "ticks": ""
             }
            },
            "type": "scatterpolar"
           }
          ],
          "scatterpolargl": [
           {
            "marker": {
             "colorbar": {
              "outlinewidth": 0,
              "ticks": ""
             }
            },
            "type": "scatterpolargl"
           }
          ],
          "scatterternary": [
           {
            "marker": {
             "colorbar": {
              "outlinewidth": 0,
              "ticks": ""
             }
            },
            "type": "scatterternary"
           }
          ],
          "surface": [
           {
            "colorbar": {
             "outlinewidth": 0,
             "ticks": ""
            },
            "colorscale": [
             [
              0,
              "#0d0887"
             ],
             [
              0.1111111111111111,
              "#46039f"
             ],
             [
              0.2222222222222222,
              "#7201a8"
             ],
             [
              0.3333333333333333,
              "#9c179e"
             ],
             [
              0.4444444444444444,
              "#bd3786"
             ],
             [
              0.5555555555555556,
              "#d8576b"
             ],
             [
              0.6666666666666666,
              "#ed7953"
             ],
             [
              0.7777777777777778,
              "#fb9f3a"
             ],
             [
              0.8888888888888888,
              "#fdca26"
             ],
             [
              1,
              "#f0f921"
             ]
            ],
            "type": "surface"
           }
          ],
          "table": [
           {
            "cells": {
             "fill": {
              "color": "#EBF0F8"
             },
             "line": {
              "color": "white"
             }
            },
            "header": {
             "fill": {
              "color": "#C8D4E3"
             },
             "line": {
              "color": "white"
             }
            },
            "type": "table"
           }
          ]
         },
         "layout": {
          "annotationdefaults": {
           "arrowcolor": "#2a3f5f",
           "arrowhead": 0,
           "arrowwidth": 1
          },
          "autotypenumbers": "strict",
          "coloraxis": {
           "colorbar": {
            "outlinewidth": 0,
            "ticks": ""
           }
          },
          "colorscale": {
           "diverging": [
            [
             0,
             "#8e0152"
            ],
            [
             0.1,
             "#c51b7d"
            ],
            [
             0.2,
             "#de77ae"
            ],
            [
             0.3,
             "#f1b6da"
            ],
            [
             0.4,
             "#fde0ef"
            ],
            [
             0.5,
             "#f7f7f7"
            ],
            [
             0.6,
             "#e6f5d0"
            ],
            [
             0.7,
             "#b8e186"
            ],
            [
             0.8,
             "#7fbc41"
            ],
            [
             0.9,
             "#4d9221"
            ],
            [
             1,
             "#276419"
            ]
           ],
           "sequential": [
            [
             0,
             "#0d0887"
            ],
            [
             0.1111111111111111,
             "#46039f"
            ],
            [
             0.2222222222222222,
             "#7201a8"
            ],
            [
             0.3333333333333333,
             "#9c179e"
            ],
            [
             0.4444444444444444,
             "#bd3786"
            ],
            [
             0.5555555555555556,
             "#d8576b"
            ],
            [
             0.6666666666666666,
             "#ed7953"
            ],
            [
             0.7777777777777778,
             "#fb9f3a"
            ],
            [
             0.8888888888888888,
             "#fdca26"
            ],
            [
             1,
             "#f0f921"
            ]
           ],
           "sequentialminus": [
            [
             0,
             "#0d0887"
            ],
            [
             0.1111111111111111,
             "#46039f"
            ],
            [
             0.2222222222222222,
             "#7201a8"
            ],
            [
             0.3333333333333333,
             "#9c179e"
            ],
            [
             0.4444444444444444,
             "#bd3786"
            ],
            [
             0.5555555555555556,
             "#d8576b"
            ],
            [
             0.6666666666666666,
             "#ed7953"
            ],
            [
             0.7777777777777778,
             "#fb9f3a"
            ],
            [
             0.8888888888888888,
             "#fdca26"
            ],
            [
             1,
             "#f0f921"
            ]
           ]
          },
          "colorway": [
           "#636efa",
           "#EF553B",
           "#00cc96",
           "#ab63fa",
           "#FFA15A",
           "#19d3f3",
           "#FF6692",
           "#B6E880",
           "#FF97FF",
           "#FECB52"
          ],
          "font": {
           "color": "#2a3f5f"
          },
          "geo": {
           "bgcolor": "white",
           "lakecolor": "white",
           "landcolor": "#E5ECF6",
           "showlakes": true,
           "showland": true,
           "subunitcolor": "white"
          },
          "hoverlabel": {
           "align": "left"
          },
          "hovermode": "closest",
          "mapbox": {
           "style": "light"
          },
          "paper_bgcolor": "white",
          "plot_bgcolor": "#E5ECF6",
          "polar": {
           "angularaxis": {
            "gridcolor": "white",
            "linecolor": "white",
            "ticks": ""
           },
           "bgcolor": "#E5ECF6",
           "radialaxis": {
            "gridcolor": "white",
            "linecolor": "white",
            "ticks": ""
           }
          },
          "scene": {
           "xaxis": {
            "backgroundcolor": "#E5ECF6",
            "gridcolor": "white",
            "gridwidth": 2,
            "linecolor": "white",
            "showbackground": true,
            "ticks": "",
            "zerolinecolor": "white"
           },
           "yaxis": {
            "backgroundcolor": "#E5ECF6",
            "gridcolor": "white",
            "gridwidth": 2,
            "linecolor": "white",
            "showbackground": true,
            "ticks": "",
            "zerolinecolor": "white"
           },
           "zaxis": {
            "backgroundcolor": "#E5ECF6",
            "gridcolor": "white",
            "gridwidth": 2,
            "linecolor": "white",
            "showbackground": true,
            "ticks": "",
            "zerolinecolor": "white"
           }
          },
          "shapedefaults": {
           "line": {
            "color": "#2a3f5f"
           }
          },
          "ternary": {
           "aaxis": {
            "gridcolor": "white",
            "linecolor": "white",
            "ticks": ""
           },
           "baxis": {
            "gridcolor": "white",
            "linecolor": "white",
            "ticks": ""
           },
           "bgcolor": "#E5ECF6",
           "caxis": {
            "gridcolor": "white",
            "linecolor": "white",
            "ticks": ""
           }
          },
          "title": {
           "x": 0.05
          },
          "xaxis": {
           "automargin": true,
           "gridcolor": "white",
           "linecolor": "white",
           "ticks": "",
           "title": {
            "standoff": 15
           },
           "zerolinecolor": "white",
           "zerolinewidth": 2
          },
          "yaxis": {
           "automargin": true,
           "gridcolor": "white",
           "linecolor": "white",
           "ticks": "",
           "title": {
            "standoff": 15
           },
           "zerolinecolor": "white",
           "zerolinewidth": 2
          }
         }
        },
        "title": {
         "text": "Trajectoires dans le plan (x, y)"
        },
        "width": 800,
        "xaxis": {
         "title": {
          "text": "Position x"
         }
        },
        "yaxis": {
         "title": {
          "text": "Position y"
         }
        }
       }
      }
     },
     "metadata": {},
     "output_type": "display_data"
    }
   ],
   "source": [
    "\n",
    "\n",
    "temps = np.arange(T)\n",
    "\n",
    "# --- 1. Position en abscisse (x) ---\n",
    "fig_x = go.Figure()\n",
    "fig_x.add_trace(go.Scatter(x=temps, y=x[0], mode='lines', name='Position vraie x', line=dict(color='blue')))\n",
    "fig_x.add_trace(go.Scatter(x=temps, y=y[0], mode='markers', name='Observation x', marker=dict(color='red', size=4)))\n",
    "fig_x.add_trace(go.Scatter(x=temps, y=x_est[0], mode='lines', name='Estimation Kalman x', line=dict(color='green')))\n",
    "\n",
    "fig_x.update_layout(\n",
    "    title='Position en abscisse (x) dans le temps',\n",
    "    xaxis_title='Temps k',\n",
    "    yaxis_title='Position x',\n",
    "    width=800,\n",
    "    height=400\n",
    ")\n",
    "fig_x.show()\n",
    "\n",
    "# --- 2. Position en ordonnée (y) ---\n",
    "fig_y = go.Figure()\n",
    "fig_y.add_trace(go.Scatter(x=temps, y=x[2], mode='lines', name='Position vraie y', line=dict(color='blue')))\n",
    "fig_y.add_trace(go.Scatter(x=temps, y=y[1], mode='markers', name='Observation y', marker=dict(color='red', size=4)))\n",
    "fig_y.add_trace(go.Scatter(x=temps, y=x_est[2], mode='lines', name='Estimation Kalman y', line=dict(color='green')))\n",
    "\n",
    "fig_y.update_layout(\n",
    "    title='Position en ordonnée (y) dans le temps',\n",
    "    xaxis_title='Temps k',\n",
    "    yaxis_title='Position y',\n",
    "    width=800,\n",
    "    height=400\n",
    ")\n",
    "fig_y.show()\n",
    "\n",
    "# --- 3. Trajectoires dans le plan (x, y) ---\n",
    "fig_xy = go.Figure()\n",
    "fig_xy.add_trace(go.Scatter(x=x[0], y=x[2], mode='lines+markers', name='Trajectoire vraie', line=dict(color='blue')))\n",
    "fig_xy.add_trace(go.Scatter(x=y[0], y=y[1], mode='markers', name='Observations', marker=dict(color='red', size=4)))\n",
    "fig_xy.add_trace(go.Scatter(x=x_est[0], y=x_est[2], mode='lines', name='Trajectoire estimée (Kalman)', line=dict(color='green')))\n",
    "\n",
    "fig_xy.update_layout(\n",
    "    title='Trajectoires dans le plan (x, y)',\n",
    "    xaxis_title='Position x',\n",
    "    yaxis_title='Position y',\n",
    "    width=800,\n",
    "    height=600\n",
    ")\n",
    "fig_xy.show()\n"
   ]
  },
  {
   "cell_type": "code",
   "execution_count": null,
   "id": "5b430d92",
   "metadata": {},
   "outputs": [
    {
     "data": {
      "text/html": [
       "<div>\n",
       "<style scoped>\n",
       "    .dataframe tbody tr th:only-of-type {\n",
       "        vertical-align: middle;\n",
       "    }\n",
       "\n",
       "    .dataframe tbody tr th {\n",
       "        vertical-align: top;\n",
       "    }\n",
       "\n",
       "    .dataframe thead th {\n",
       "        text-align: right;\n",
       "    }\n",
       "</style>\n",
       "<table border=\"1\" class=\"dataframe\">\n",
       "  <thead>\n",
       "    <tr style=\"text-align: right;\">\n",
       "      <th></th>\n",
       "      <th>sigma_Q</th>\n",
       "      <th>sigma_px = sigma_py</th>\n",
       "      <th>erreur_moyenne</th>\n",
       "    </tr>\n",
       "  </thead>\n",
       "  <tbody>\n",
       "    <tr>\n",
       "      <th>0</th>\n",
       "      <td>0.01</td>\n",
       "      <td>1</td>\n",
       "      <td>2.273555</td>\n",
       "    </tr>\n",
       "    <tr>\n",
       "      <th>1</th>\n",
       "      <td>0.01</td>\n",
       "      <td>10</td>\n",
       "      <td>19.195831</td>\n",
       "    </tr>\n",
       "    <tr>\n",
       "      <th>2</th>\n",
       "      <td>0.01</td>\n",
       "      <td>30</td>\n",
       "      <td>18.691752</td>\n",
       "    </tr>\n",
       "    <tr>\n",
       "      <th>3</th>\n",
       "      <td>0.01</td>\n",
       "      <td>100</td>\n",
       "      <td>23.900909</td>\n",
       "    </tr>\n",
       "    <tr>\n",
       "      <th>4</th>\n",
       "      <td>0.01</td>\n",
       "      <td>200</td>\n",
       "      <td>39.162908</td>\n",
       "    </tr>\n",
       "    <tr>\n",
       "      <th>5</th>\n",
       "      <td>0.10</td>\n",
       "      <td>1</td>\n",
       "      <td>1.684876</td>\n",
       "    </tr>\n",
       "    <tr>\n",
       "      <th>6</th>\n",
       "      <td>0.10</td>\n",
       "      <td>10</td>\n",
       "      <td>8.299882</td>\n",
       "    </tr>\n",
       "    <tr>\n",
       "      <th>7</th>\n",
       "      <td>0.10</td>\n",
       "      <td>30</td>\n",
       "      <td>15.776042</td>\n",
       "    </tr>\n",
       "    <tr>\n",
       "      <th>8</th>\n",
       "      <td>0.10</td>\n",
       "      <td>100</td>\n",
       "      <td>30.183379</td>\n",
       "    </tr>\n",
       "    <tr>\n",
       "      <th>9</th>\n",
       "      <td>0.10</td>\n",
       "      <td>200</td>\n",
       "      <td>39.032527</td>\n",
       "    </tr>\n",
       "    <tr>\n",
       "      <th>10</th>\n",
       "      <td>1.00</td>\n",
       "      <td>1</td>\n",
       "      <td>2.320652</td>\n",
       "    </tr>\n",
       "    <tr>\n",
       "      <th>11</th>\n",
       "      <td>1.00</td>\n",
       "      <td>10</td>\n",
       "      <td>9.644887</td>\n",
       "    </tr>\n",
       "    <tr>\n",
       "      <th>12</th>\n",
       "      <td>1.00</td>\n",
       "      <td>30</td>\n",
       "      <td>16.451093</td>\n",
       "    </tr>\n",
       "    <tr>\n",
       "      <th>13</th>\n",
       "      <td>1.00</td>\n",
       "      <td>100</td>\n",
       "      <td>45.039808</td>\n",
       "    </tr>\n",
       "    <tr>\n",
       "      <th>14</th>\n",
       "      <td>1.00</td>\n",
       "      <td>200</td>\n",
       "      <td>51.339623</td>\n",
       "    </tr>\n",
       "    <tr>\n",
       "      <th>15</th>\n",
       "      <td>5.00</td>\n",
       "      <td>1</td>\n",
       "      <td>4.710595</td>\n",
       "    </tr>\n",
       "    <tr>\n",
       "      <th>16</th>\n",
       "      <td>5.00</td>\n",
       "      <td>10</td>\n",
       "      <td>13.516433</td>\n",
       "    </tr>\n",
       "    <tr>\n",
       "      <th>17</th>\n",
       "      <td>5.00</td>\n",
       "      <td>30</td>\n",
       "      <td>27.915862</td>\n",
       "    </tr>\n",
       "    <tr>\n",
       "      <th>18</th>\n",
       "      <td>5.00</td>\n",
       "      <td>100</td>\n",
       "      <td>67.475072</td>\n",
       "    </tr>\n",
       "    <tr>\n",
       "      <th>19</th>\n",
       "      <td>5.00</td>\n",
       "      <td>200</td>\n",
       "      <td>94.949144</td>\n",
       "    </tr>\n",
       "    <tr>\n",
       "      <th>20</th>\n",
       "      <td>10.00</td>\n",
       "      <td>1</td>\n",
       "      <td>8.123349</td>\n",
       "    </tr>\n",
       "    <tr>\n",
       "      <th>21</th>\n",
       "      <td>10.00</td>\n",
       "      <td>10</td>\n",
       "      <td>17.854792</td>\n",
       "    </tr>\n",
       "    <tr>\n",
       "      <th>22</th>\n",
       "      <td>10.00</td>\n",
       "      <td>30</td>\n",
       "      <td>32.677285</td>\n",
       "    </tr>\n",
       "    <tr>\n",
       "      <th>23</th>\n",
       "      <td>10.00</td>\n",
       "      <td>100</td>\n",
       "      <td>76.362181</td>\n",
       "    </tr>\n",
       "    <tr>\n",
       "      <th>24</th>\n",
       "      <td>10.00</td>\n",
       "      <td>200</td>\n",
       "      <td>147.711769</td>\n",
       "    </tr>\n",
       "  </tbody>\n",
       "</table>\n",
       "</div>"
      ],
      "text/plain": [
       "    sigma_Q  sigma_px = sigma_py  erreur_moyenne\n",
       "0      0.01                    1        2.273555\n",
       "1      0.01                   10       19.195831\n",
       "2      0.01                   30       18.691752\n",
       "3      0.01                  100       23.900909\n",
       "4      0.01                  200       39.162908\n",
       "5      0.10                    1        1.684876\n",
       "6      0.10                   10        8.299882\n",
       "7      0.10                   30       15.776042\n",
       "8      0.10                  100       30.183379\n",
       "9      0.10                  200       39.032527\n",
       "10     1.00                    1        2.320652\n",
       "11     1.00                   10        9.644887\n",
       "12     1.00                   30       16.451093\n",
       "13     1.00                  100       45.039808\n",
       "14     1.00                  200       51.339623\n",
       "15     5.00                    1        4.710595\n",
       "16     5.00                   10       13.516433\n",
       "17     5.00                   30       27.915862\n",
       "18     5.00                  100       67.475072\n",
       "19     5.00                  200       94.949144\n",
       "20    10.00                    1        8.123349\n",
       "21    10.00                   10       17.854792\n",
       "22    10.00                   30       32.677285\n",
       "23    10.00                  100       76.362181\n",
       "24    10.00                  200      147.711769"
      ]
     },
     "execution_count": 110,
     "metadata": {},
     "output_type": "execute_result"
    }
   ],
   "source": [
    "# Étude combinée de l'influence de sigma_Q et sigma_px = sigma_py sur l'erreur quadratique moyenne\n",
    "\n",
    "sigma_Q_list = [0.01, 0.1, 1, 5, 10]\n",
    "sigma_p_list = [1, 10, 30, 100, 200]\n",
    "\n",
    "resultats = []\n",
    "\n",
    "for sigma_Q in sigma_Q_list:\n",
    "    for sigma_p in sigma_p_list:\n",
    "        Q = sigma_Q**2 * np.array([\n",
    "            [Te**3/3, Te**2/2, 0, 0],\n",
    "            [Te**2/2, Te, 0, 0],\n",
    "            [0, 0, Te**3/3, Te**2/2],\n",
    "            [0, 0, Te**2/2, Te]\n",
    "        ])\n",
    "        R = np.array([[sigma_p**2, 0], [0, sigma_p**2]])\n",
    "        \n",
    "        x = creer_trajectoire(F, Q, x_init, T)\n",
    "        y = creer_observation(H, R, x)\n",
    "        \n",
    "        x_est = np.zeros((4, T))\n",
    "        x_kalm_prec = x_init.copy()\n",
    "        P_kalm_prec = np.eye(4)\n",
    "        \n",
    "        for k in range(T):\n",
    "            x_kalm_k, P_kalm_k = filtre_de_kalman(F, Q, H, R, y[:, k], x_kalm_prec, P_kalm_prec)\n",
    "            x_est[:, k] = x_kalm_k\n",
    "            x_kalm_prec = x_kalm_k\n",
    "            P_kalm_prec = P_kalm_k\n",
    "\n",
    "        err_quadra = np.array([np.linalg.norm(x[:, k] - x_est[:, k])**2 for k in range(T)])\n",
    "        erreur_moyenne = np.mean(np.sqrt(err_quadra))\n",
    "        resultats.append((sigma_Q, sigma_p, erreur_moyenne))\n",
    "\n",
    "# Affichage des résultats\n",
    "\n",
    "df = pd.DataFrame(resultats, columns=[\"sigma_Q\", \"sigma_px = sigma_py\", \"erreur_moyenne\"])\n",
    "df_pivot = df.pivot(index=\"sigma_Q\", columns=\"sigma_px = sigma_py\", values=\"erreur_moyenne\")\n",
    "df\n"
   ]
  },
  {
   "cell_type": "code",
   "execution_count": 113,
   "id": "eb9c9e2c",
   "metadata": {},
   "outputs": [
    {
     "data": {
      "application/vnd.plotly.v1+json": {
       "config": {
        "plotlyServerURL": "https://plot.ly"
       },
       "data": [
        {
         "colorbar": {
          "title": {
           "text": "Erreur moyenne"
          }
         },
         "colorscale": [
          [
           0,
           "#440154"
          ],
          [
           0.1111111111111111,
           "#482878"
          ],
          [
           0.2222222222222222,
           "#3e4989"
          ],
          [
           0.3333333333333333,
           "#31688e"
          ],
          [
           0.4444444444444444,
           "#26828e"
          ],
          [
           0.5555555555555556,
           "#1f9e89"
          ],
          [
           0.6666666666666666,
           "#35b779"
          ],
          [
           0.7777777777777778,
           "#6ece58"
          ],
          [
           0.8888888888888888,
           "#b5de2b"
          ],
          [
           1,
           "#fde725"
          ]
         ],
         "type": "heatmap",
         "x": [
          1,
          10,
          30,
          100,
          200
         ],
         "y": [
          0.01,
          0.1,
          1,
          5,
          10
         ],
         "z": {
          "bdata": "IfyBWT0wAkBmiRf/ITIzQPjf4K4WsTJARHD++qHmN0CmZFIq2pRDQH+YUYNA9fo/UFG8EYqZIEApguRjVY0vQG6Rq+zxLj5A763z2SmEQ0CN4688spACQMtoJq0uSiNA9isz0HpzMEAsYN1sGIVGQPJxfMN4q0lARHiZPqbXEkBMmUPdaQgrQMl25PJ16jtA5D6ZlWfeUEDxeUfHvrxXQFUTcownPyBAz87+ntPaMUD36rZCsVZAQMsopvctF1NAtWm+0MZ2YkA=",
          "dtype": "f8",
          "shape": "5, 5"
         }
        }
       ],
       "layout": {
        "height": 500,
        "template": {
         "data": {
          "bar": [
           {
            "error_x": {
             "color": "#2a3f5f"
            },
            "error_y": {
             "color": "#2a3f5f"
            },
            "marker": {
             "line": {
              "color": "#E5ECF6",
              "width": 0.5
             },
             "pattern": {
              "fillmode": "overlay",
              "size": 10,
              "solidity": 0.2
             }
            },
            "type": "bar"
           }
          ],
          "barpolar": [
           {
            "marker": {
             "line": {
              "color": "#E5ECF6",
              "width": 0.5
             },
             "pattern": {
              "fillmode": "overlay",
              "size": 10,
              "solidity": 0.2
             }
            },
            "type": "barpolar"
           }
          ],
          "carpet": [
           {
            "aaxis": {
             "endlinecolor": "#2a3f5f",
             "gridcolor": "white",
             "linecolor": "white",
             "minorgridcolor": "white",
             "startlinecolor": "#2a3f5f"
            },
            "baxis": {
             "endlinecolor": "#2a3f5f",
             "gridcolor": "white",
             "linecolor": "white",
             "minorgridcolor": "white",
             "startlinecolor": "#2a3f5f"
            },
            "type": "carpet"
           }
          ],
          "choropleth": [
           {
            "colorbar": {
             "outlinewidth": 0,
             "ticks": ""
            },
            "type": "choropleth"
           }
          ],
          "contour": [
           {
            "colorbar": {
             "outlinewidth": 0,
             "ticks": ""
            },
            "colorscale": [
             [
              0,
              "#0d0887"
             ],
             [
              0.1111111111111111,
              "#46039f"
             ],
             [
              0.2222222222222222,
              "#7201a8"
             ],
             [
              0.3333333333333333,
              "#9c179e"
             ],
             [
              0.4444444444444444,
              "#bd3786"
             ],
             [
              0.5555555555555556,
              "#d8576b"
             ],
             [
              0.6666666666666666,
              "#ed7953"
             ],
             [
              0.7777777777777778,
              "#fb9f3a"
             ],
             [
              0.8888888888888888,
              "#fdca26"
             ],
             [
              1,
              "#f0f921"
             ]
            ],
            "type": "contour"
           }
          ],
          "contourcarpet": [
           {
            "colorbar": {
             "outlinewidth": 0,
             "ticks": ""
            },
            "type": "contourcarpet"
           }
          ],
          "heatmap": [
           {
            "colorbar": {
             "outlinewidth": 0,
             "ticks": ""
            },
            "colorscale": [
             [
              0,
              "#0d0887"
             ],
             [
              0.1111111111111111,
              "#46039f"
             ],
             [
              0.2222222222222222,
              "#7201a8"
             ],
             [
              0.3333333333333333,
              "#9c179e"
             ],
             [
              0.4444444444444444,
              "#bd3786"
             ],
             [
              0.5555555555555556,
              "#d8576b"
             ],
             [
              0.6666666666666666,
              "#ed7953"
             ],
             [
              0.7777777777777778,
              "#fb9f3a"
             ],
             [
              0.8888888888888888,
              "#fdca26"
             ],
             [
              1,
              "#f0f921"
             ]
            ],
            "type": "heatmap"
           }
          ],
          "histogram": [
           {
            "marker": {
             "pattern": {
              "fillmode": "overlay",
              "size": 10,
              "solidity": 0.2
             }
            },
            "type": "histogram"
           }
          ],
          "histogram2d": [
           {
            "colorbar": {
             "outlinewidth": 0,
             "ticks": ""
            },
            "colorscale": [
             [
              0,
              "#0d0887"
             ],
             [
              0.1111111111111111,
              "#46039f"
             ],
             [
              0.2222222222222222,
              "#7201a8"
             ],
             [
              0.3333333333333333,
              "#9c179e"
             ],
             [
              0.4444444444444444,
              "#bd3786"
             ],
             [
              0.5555555555555556,
              "#d8576b"
             ],
             [
              0.6666666666666666,
              "#ed7953"
             ],
             [
              0.7777777777777778,
              "#fb9f3a"
             ],
             [
              0.8888888888888888,
              "#fdca26"
             ],
             [
              1,
              "#f0f921"
             ]
            ],
            "type": "histogram2d"
           }
          ],
          "histogram2dcontour": [
           {
            "colorbar": {
             "outlinewidth": 0,
             "ticks": ""
            },
            "colorscale": [
             [
              0,
              "#0d0887"
             ],
             [
              0.1111111111111111,
              "#46039f"
             ],
             [
              0.2222222222222222,
              "#7201a8"
             ],
             [
              0.3333333333333333,
              "#9c179e"
             ],
             [
              0.4444444444444444,
              "#bd3786"
             ],
             [
              0.5555555555555556,
              "#d8576b"
             ],
             [
              0.6666666666666666,
              "#ed7953"
             ],
             [
              0.7777777777777778,
              "#fb9f3a"
             ],
             [
              0.8888888888888888,
              "#fdca26"
             ],
             [
              1,
              "#f0f921"
             ]
            ],
            "type": "histogram2dcontour"
           }
          ],
          "mesh3d": [
           {
            "colorbar": {
             "outlinewidth": 0,
             "ticks": ""
            },
            "type": "mesh3d"
           }
          ],
          "parcoords": [
           {
            "line": {
             "colorbar": {
              "outlinewidth": 0,
              "ticks": ""
             }
            },
            "type": "parcoords"
           }
          ],
          "pie": [
           {
            "automargin": true,
            "type": "pie"
           }
          ],
          "scatter": [
           {
            "fillpattern": {
             "fillmode": "overlay",
             "size": 10,
             "solidity": 0.2
            },
            "type": "scatter"
           }
          ],
          "scatter3d": [
           {
            "line": {
             "colorbar": {
              "outlinewidth": 0,
              "ticks": ""
             }
            },
            "marker": {
             "colorbar": {
              "outlinewidth": 0,
              "ticks": ""
             }
            },
            "type": "scatter3d"
           }
          ],
          "scattercarpet": [
           {
            "marker": {
             "colorbar": {
              "outlinewidth": 0,
              "ticks": ""
             }
            },
            "type": "scattercarpet"
           }
          ],
          "scattergeo": [
           {
            "marker": {
             "colorbar": {
              "outlinewidth": 0,
              "ticks": ""
             }
            },
            "type": "scattergeo"
           }
          ],
          "scattergl": [
           {
            "marker": {
             "colorbar": {
              "outlinewidth": 0,
              "ticks": ""
             }
            },
            "type": "scattergl"
           }
          ],
          "scattermap": [
           {
            "marker": {
             "colorbar": {
              "outlinewidth": 0,
              "ticks": ""
             }
            },
            "type": "scattermap"
           }
          ],
          "scattermapbox": [
           {
            "marker": {
             "colorbar": {
              "outlinewidth": 0,
              "ticks": ""
             }
            },
            "type": "scattermapbox"
           }
          ],
          "scatterpolar": [
           {
            "marker": {
             "colorbar": {
              "outlinewidth": 0,
              "ticks": ""
             }
            },
            "type": "scatterpolar"
           }
          ],
          "scatterpolargl": [
           {
            "marker": {
             "colorbar": {
              "outlinewidth": 0,
              "ticks": ""
             }
            },
            "type": "scatterpolargl"
           }
          ],
          "scatterternary": [
           {
            "marker": {
             "colorbar": {
              "outlinewidth": 0,
              "ticks": ""
             }
            },
            "type": "scatterternary"
           }
          ],
          "surface": [
           {
            "colorbar": {
             "outlinewidth": 0,
             "ticks": ""
            },
            "colorscale": [
             [
              0,
              "#0d0887"
             ],
             [
              0.1111111111111111,
              "#46039f"
             ],
             [
              0.2222222222222222,
              "#7201a8"
             ],
             [
              0.3333333333333333,
              "#9c179e"
             ],
             [
              0.4444444444444444,
              "#bd3786"
             ],
             [
              0.5555555555555556,
              "#d8576b"
             ],
             [
              0.6666666666666666,
              "#ed7953"
             ],
             [
              0.7777777777777778,
              "#fb9f3a"
             ],
             [
              0.8888888888888888,
              "#fdca26"
             ],
             [
              1,
              "#f0f921"
             ]
            ],
            "type": "surface"
           }
          ],
          "table": [
           {
            "cells": {
             "fill": {
              "color": "#EBF0F8"
             },
             "line": {
              "color": "white"
             }
            },
            "header": {
             "fill": {
              "color": "#C8D4E3"
             },
             "line": {
              "color": "white"
             }
            },
            "type": "table"
           }
          ]
         },
         "layout": {
          "annotationdefaults": {
           "arrowcolor": "#2a3f5f",
           "arrowhead": 0,
           "arrowwidth": 1
          },
          "autotypenumbers": "strict",
          "coloraxis": {
           "colorbar": {
            "outlinewidth": 0,
            "ticks": ""
           }
          },
          "colorscale": {
           "diverging": [
            [
             0,
             "#8e0152"
            ],
            [
             0.1,
             "#c51b7d"
            ],
            [
             0.2,
             "#de77ae"
            ],
            [
             0.3,
             "#f1b6da"
            ],
            [
             0.4,
             "#fde0ef"
            ],
            [
             0.5,
             "#f7f7f7"
            ],
            [
             0.6,
             "#e6f5d0"
            ],
            [
             0.7,
             "#b8e186"
            ],
            [
             0.8,
             "#7fbc41"
            ],
            [
             0.9,
             "#4d9221"
            ],
            [
             1,
             "#276419"
            ]
           ],
           "sequential": [
            [
             0,
             "#0d0887"
            ],
            [
             0.1111111111111111,
             "#46039f"
            ],
            [
             0.2222222222222222,
             "#7201a8"
            ],
            [
             0.3333333333333333,
             "#9c179e"
            ],
            [
             0.4444444444444444,
             "#bd3786"
            ],
            [
             0.5555555555555556,
             "#d8576b"
            ],
            [
             0.6666666666666666,
             "#ed7953"
            ],
            [
             0.7777777777777778,
             "#fb9f3a"
            ],
            [
             0.8888888888888888,
             "#fdca26"
            ],
            [
             1,
             "#f0f921"
            ]
           ],
           "sequentialminus": [
            [
             0,
             "#0d0887"
            ],
            [
             0.1111111111111111,
             "#46039f"
            ],
            [
             0.2222222222222222,
             "#7201a8"
            ],
            [
             0.3333333333333333,
             "#9c179e"
            ],
            [
             0.4444444444444444,
             "#bd3786"
            ],
            [
             0.5555555555555556,
             "#d8576b"
            ],
            [
             0.6666666666666666,
             "#ed7953"
            ],
            [
             0.7777777777777778,
             "#fb9f3a"
            ],
            [
             0.8888888888888888,
             "#fdca26"
            ],
            [
             1,
             "#f0f921"
            ]
           ]
          },
          "colorway": [
           "#636efa",
           "#EF553B",
           "#00cc96",
           "#ab63fa",
           "#FFA15A",
           "#19d3f3",
           "#FF6692",
           "#B6E880",
           "#FF97FF",
           "#FECB52"
          ],
          "font": {
           "color": "#2a3f5f"
          },
          "geo": {
           "bgcolor": "white",
           "lakecolor": "white",
           "landcolor": "#E5ECF6",
           "showlakes": true,
           "showland": true,
           "subunitcolor": "white"
          },
          "hoverlabel": {
           "align": "left"
          },
          "hovermode": "closest",
          "mapbox": {
           "style": "light"
          },
          "paper_bgcolor": "white",
          "plot_bgcolor": "#E5ECF6",
          "polar": {
           "angularaxis": {
            "gridcolor": "white",
            "linecolor": "white",
            "ticks": ""
           },
           "bgcolor": "#E5ECF6",
           "radialaxis": {
            "gridcolor": "white",
            "linecolor": "white",
            "ticks": ""
           }
          },
          "scene": {
           "xaxis": {
            "backgroundcolor": "#E5ECF6",
            "gridcolor": "white",
            "gridwidth": 2,
            "linecolor": "white",
            "showbackground": true,
            "ticks": "",
            "zerolinecolor": "white"
           },
           "yaxis": {
            "backgroundcolor": "#E5ECF6",
            "gridcolor": "white",
            "gridwidth": 2,
            "linecolor": "white",
            "showbackground": true,
            "ticks": "",
            "zerolinecolor": "white"
           },
           "zaxis": {
            "backgroundcolor": "#E5ECF6",
            "gridcolor": "white",
            "gridwidth": 2,
            "linecolor": "white",
            "showbackground": true,
            "ticks": "",
            "zerolinecolor": "white"
           }
          },
          "shapedefaults": {
           "line": {
            "color": "#2a3f5f"
           }
          },
          "ternary": {
           "aaxis": {
            "gridcolor": "white",
            "linecolor": "white",
            "ticks": ""
           },
           "baxis": {
            "gridcolor": "white",
            "linecolor": "white",
            "ticks": ""
           },
           "bgcolor": "#E5ECF6",
           "caxis": {
            "gridcolor": "white",
            "linecolor": "white",
            "ticks": ""
           }
          },
          "title": {
           "x": 0.05
          },
          "xaxis": {
           "automargin": true,
           "gridcolor": "white",
           "linecolor": "white",
           "ticks": "",
           "title": {
            "standoff": 15
           },
           "zerolinecolor": "white",
           "zerolinewidth": 2
          },
          "yaxis": {
           "automargin": true,
           "gridcolor": "white",
           "linecolor": "white",
           "ticks": "",
           "title": {
            "standoff": 15
           },
           "zerolinecolor": "white",
           "zerolinewidth": 2
          }
         }
        },
        "title": {
         "text": "Erreur quadratique moyenne selon σQ et σpx = σpy"
        },
        "width": 800,
        "xaxis": {
         "title": {
          "text": "Bruit de mesure (σpx = σpy)"
         }
        },
        "yaxis": {
         "title": {
          "text": "Bruit de processus (σQ)"
         }
        }
       }
      }
     },
     "metadata": {},
     "output_type": "display_data"
    }
   ],
   "source": [
    "# Créer la heatmap à partir du tableau pivot\n",
    "heatmap = go.Figure(data=go.Heatmap(\n",
    "    z=df_pivot.values,\n",
    "    x=df_pivot.columns.tolist(),\n",
    "    y=df_pivot.index.tolist(),\n",
    "    colorscale='Viridis',   \n",
    "    colorbar=dict(title=\"Erreur moyenne\")\n",
    "))\n",
    "\n",
    "heatmap.update_layout(\n",
    "    title=\"Erreur quadratique moyenne selon σQ et σpx = σpy\",\n",
    "    xaxis_title=\"Bruit de mesure (σpx = σpy)\",\n",
    "    yaxis_title=\"Bruit de processus (σQ)\",\n",
    "    width=800,\n",
    "    height=500\n",
    ")\n",
    "\n",
    "heatmap.show()\n"
   ]
  },
  {
   "cell_type": "code",
   "execution_count": 114,
   "id": "ace2f3f6",
   "metadata": {},
   "outputs": [
    {
     "data": {
      "application/vnd.plotly.v1+json": {
       "config": {
        "plotlyServerURL": "https://plot.ly"
       },
       "data": [
        {
         "line": {
          "color": "purple"
         },
         "mode": "lines",
         "name": "Entropie de Shannon",
         "type": "scatter",
         "x": [
          0,
          1,
          2,
          3,
          4,
          5,
          6,
          7,
          8,
          9,
          10,
          11,
          12,
          13,
          14,
          15,
          16,
          17,
          18,
          19,
          20,
          21,
          22,
          23,
          24,
          25,
          26,
          27,
          28,
          29,
          30,
          31,
          32,
          33,
          34,
          35,
          36,
          37,
          38,
          39,
          40,
          41,
          42,
          43,
          44,
          45,
          46,
          47,
          48,
          49,
          50,
          51,
          52,
          53,
          54,
          55,
          56,
          57,
          58,
          59,
          60,
          61,
          62,
          63,
          64,
          65,
          66,
          67,
          68,
          69,
          70,
          71,
          72,
          73,
          74,
          75,
          76,
          77,
          78,
          79,
          80,
          81,
          82,
          83,
          84,
          85,
          86,
          87,
          88,
          89,
          90,
          91,
          92,
          93,
          94,
          95,
          96,
          97,
          98,
          99
         ],
         "y": {
          "bdata": "sZVx/nkZKUCA9nkkxGYuQAx77rKmyDBAOLIljPXgMUBdt1S1fq0yQAfAb2gERDNASKKrDWWxM0Ay4NfJcP8zQIsTaSpaNjRAEM97ib5cNEBkl2uzmnc0QAHCyRF9ijRA/E18gNmXNEBVbgdWW6E0QOWOJuklqDRAR/jNBwKtNEAPN2k2fLA0QD3DrkX4sjRAaMlb7720NEB+K6oQAbY0QMYHqzDntjRAw1SUWou3NECHG0LnALg0QEHPAY9VuDRANMNp95K4NECNi2Ldv7g0QIgasPHguDRAMtosefm4NECRz8W+C7k0QEs91WIZuTRAL49GkSO5NEAzReglK7k0QPjmg8QwuTRAIM7O6DS5NEC3cA7xN7k0QP6mXCU6uTRAuCLLvDu5NEDKFS3hPLk0QDuY/rE9uTRABpWvRj65NECImnqwPrk0QLOt3/s+uTRAsvTSMT+5NEAiKKtYP7k0QOv42XQ/uTRAtq13iT+5NEBRfKqYP7k0QLFL8aM/uTRA2o5YrD+5NEA41Z6yP7k0QPOXTbc/uTRAzcjJuj+5NEBRxF69P7k0QJuMRb8/uTRAjZ2pwD+5NEBwO6zBP7k0QIDMZsI/uTRA3Jbswj+5NEAOGEzDP7k0QD8VkMM/uTRA0nXAwz+5NEBY8+LDP7k0QOWl+8M/uTRAaHINxD+5NEDPXxrEP7k0QDzXI8Q/uTRAftMqxD+5NEA6AzDEP7k0QA7hM8Q/uTRALsQ2xD+5NECo6zjEP7k0QOSFOsQ/uTRAmrU7xD+5NEATlTzEP7k0QGM4PcQ/uTRA5q49xD+5NEBTBD7EP7k0QIpBPsQ/uTRAN20+xD+5NEBOjD7EP7k0QGyiPsQ/uTRANLI+xD+5NECDvT7EP7k0QKvFPsQ/uTRAmcs+xD+5NEDxzz7EP7k0QCfTPsQ/uTRAitU+xD+5NEBS1z7EP7k0QKbYPsQ/uTRApNk+xD+5NEBh2j7EP7k0QOzaPsQ/uTRAU9s+xD+5NECe2z7EP7k0QNTbPsQ/uTRA+9s+xD+5NEAX3D7EP7k0QCvcPsQ/uTRAOdw+xD+5NEA=",
          "dtype": "f8"
         }
        }
       ],
       "layout": {
        "height": 400,
        "template": {
         "data": {
          "bar": [
           {
            "error_x": {
             "color": "#2a3f5f"
            },
            "error_y": {
             "color": "#2a3f5f"
            },
            "marker": {
             "line": {
              "color": "white",
              "width": 0.5
             },
             "pattern": {
              "fillmode": "overlay",
              "size": 10,
              "solidity": 0.2
             }
            },
            "type": "bar"
           }
          ],
          "barpolar": [
           {
            "marker": {
             "line": {
              "color": "white",
              "width": 0.5
             },
             "pattern": {
              "fillmode": "overlay",
              "size": 10,
              "solidity": 0.2
             }
            },
            "type": "barpolar"
           }
          ],
          "carpet": [
           {
            "aaxis": {
             "endlinecolor": "#2a3f5f",
             "gridcolor": "#C8D4E3",
             "linecolor": "#C8D4E3",
             "minorgridcolor": "#C8D4E3",
             "startlinecolor": "#2a3f5f"
            },
            "baxis": {
             "endlinecolor": "#2a3f5f",
             "gridcolor": "#C8D4E3",
             "linecolor": "#C8D4E3",
             "minorgridcolor": "#C8D4E3",
             "startlinecolor": "#2a3f5f"
            },
            "type": "carpet"
           }
          ],
          "choropleth": [
           {
            "colorbar": {
             "outlinewidth": 0,
             "ticks": ""
            },
            "type": "choropleth"
           }
          ],
          "contour": [
           {
            "colorbar": {
             "outlinewidth": 0,
             "ticks": ""
            },
            "colorscale": [
             [
              0,
              "#0d0887"
             ],
             [
              0.1111111111111111,
              "#46039f"
             ],
             [
              0.2222222222222222,
              "#7201a8"
             ],
             [
              0.3333333333333333,
              "#9c179e"
             ],
             [
              0.4444444444444444,
              "#bd3786"
             ],
             [
              0.5555555555555556,
              "#d8576b"
             ],
             [
              0.6666666666666666,
              "#ed7953"
             ],
             [
              0.7777777777777778,
              "#fb9f3a"
             ],
             [
              0.8888888888888888,
              "#fdca26"
             ],
             [
              1,
              "#f0f921"
             ]
            ],
            "type": "contour"
           }
          ],
          "contourcarpet": [
           {
            "colorbar": {
             "outlinewidth": 0,
             "ticks": ""
            },
            "type": "contourcarpet"
           }
          ],
          "heatmap": [
           {
            "colorbar": {
             "outlinewidth": 0,
             "ticks": ""
            },
            "colorscale": [
             [
              0,
              "#0d0887"
             ],
             [
              0.1111111111111111,
              "#46039f"
             ],
             [
              0.2222222222222222,
              "#7201a8"
             ],
             [
              0.3333333333333333,
              "#9c179e"
             ],
             [
              0.4444444444444444,
              "#bd3786"
             ],
             [
              0.5555555555555556,
              "#d8576b"
             ],
             [
              0.6666666666666666,
              "#ed7953"
             ],
             [
              0.7777777777777778,
              "#fb9f3a"
             ],
             [
              0.8888888888888888,
              "#fdca26"
             ],
             [
              1,
              "#f0f921"
             ]
            ],
            "type": "heatmap"
           }
          ],
          "histogram": [
           {
            "marker": {
             "pattern": {
              "fillmode": "overlay",
              "size": 10,
              "solidity": 0.2
             }
            },
            "type": "histogram"
           }
          ],
          "histogram2d": [
           {
            "colorbar": {
             "outlinewidth": 0,
             "ticks": ""
            },
            "colorscale": [
             [
              0,
              "#0d0887"
             ],
             [
              0.1111111111111111,
              "#46039f"
             ],
             [
              0.2222222222222222,
              "#7201a8"
             ],
             [
              0.3333333333333333,
              "#9c179e"
             ],
             [
              0.4444444444444444,
              "#bd3786"
             ],
             [
              0.5555555555555556,
              "#d8576b"
             ],
             [
              0.6666666666666666,
              "#ed7953"
             ],
             [
              0.7777777777777778,
              "#fb9f3a"
             ],
             [
              0.8888888888888888,
              "#fdca26"
             ],
             [
              1,
              "#f0f921"
             ]
            ],
            "type": "histogram2d"
           }
          ],
          "histogram2dcontour": [
           {
            "colorbar": {
             "outlinewidth": 0,
             "ticks": ""
            },
            "colorscale": [
             [
              0,
              "#0d0887"
             ],
             [
              0.1111111111111111,
              "#46039f"
             ],
             [
              0.2222222222222222,
              "#7201a8"
             ],
             [
              0.3333333333333333,
              "#9c179e"
             ],
             [
              0.4444444444444444,
              "#bd3786"
             ],
             [
              0.5555555555555556,
              "#d8576b"
             ],
             [
              0.6666666666666666,
              "#ed7953"
             ],
             [
              0.7777777777777778,
              "#fb9f3a"
             ],
             [
              0.8888888888888888,
              "#fdca26"
             ],
             [
              1,
              "#f0f921"
             ]
            ],
            "type": "histogram2dcontour"
           }
          ],
          "mesh3d": [
           {
            "colorbar": {
             "outlinewidth": 0,
             "ticks": ""
            },
            "type": "mesh3d"
           }
          ],
          "parcoords": [
           {
            "line": {
             "colorbar": {
              "outlinewidth": 0,
              "ticks": ""
             }
            },
            "type": "parcoords"
           }
          ],
          "pie": [
           {
            "automargin": true,
            "type": "pie"
           }
          ],
          "scatter": [
           {
            "fillpattern": {
             "fillmode": "overlay",
             "size": 10,
             "solidity": 0.2
            },
            "type": "scatter"
           }
          ],
          "scatter3d": [
           {
            "line": {
             "colorbar": {
              "outlinewidth": 0,
              "ticks": ""
             }
            },
            "marker": {
             "colorbar": {
              "outlinewidth": 0,
              "ticks": ""
             }
            },
            "type": "scatter3d"
           }
          ],
          "scattercarpet": [
           {
            "marker": {
             "colorbar": {
              "outlinewidth": 0,
              "ticks": ""
             }
            },
            "type": "scattercarpet"
           }
          ],
          "scattergeo": [
           {
            "marker": {
             "colorbar": {
              "outlinewidth": 0,
              "ticks": ""
             }
            },
            "type": "scattergeo"
           }
          ],
          "scattergl": [
           {
            "marker": {
             "colorbar": {
              "outlinewidth": 0,
              "ticks": ""
             }
            },
            "type": "scattergl"
           }
          ],
          "scattermap": [
           {
            "marker": {
             "colorbar": {
              "outlinewidth": 0,
              "ticks": ""
             }
            },
            "type": "scattermap"
           }
          ],
          "scattermapbox": [
           {
            "marker": {
             "colorbar": {
              "outlinewidth": 0,
              "ticks": ""
             }
            },
            "type": "scattermapbox"
           }
          ],
          "scatterpolar": [
           {
            "marker": {
             "colorbar": {
              "outlinewidth": 0,
              "ticks": ""
             }
            },
            "type": "scatterpolar"
           }
          ],
          "scatterpolargl": [
           {
            "marker": {
             "colorbar": {
              "outlinewidth": 0,
              "ticks": ""
             }
            },
            "type": "scatterpolargl"
           }
          ],
          "scatterternary": [
           {
            "marker": {
             "colorbar": {
              "outlinewidth": 0,
              "ticks": ""
             }
            },
            "type": "scatterternary"
           }
          ],
          "surface": [
           {
            "colorbar": {
             "outlinewidth": 0,
             "ticks": ""
            },
            "colorscale": [
             [
              0,
              "#0d0887"
             ],
             [
              0.1111111111111111,
              "#46039f"
             ],
             [
              0.2222222222222222,
              "#7201a8"
             ],
             [
              0.3333333333333333,
              "#9c179e"
             ],
             [
              0.4444444444444444,
              "#bd3786"
             ],
             [
              0.5555555555555556,
              "#d8576b"
             ],
             [
              0.6666666666666666,
              "#ed7953"
             ],
             [
              0.7777777777777778,
              "#fb9f3a"
             ],
             [
              0.8888888888888888,
              "#fdca26"
             ],
             [
              1,
              "#f0f921"
             ]
            ],
            "type": "surface"
           }
          ],
          "table": [
           {
            "cells": {
             "fill": {
              "color": "#EBF0F8"
             },
             "line": {
              "color": "white"
             }
            },
            "header": {
             "fill": {
              "color": "#C8D4E3"
             },
             "line": {
              "color": "white"
             }
            },
            "type": "table"
           }
          ]
         },
         "layout": {
          "annotationdefaults": {
           "arrowcolor": "#2a3f5f",
           "arrowhead": 0,
           "arrowwidth": 1
          },
          "autotypenumbers": "strict",
          "coloraxis": {
           "colorbar": {
            "outlinewidth": 0,
            "ticks": ""
           }
          },
          "colorscale": {
           "diverging": [
            [
             0,
             "#8e0152"
            ],
            [
             0.1,
             "#c51b7d"
            ],
            [
             0.2,
             "#de77ae"
            ],
            [
             0.3,
             "#f1b6da"
            ],
            [
             0.4,
             "#fde0ef"
            ],
            [
             0.5,
             "#f7f7f7"
            ],
            [
             0.6,
             "#e6f5d0"
            ],
            [
             0.7,
             "#b8e186"
            ],
            [
             0.8,
             "#7fbc41"
            ],
            [
             0.9,
             "#4d9221"
            ],
            [
             1,
             "#276419"
            ]
           ],
           "sequential": [
            [
             0,
             "#0d0887"
            ],
            [
             0.1111111111111111,
             "#46039f"
            ],
            [
             0.2222222222222222,
             "#7201a8"
            ],
            [
             0.3333333333333333,
             "#9c179e"
            ],
            [
             0.4444444444444444,
             "#bd3786"
            ],
            [
             0.5555555555555556,
             "#d8576b"
            ],
            [
             0.6666666666666666,
             "#ed7953"
            ],
            [
             0.7777777777777778,
             "#fb9f3a"
            ],
            [
             0.8888888888888888,
             "#fdca26"
            ],
            [
             1,
             "#f0f921"
            ]
           ],
           "sequentialminus": [
            [
             0,
             "#0d0887"
            ],
            [
             0.1111111111111111,
             "#46039f"
            ],
            [
             0.2222222222222222,
             "#7201a8"
            ],
            [
             0.3333333333333333,
             "#9c179e"
            ],
            [
             0.4444444444444444,
             "#bd3786"
            ],
            [
             0.5555555555555556,
             "#d8576b"
            ],
            [
             0.6666666666666666,
             "#ed7953"
            ],
            [
             0.7777777777777778,
             "#fb9f3a"
            ],
            [
             0.8888888888888888,
             "#fdca26"
            ],
            [
             1,
             "#f0f921"
            ]
           ]
          },
          "colorway": [
           "#636efa",
           "#EF553B",
           "#00cc96",
           "#ab63fa",
           "#FFA15A",
           "#19d3f3",
           "#FF6692",
           "#B6E880",
           "#FF97FF",
           "#FECB52"
          ],
          "font": {
           "color": "#2a3f5f"
          },
          "geo": {
           "bgcolor": "white",
           "lakecolor": "white",
           "landcolor": "white",
           "showlakes": true,
           "showland": true,
           "subunitcolor": "#C8D4E3"
          },
          "hoverlabel": {
           "align": "left"
          },
          "hovermode": "closest",
          "mapbox": {
           "style": "light"
          },
          "paper_bgcolor": "white",
          "plot_bgcolor": "white",
          "polar": {
           "angularaxis": {
            "gridcolor": "#EBF0F8",
            "linecolor": "#EBF0F8",
            "ticks": ""
           },
           "bgcolor": "white",
           "radialaxis": {
            "gridcolor": "#EBF0F8",
            "linecolor": "#EBF0F8",
            "ticks": ""
           }
          },
          "scene": {
           "xaxis": {
            "backgroundcolor": "white",
            "gridcolor": "#DFE8F3",
            "gridwidth": 2,
            "linecolor": "#EBF0F8",
            "showbackground": true,
            "ticks": "",
            "zerolinecolor": "#EBF0F8"
           },
           "yaxis": {
            "backgroundcolor": "white",
            "gridcolor": "#DFE8F3",
            "gridwidth": 2,
            "linecolor": "#EBF0F8",
            "showbackground": true,
            "ticks": "",
            "zerolinecolor": "#EBF0F8"
           },
           "zaxis": {
            "backgroundcolor": "white",
            "gridcolor": "#DFE8F3",
            "gridwidth": 2,
            "linecolor": "#EBF0F8",
            "showbackground": true,
            "ticks": "",
            "zerolinecolor": "#EBF0F8"
           }
          },
          "shapedefaults": {
           "line": {
            "color": "#2a3f5f"
           }
          },
          "ternary": {
           "aaxis": {
            "gridcolor": "#DFE8F3",
            "linecolor": "#A2B1C6",
            "ticks": ""
           },
           "baxis": {
            "gridcolor": "#DFE8F3",
            "linecolor": "#A2B1C6",
            "ticks": ""
           },
           "bgcolor": "white",
           "caxis": {
            "gridcolor": "#DFE8F3",
            "linecolor": "#A2B1C6",
            "ticks": ""
           }
          },
          "title": {
           "x": 0.05
          },
          "xaxis": {
           "automargin": true,
           "gridcolor": "#EBF0F8",
           "linecolor": "#EBF0F8",
           "ticks": "",
           "title": {
            "standoff": 15
           },
           "zerolinecolor": "#EBF0F8",
           "zerolinewidth": 2
          },
          "yaxis": {
           "automargin": true,
           "gridcolor": "#EBF0F8",
           "linecolor": "#EBF0F8",
           "ticks": "",
           "title": {
            "standoff": 15
           },
           "zerolinecolor": "#EBF0F8",
           "zerolinewidth": 2
          }
         }
        },
        "title": {
         "text": "Évolution de l'entropie de Shannon du filtre de Kalman"
        },
        "width": 900,
        "xaxis": {
         "title": {
          "text": "Temps (k)"
         }
        },
        "yaxis": {
         "title": {
          "text": "Entropie (bits)"
         }
        }
       }
      }
     },
     "metadata": {},
     "output_type": "display_data"
    }
   ],
   "source": [
    "# Criteres de performance du filtre de Kalman: Entropie de Shannon\n",
    "\n",
    "\n",
    "\n",
    "# Recalculer les estimations et entropies si nécessaire\n",
    "x_est = np.zeros((4, T))\n",
    "x_kalm_prec = x_init.copy()\n",
    "P_kalm_prec = np.eye(4)\n",
    "entropies = np.zeros(T)\n",
    "\n",
    "for k in range(T):\n",
    "    x_kalm_k, P_kalm_k = filtre_de_kalman(F, Q, H, R, y[:, k], x_kalm_prec, P_kalm_prec)\n",
    "    x_est[:, k] = x_kalm_k\n",
    "    x_kalm_prec = x_kalm_k\n",
    "    P_kalm_prec = P_kalm_k\n",
    "    n = P_kalm_k.shape[0]\n",
    "    entropies[k] = 0.5 * np.log((2 * np.pi * np.e)**n * np.linalg.det(P_kalm_k))\n",
    "\n",
    "# Tracé interactif avec Plotly\n",
    "fig = go.Figure()\n",
    "fig.add_trace(go.Scatter(\n",
    "    x=list(range(T)),\n",
    "    y=entropies,\n",
    "    mode='lines',\n",
    "    name=\"Entropie de Shannon\",\n",
    "    line=dict(color='purple')\n",
    "))\n",
    "\n",
    "fig.update_layout(\n",
    "    title=\"Évolution de l'entropie de Shannon du filtre de Kalman\",\n",
    "    xaxis_title=\"Temps (k)\",\n",
    "    yaxis_title=\"Entropie (bits)\",\n",
    "    width=900,\n",
    "    height=400,\n",
    "    template='plotly_white'\n",
    ")\n",
    "\n",
    "fig.show()\n"
   ]
  }
 ],
 "metadata": {
  "kernelspec": {
   "display_name": "kalman",
   "language": "python",
   "name": "python3"
  },
  "language_info": {
   "codemirror_mode": {
    "name": "ipython",
    "version": 3
   },
   "file_extension": ".py",
   "mimetype": "text/x-python",
   "name": "python",
   "nbconvert_exporter": "python",
   "pygments_lexer": "ipython3",
   "version": "3.11.3"
  }
 },
 "nbformat": 4,
 "nbformat_minor": 5
}
