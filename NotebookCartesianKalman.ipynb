{
 "cells": [
  {
   "cell_type": "code",
   "execution_count": 215,
   "id": "f358af98",
   "metadata": {},
   "outputs": [],
   "source": [
    "###Importation des différents librairies\n",
    "\n",
    "import numpy as np\n",
    "import plotly.graph_objects as go\n",
    "import pandas as pd"
   ]
  },
  {
   "cell_type": "code",
   "execution_count": 216,
   "id": "04913573",
   "metadata": {},
   "outputs": [],
   "source": [
    "### initialisation des variables\n",
    "\n",
    "\n",
    "\n",
    "# --- Paramètres généraux ---\n",
    "Te = 1           # période d'échantillonnage (capteur)\n",
    "T = 100          # nombre d'instants (longueur du scénario)\n",
    "\n",
    "# --- Paramètres de bruit ---\n",
    "sigma_Q = 1      # écart-type du bruit de processus (modèle dynamique)\n",
    "sigma_px = 30    # écart-type du bruit de mesure en abscisse (capteur)\n",
    "sigma_py = 30    # écart-type du bruit de mesure en ordonnée (capteur)\n",
    "\n",
    "# --- Matrice F (transition d’état) ---\n",
    "F = np.array([\n",
    "    [1, Te, 0, 0],\n",
    "    [0, 1, 0, 0],\n",
    "    [0, 0, 1, Te],\n",
    "    [0, 0, 0, 1]\n",
    "])\n",
    "\n",
    "# --- Matrice Q (covariance du bruit de processus) ---\n",
    "Q = sigma_Q**2 * np.array([\n",
    "    [Te**3 / 3, Te**2 / 2, 0, 0],\n",
    "    [Te**2 / 2, Te, 0, 0],\n",
    "    [0, 0, Te**3 / 3, Te**2 / 2],\n",
    "    [0, 0, Te**2 / 2, Te]\n",
    "])\n",
    "\n",
    "# --- Matrice H (observation) ---\n",
    "H = np.array([\n",
    "    [1, 0, 0, 0],\n",
    "    [0, 0, 1, 0]\n",
    "])\n",
    "\n",
    "# --- Matrice R (covariance du bruit de mesure) ---\n",
    "R = np.array([\n",
    "    [sigma_px**2, 0],\n",
    "    [0, sigma_py**2]\n",
    "])\n",
    "\n",
    "# --- État initial ---\n",
    "x_init = np.array([3, 40, -4, 20])     # état initial de la cible\n",
    "x_kalm = x_init.copy()                # estimation initiale (x̂₀|₀)\n",
    "P_kalm = np.eye(4)                    # matrice de covariance initiale (P₀|₀)\n"
   ]
  },
  {
   "cell_type": "code",
   "execution_count": 217,
   "id": "204f47a7",
   "metadata": {},
   "outputs": [],
   "source": [
    "#---Création de la fonction qui simule l'équation d'état\n",
    "def creer_trajectoire(F, Q, x_init, T):\n",
    "    \"\"\"\n",
    "    Génère une trajectoire aléatoire de dimension (4 x T)\n",
    "    à partir du modèle dynamique X_k = F X_{k-1} + U_k.\n",
    "\n",
    "    Paramètres :\n",
    "    - F : matrice de transition d'état (4x4)\n",
    "    - Q : matrice de covariance du bruit de processus (4x4)\n",
    "    - x_init : vecteur d'état initial (4,)\n",
    "    - T : nombre d'instants\n",
    "\n",
    "    Retourne :\n",
    "    - x : matrice des états simulés de dimension (4 x T)\n",
    "    \"\"\"\n",
    "    x = np.zeros((4, T))\n",
    "    x[:, 0] = x_init  # initialisation au temps k=0\n",
    "\n",
    "    for k in range(1, T):\n",
    "        bruit = np.random.multivariate_normal(mean=np.zeros(4), cov=Q) # bruit de processus gaussien\n",
    "        #bruit = np.random.uniform(low=-10, high=10, size=4) # bruit uniforme\n",
    "        x[:, k] = F @ x[:, k-1] + bruit\n",
    "\n",
    "    return x"
   ]
  },
  {
   "cell_type": "code",
   "execution_count": 218,
   "id": "b49d1ee4",
   "metadata": {},
   "outputs": [],
   "source": [
    "#Appel de la fonction pour créer la trajectoire\n",
    "x = creer_trajectoire(F, Q, x_init, T) \n"
   ]
  },
  {
   "cell_type": "code",
   "execution_count": 219,
   "id": "9fa3ec49",
   "metadata": {},
   "outputs": [],
   "source": [
    "# --- Simulation de l'équation d'observation ---\n",
    "\n",
    "def creer_observation(H, R, x):\n",
    "    \"\"\"\n",
    "    Génère une matrice d'observation à partir du modèle d'observation Y_k = H X_k + V_k.\n",
    "\n",
    "    Paramètres :\n",
    "    - H : matrice d'observation (2x4)\n",
    "    - R : matrice de covariance du bruit de mesure (2x2)\n",
    "    - x : matrice des états simulés (4xT)\n",
    "\n",
    "    Retourne :\n",
    "    - y : matrice des observations simulées (2xT)\n",
    "    \"\"\"\n",
    "    T = x.shape[1]\n",
    "    y = np.zeros((2, T))\n",
    "\n",
    "    for k in range(T):\n",
    "        bruit = np.random.multivariate_normal(mean=np.zeros(2), cov=R) # bruit de mesure gaussien\n",
    "        #bruit = np.random.uniform(low=0, high=20, size=2) # bruit uniforme\n",
    "        y[:, k] = H @ x[:, k] + bruit\n",
    "\n",
    "    return y"
   ]
  },
  {
   "cell_type": "code",
   "execution_count": 220,
   "id": "fc5373f7",
   "metadata": {},
   "outputs": [],
   "source": [
    "# Appel de la fonction pour créer les observations\n",
    "y = creer_observation(H, R, x)"
   ]
  },
  {
   "cell_type": "code",
   "execution_count": 221,
   "id": "66a9a68f",
   "metadata": {},
   "outputs": [
    {
     "data": {
      "application/vnd.plotly.v1+json": {
       "config": {
        "plotlyServerURL": "https://plot.ly"
       },
       "data": [
        {
         "line": {
          "color": "blue"
         },
         "mode": "lines+markers",
         "name": "Trajectoire vraie",
         "type": "scatter",
         "x": [
          3,
          42.611572288641035,
          80.83895642534284,
          118.40127129145667,
          155.88764670793657,
          193.30320144626756,
          230.56567214103615,
          267.26247569166895,
          302.7337128575426,
          337.58133600843763,
          372.55146417141,
          407.1340272812331,
          441.688813039732,
          475.8068741020446,
          509.59723117371595,
          543.3058103275212,
          576.7607908551067,
          610.4360460348227,
          644.5289793891044,
          679.3720842278402,
          714.5578282307815,
          748.6355534144025,
          782.2349209467347,
          815.1445884363916,
          846.8959143825504,
          877.8400486257364,
          908.0141150985345,
          938.2487710916446,
          969.0637672870499,
          997.8067036942729,
          1026.3643207358557,
          1056.6321050284,
          1085.7566927546102,
          1113.234447554195,
          1138.9570429502658,
          1164.0403636627839,
          1189.560891003726,
          1214.3498096357787,
          1239.640133990144,
          1264.4616743493668,
          1289.189284440236,
          1314.197242028945,
          1339.3087637411907,
          1365.2261552207212,
          1391.0265411018054,
          1417.8930645857213,
          1443.8716684209473,
          1471.0309971291017,
          1497.2891598588594,
          1522.4228214889051,
          1546.9081628592894,
          1570.8353384915981,
          1594.0487440319048,
          1618.8088846115968,
          1643.4456547609802,
          1668.8397507304944,
          1694.3098893476656,
          1719.431100878893,
          1744.0549847142327,
          1769.3487976361735,
          1792.6579707238895,
          1815.312205699189,
          1838.7160159131759,
          1861.877683380436,
          1885.7941041557012,
          1910.1194798088693,
          1934.0876585821932,
          1957.083159189848,
          1979.3129944929574,
          2001.6950204423385,
          2023.8779631330447,
          2046.181727401196,
          2066.801881183669,
          2086.3108216444307,
          2104.8274337894436,
          2122.9419552399236,
          2140.1967308899025,
          2156.9195326017393,
          2173.219404626472,
          2189.4939278660613,
          2204.9366556056534,
          2220.50659811823,
          2236.635411593488,
          2251.5212741220175,
          2265.88273886056,
          2280.0781062313376,
          2293.748088022904,
          2306.611298177379,
          2318.435175677534,
          2329.408545398002,
          2339.4832413986333,
          2349.4872363394475,
          2358.1504210000085,
          2365.4836527771386,
          2372.819465819065,
          2379.962874614528,
          2385.95735956407,
          2391.37640256542,
          2395.754632913436,
          2399.7614448998747
         ],
         "y": [
          -4,
          15.386418447625463,
          34.77738666018273,
          54.38654741884121,
          73.44703283164306,
          92.46263764468061,
          111.68116459172522,
          131.20798703581664,
          151.48312560129452,
          171.54630613594793,
          191.20915566542672,
          210.60024023477564,
          229.98819693147797,
          249.76557328412247,
          269.06398377632996,
          287.95042216757815,
          306.95936408231114,
          325.66740555398644,
          344.2889537924346,
          363.40921268023476,
          383.14735219689265,
          401.6437062808699,
          418.721486820412,
          435.6259729391685,
          452.5157525005365,
          469.3042245475263,
          484.61941163417566,
          499.62151007176686,
          513.5179504253182,
          526.891027504795,
          538.8157979261355,
          550.3776670025636,
          561.9580441932937,
          574.042523025998,
          585.4847252752177,
          597.4713458498392,
          609.8945484730175,
          621.5429180978847,
          633.7456207533127,
          646.4995638124169,
          659.76086738128,
          673.1116952657712,
          685.245706983358,
          697.2618207747241,
          710.9183598665159,
          724.1571562041422,
          738.9693362217417,
          752.7223839153783,
          765.2263990880685,
          777.6431375797582,
          789.6211590638954,
          802.2315051701124,
          815.0049873575193,
          827.8765114415559,
          840.3604553705951,
          852.4451717829488,
          864.1465422272771,
          875.1289331250063,
          884.7659516399008,
          893.036974507825,
          901.54590361273,
          911.453587394201,
          923.12561116704,
          936.9596485243287,
          950.8088103279249,
          964.1617251627506,
          976.9080236435111,
          987.8148862960829,
          997.8132916957755,
          1007.1538764882966,
          1016.7525583569372,
          1027.3261942122183,
          1039.1137140724004,
          1051.4090865042938,
          1063.648496712013,
          1075.5887195921957,
          1087.8485894591388,
          1098.8443065088177,
          1108.6017946217871,
          1118.073909951475,
          1125.7526944857314,
          1134.1414661565689,
          1143.7679455048294,
          1153.1911868301286,
          1161.624395701839,
          1169.5731677912531,
          1177.2305858519237,
          1187.0485199745528,
          1196.4779011029577,
          1205.3529038006843,
          1214.2323677924633,
          1222.393890354794,
          1230.6590254862801,
          1238.4058374264996,
          1245.3207009505443,
          1252.3216501982051,
          1259.893642386053,
          1267.968812114837,
          1275.8271111572142,
          1284.2144752291797
         ]
        },
        {
         "marker": {
          "color": "red",
          "size": 6,
          "symbol": "circle"
         },
         "mode": "markers",
         "name": "Observations bruitées",
         "type": "scatter",
         "x": [
          13.033140961085893,
          106.62773620975577,
          36.33398067559145,
          111.5556516109524,
          110.15735734633421,
          242.46677960202967,
          248.00934141902604,
          302.4645273291583,
          287.9828395484224,
          306.91335650116804,
          357.37925345950543,
          427.3629277002325,
          420.24554321279294,
          469.87203633463685,
          554.6860835298605,
          572.6590623532476,
          541.6890664597489,
          618.9169579441343,
          597.4514122986005,
          657.1845856888805,
          687.5983058651001,
          768.9989508573202,
          757.9349170720162,
          834.3780837976769,
          863.6834171094516,
          886.9516487296146,
          947.9204931086597,
          947.4045864573825,
          992.404089675965,
          956.8333848085805,
          1057.7106627372168,
          1035.8788495184156,
          1084.6632274845815,
          1143.5404826885188,
          1117.7196022563448,
          1165.3229531103202,
          1161.0365238115135,
          1201.075022009861,
          1242.7790161989751,
          1256.6383704032617,
          1297.3644556686324,
          1347.7575273644636,
          1283.121181634817,
          1354.5805251401487,
          1400.400393947988,
          1435.1192306331322,
          1443.6050337386932,
          1457.1987871042804,
          1497.038738540562,
          1485.7826020714288,
          1549.4472058759613,
          1541.6553169403446,
          1593.9212514357337,
          1614.1089915670364,
          1629.9924670370024,
          1701.9544802847572,
          1729.4674271391225,
          1793.9726724084169,
          1728.1105023655102,
          1791.697362837226,
          1826.2499447605062,
          1822.4293468987903,
          1855.5051031109938,
          1861.1340425309922,
          1880.0221412189414,
          1912.5781179568387,
          1944.2704223893286,
          1920.0280668230564,
          1952.8942319827386,
          2002.8414278740145,
          1990.2185889970976,
          2028.8294561103307,
          2094.3073098249183,
          2103.0204153130685,
          2118.414704667053,
          2132.3833884625637,
          2137.155996315259,
          2186.626597639818,
          2163.532328528147,
          2180.561351605111,
          2191.968316101002,
          2177.8377781575387,
          2195.7899752880676,
          2213.1826402666798,
          2277.750287627666,
          2319.8311811486515,
          2321.345368676434,
          2303.3332282794545,
          2332.2177974629617,
          2307.147851344762,
          2354.5624308448373,
          2427.1539380056042,
          2353.1056679341673,
          2325.8717777629295,
          2343.288801658537,
          2405.8359213126996,
          2405.9004544713994,
          2363.4084662043315,
          2410.8247761541043,
          2447.8150423652946
         ],
         "y": [
          4.103160440859613,
          -13.089997967345337,
          52.95678319727399,
          49.49316261174272,
          83.84306524320142,
          87.36965953575532,
          110.84176318492563,
          136.8648501528268,
          136.19517099838794,
          107.97714158390343,
          150.0983731757469,
          230.98743983482612,
          229.97112630042437,
          196.9900855583984,
          242.69839529582433,
          259.2252950996919,
          338.9770952212113,
          245.4593436443754,
          368.575235657047,
          400.88670192448404,
          374.77404703490123,
          406.6352231712769,
          453.0529232088624,
          418.8811295877719,
          452.0199986640722,
          450.8130071052847,
          495.52717598080517,
          519.5567450977062,
          469.5758516448326,
          533.8546917710714,
          527.086669776904,
          564.4814210057293,
          565.7298507288577,
          542.3576939123699,
          536.6659311922218,
          578.1088209601604,
          612.0328137243839,
          632.7984929170124,
          551.5932148203398,
          682.062925117847,
          674.1031391646511,
          674.6309851859191,
          688.2994162214761,
          749.6611882431221,
          750.9604927975454,
          690.7106526919077,
          773.1555845126688,
          785.5308048734278,
          764.5242083910138,
          753.4804654475271,
          770.5557079202906,
          801.2200266795617,
          773.3954446817279,
          818.1820911544112,
          801.1393003290013,
          883.4781189969085,
          858.434543768518,
          861.2707924259518,
          907.6976843157692,
          929.4603578152486,
          912.0487635585167,
          916.6568221898323,
          911.3155307831993,
          937.724653441548,
          961.9138330388031,
          985.3206972522114,
          1012.6873742716093,
          988.9294574738269,
          1000.2036257780946,
          1037.3184631874822,
          1028.1032723534363,
          1081.8757840697235,
          1009.1497121274875,
          1040.2253190803704,
          1029.1421889872258,
          1071.196334499117,
          1088.7865200237509,
          1055.044354223434,
          1082.0209258560915,
          1137.252209770784,
          1141.8172707532685,
          1163.2220898237244,
          1136.4602431845478,
          1169.8181998637783,
          1182.1840946772809,
          1155.2699274901179,
          1202.2441759677156,
          1169.6835258085239,
          1176.0838825190635,
          1146.3785831617479,
          1209.86891128621,
          1194.438100296023,
          1224.361505307803,
          1227.9262314546856,
          1244.008697325843,
          1242.8773242828079,
          1284.2996139144334,
          1264.1877485682378,
          1258.7172764630227,
          1290.591258138778
         ]
        }
       ],
       "layout": {
        "height": 600,
        "legend": {
         "x": 0,
         "y": 1
        },
        "template": {
         "data": {
          "bar": [
           {
            "error_x": {
             "color": "#2a3f5f"
            },
            "error_y": {
             "color": "#2a3f5f"
            },
            "marker": {
             "line": {
              "color": "#E5ECF6",
              "width": 0.5
             },
             "pattern": {
              "fillmode": "overlay",
              "size": 10,
              "solidity": 0.2
             }
            },
            "type": "bar"
           }
          ],
          "barpolar": [
           {
            "marker": {
             "line": {
              "color": "#E5ECF6",
              "width": 0.5
             },
             "pattern": {
              "fillmode": "overlay",
              "size": 10,
              "solidity": 0.2
             }
            },
            "type": "barpolar"
           }
          ],
          "carpet": [
           {
            "aaxis": {
             "endlinecolor": "#2a3f5f",
             "gridcolor": "white",
             "linecolor": "white",
             "minorgridcolor": "white",
             "startlinecolor": "#2a3f5f"
            },
            "baxis": {
             "endlinecolor": "#2a3f5f",
             "gridcolor": "white",
             "linecolor": "white",
             "minorgridcolor": "white",
             "startlinecolor": "#2a3f5f"
            },
            "type": "carpet"
           }
          ],
          "choropleth": [
           {
            "colorbar": {
             "outlinewidth": 0,
             "ticks": ""
            },
            "type": "choropleth"
           }
          ],
          "contour": [
           {
            "colorbar": {
             "outlinewidth": 0,
             "ticks": ""
            },
            "colorscale": [
             [
              0,
              "#0d0887"
             ],
             [
              0.1111111111111111,
              "#46039f"
             ],
             [
              0.2222222222222222,
              "#7201a8"
             ],
             [
              0.3333333333333333,
              "#9c179e"
             ],
             [
              0.4444444444444444,
              "#bd3786"
             ],
             [
              0.5555555555555556,
              "#d8576b"
             ],
             [
              0.6666666666666666,
              "#ed7953"
             ],
             [
              0.7777777777777778,
              "#fb9f3a"
             ],
             [
              0.8888888888888888,
              "#fdca26"
             ],
             [
              1,
              "#f0f921"
             ]
            ],
            "type": "contour"
           }
          ],
          "contourcarpet": [
           {
            "colorbar": {
             "outlinewidth": 0,
             "ticks": ""
            },
            "type": "contourcarpet"
           }
          ],
          "heatmap": [
           {
            "colorbar": {
             "outlinewidth": 0,
             "ticks": ""
            },
            "colorscale": [
             [
              0,
              "#0d0887"
             ],
             [
              0.1111111111111111,
              "#46039f"
             ],
             [
              0.2222222222222222,
              "#7201a8"
             ],
             [
              0.3333333333333333,
              "#9c179e"
             ],
             [
              0.4444444444444444,
              "#bd3786"
             ],
             [
              0.5555555555555556,
              "#d8576b"
             ],
             [
              0.6666666666666666,
              "#ed7953"
             ],
             [
              0.7777777777777778,
              "#fb9f3a"
             ],
             [
              0.8888888888888888,
              "#fdca26"
             ],
             [
              1,
              "#f0f921"
             ]
            ],
            "type": "heatmap"
           }
          ],
          "heatmapgl": [
           {
            "colorbar": {
             "outlinewidth": 0,
             "ticks": ""
            },
            "colorscale": [
             [
              0,
              "#0d0887"
             ],
             [
              0.1111111111111111,
              "#46039f"
             ],
             [
              0.2222222222222222,
              "#7201a8"
             ],
             [
              0.3333333333333333,
              "#9c179e"
             ],
             [
              0.4444444444444444,
              "#bd3786"
             ],
             [
              0.5555555555555556,
              "#d8576b"
             ],
             [
              0.6666666666666666,
              "#ed7953"
             ],
             [
              0.7777777777777778,
              "#fb9f3a"
             ],
             [
              0.8888888888888888,
              "#fdca26"
             ],
             [
              1,
              "#f0f921"
             ]
            ],
            "type": "heatmapgl"
           }
          ],
          "histogram": [
           {
            "marker": {
             "pattern": {
              "fillmode": "overlay",
              "size": 10,
              "solidity": 0.2
             }
            },
            "type": "histogram"
           }
          ],
          "histogram2d": [
           {
            "colorbar": {
             "outlinewidth": 0,
             "ticks": ""
            },
            "colorscale": [
             [
              0,
              "#0d0887"
             ],
             [
              0.1111111111111111,
              "#46039f"
             ],
             [
              0.2222222222222222,
              "#7201a8"
             ],
             [
              0.3333333333333333,
              "#9c179e"
             ],
             [
              0.4444444444444444,
              "#bd3786"
             ],
             [
              0.5555555555555556,
              "#d8576b"
             ],
             [
              0.6666666666666666,
              "#ed7953"
             ],
             [
              0.7777777777777778,
              "#fb9f3a"
             ],
             [
              0.8888888888888888,
              "#fdca26"
             ],
             [
              1,
              "#f0f921"
             ]
            ],
            "type": "histogram2d"
           }
          ],
          "histogram2dcontour": [
           {
            "colorbar": {
             "outlinewidth": 0,
             "ticks": ""
            },
            "colorscale": [
             [
              0,
              "#0d0887"
             ],
             [
              0.1111111111111111,
              "#46039f"
             ],
             [
              0.2222222222222222,
              "#7201a8"
             ],
             [
              0.3333333333333333,
              "#9c179e"
             ],
             [
              0.4444444444444444,
              "#bd3786"
             ],
             [
              0.5555555555555556,
              "#d8576b"
             ],
             [
              0.6666666666666666,
              "#ed7953"
             ],
             [
              0.7777777777777778,
              "#fb9f3a"
             ],
             [
              0.8888888888888888,
              "#fdca26"
             ],
             [
              1,
              "#f0f921"
             ]
            ],
            "type": "histogram2dcontour"
           }
          ],
          "mesh3d": [
           {
            "colorbar": {
             "outlinewidth": 0,
             "ticks": ""
            },
            "type": "mesh3d"
           }
          ],
          "parcoords": [
           {
            "line": {
             "colorbar": {
              "outlinewidth": 0,
              "ticks": ""
             }
            },
            "type": "parcoords"
           }
          ],
          "pie": [
           {
            "automargin": true,
            "type": "pie"
           }
          ],
          "scatter": [
           {
            "fillpattern": {
             "fillmode": "overlay",
             "size": 10,
             "solidity": 0.2
            },
            "type": "scatter"
           }
          ],
          "scatter3d": [
           {
            "line": {
             "colorbar": {
              "outlinewidth": 0,
              "ticks": ""
             }
            },
            "marker": {
             "colorbar": {
              "outlinewidth": 0,
              "ticks": ""
             }
            },
            "type": "scatter3d"
           }
          ],
          "scattercarpet": [
           {
            "marker": {
             "colorbar": {
              "outlinewidth": 0,
              "ticks": ""
             }
            },
            "type": "scattercarpet"
           }
          ],
          "scattergeo": [
           {
            "marker": {
             "colorbar": {
              "outlinewidth": 0,
              "ticks": ""
             }
            },
            "type": "scattergeo"
           }
          ],
          "scattergl": [
           {
            "marker": {
             "colorbar": {
              "outlinewidth": 0,
              "ticks": ""
             }
            },
            "type": "scattergl"
           }
          ],
          "scattermapbox": [
           {
            "marker": {
             "colorbar": {
              "outlinewidth": 0,
              "ticks": ""
             }
            },
            "type": "scattermapbox"
           }
          ],
          "scatterpolar": [
           {
            "marker": {
             "colorbar": {
              "outlinewidth": 0,
              "ticks": ""
             }
            },
            "type": "scatterpolar"
           }
          ],
          "scatterpolargl": [
           {
            "marker": {
             "colorbar": {
              "outlinewidth": 0,
              "ticks": ""
             }
            },
            "type": "scatterpolargl"
           }
          ],
          "scatterternary": [
           {
            "marker": {
             "colorbar": {
              "outlinewidth": 0,
              "ticks": ""
             }
            },
            "type": "scatterternary"
           }
          ],
          "surface": [
           {
            "colorbar": {
             "outlinewidth": 0,
             "ticks": ""
            },
            "colorscale": [
             [
              0,
              "#0d0887"
             ],
             [
              0.1111111111111111,
              "#46039f"
             ],
             [
              0.2222222222222222,
              "#7201a8"
             ],
             [
              0.3333333333333333,
              "#9c179e"
             ],
             [
              0.4444444444444444,
              "#bd3786"
             ],
             [
              0.5555555555555556,
              "#d8576b"
             ],
             [
              0.6666666666666666,
              "#ed7953"
             ],
             [
              0.7777777777777778,
              "#fb9f3a"
             ],
             [
              0.8888888888888888,
              "#fdca26"
             ],
             [
              1,
              "#f0f921"
             ]
            ],
            "type": "surface"
           }
          ],
          "table": [
           {
            "cells": {
             "fill": {
              "color": "#EBF0F8"
             },
             "line": {
              "color": "white"
             }
            },
            "header": {
             "fill": {
              "color": "#C8D4E3"
             },
             "line": {
              "color": "white"
             }
            },
            "type": "table"
           }
          ]
         },
         "layout": {
          "annotationdefaults": {
           "arrowcolor": "#2a3f5f",
           "arrowhead": 0,
           "arrowwidth": 1
          },
          "autotypenumbers": "strict",
          "coloraxis": {
           "colorbar": {
            "outlinewidth": 0,
            "ticks": ""
           }
          },
          "colorscale": {
           "diverging": [
            [
             0,
             "#8e0152"
            ],
            [
             0.1,
             "#c51b7d"
            ],
            [
             0.2,
             "#de77ae"
            ],
            [
             0.3,
             "#f1b6da"
            ],
            [
             0.4,
             "#fde0ef"
            ],
            [
             0.5,
             "#f7f7f7"
            ],
            [
             0.6,
             "#e6f5d0"
            ],
            [
             0.7,
             "#b8e186"
            ],
            [
             0.8,
             "#7fbc41"
            ],
            [
             0.9,
             "#4d9221"
            ],
            [
             1,
             "#276419"
            ]
           ],
           "sequential": [
            [
             0,
             "#0d0887"
            ],
            [
             0.1111111111111111,
             "#46039f"
            ],
            [
             0.2222222222222222,
             "#7201a8"
            ],
            [
             0.3333333333333333,
             "#9c179e"
            ],
            [
             0.4444444444444444,
             "#bd3786"
            ],
            [
             0.5555555555555556,
             "#d8576b"
            ],
            [
             0.6666666666666666,
             "#ed7953"
            ],
            [
             0.7777777777777778,
             "#fb9f3a"
            ],
            [
             0.8888888888888888,
             "#fdca26"
            ],
            [
             1,
             "#f0f921"
            ]
           ],
           "sequentialminus": [
            [
             0,
             "#0d0887"
            ],
            [
             0.1111111111111111,
             "#46039f"
            ],
            [
             0.2222222222222222,
             "#7201a8"
            ],
            [
             0.3333333333333333,
             "#9c179e"
            ],
            [
             0.4444444444444444,
             "#bd3786"
            ],
            [
             0.5555555555555556,
             "#d8576b"
            ],
            [
             0.6666666666666666,
             "#ed7953"
            ],
            [
             0.7777777777777778,
             "#fb9f3a"
            ],
            [
             0.8888888888888888,
             "#fdca26"
            ],
            [
             1,
             "#f0f921"
            ]
           ]
          },
          "colorway": [
           "#636efa",
           "#EF553B",
           "#00cc96",
           "#ab63fa",
           "#FFA15A",
           "#19d3f3",
           "#FF6692",
           "#B6E880",
           "#FF97FF",
           "#FECB52"
          ],
          "font": {
           "color": "#2a3f5f"
          },
          "geo": {
           "bgcolor": "white",
           "lakecolor": "white",
           "landcolor": "#E5ECF6",
           "showlakes": true,
           "showland": true,
           "subunitcolor": "white"
          },
          "hoverlabel": {
           "align": "left"
          },
          "hovermode": "closest",
          "mapbox": {
           "style": "light"
          },
          "paper_bgcolor": "white",
          "plot_bgcolor": "#E5ECF6",
          "polar": {
           "angularaxis": {
            "gridcolor": "white",
            "linecolor": "white",
            "ticks": ""
           },
           "bgcolor": "#E5ECF6",
           "radialaxis": {
            "gridcolor": "white",
            "linecolor": "white",
            "ticks": ""
           }
          },
          "scene": {
           "xaxis": {
            "backgroundcolor": "#E5ECF6",
            "gridcolor": "white",
            "gridwidth": 2,
            "linecolor": "white",
            "showbackground": true,
            "ticks": "",
            "zerolinecolor": "white"
           },
           "yaxis": {
            "backgroundcolor": "#E5ECF6",
            "gridcolor": "white",
            "gridwidth": 2,
            "linecolor": "white",
            "showbackground": true,
            "ticks": "",
            "zerolinecolor": "white"
           },
           "zaxis": {
            "backgroundcolor": "#E5ECF6",
            "gridcolor": "white",
            "gridwidth": 2,
            "linecolor": "white",
            "showbackground": true,
            "ticks": "",
            "zerolinecolor": "white"
           }
          },
          "shapedefaults": {
           "line": {
            "color": "#2a3f5f"
           }
          },
          "ternary": {
           "aaxis": {
            "gridcolor": "white",
            "linecolor": "white",
            "ticks": ""
           },
           "baxis": {
            "gridcolor": "white",
            "linecolor": "white",
            "ticks": ""
           },
           "bgcolor": "#E5ECF6",
           "caxis": {
            "gridcolor": "white",
            "linecolor": "white",
            "ticks": ""
           }
          },
          "title": {
           "x": 0.05
          },
          "xaxis": {
           "automargin": true,
           "gridcolor": "white",
           "linecolor": "white",
           "ticks": "",
           "title": {
            "standoff": 15
           },
           "zerolinecolor": "white",
           "zerolinewidth": 2
          },
          "yaxis": {
           "automargin": true,
           "gridcolor": "white",
           "linecolor": "white",
           "ticks": "",
           "title": {
            "standoff": 15
           },
           "zerolinecolor": "white",
           "zerolinewidth": 2
          }
         }
        },
        "title": {
         "text": "Trajectoire vraie vs Observée (Filtrage de Kalman - données synthétiques)"
        },
        "width": 800,
        "xaxis": {
         "title": {
          "text": "Position x"
         }
        },
        "yaxis": {
         "title": {
          "text": "Position y"
         }
        }
       }
      }
     },
     "metadata": {},
     "output_type": "display_data"
    }
   ],
   "source": [
    "#Visualisation de la trajectoire et des observations\n",
    "fig = go.Figure()\n",
    "\n",
    "# Trajectoire vraie\n",
    "fig.add_trace(go.Scatter(\n",
    "    x=x[0], y=x[2],\n",
    "    mode='lines+markers',\n",
    "    name='Trajectoire vraie',\n",
    "    line=dict(color='blue')\n",
    "))\n",
    "\n",
    "# Trajectoire observée\n",
    "fig.add_trace(go.Scatter(\n",
    "    x=y[0], y=y[1],\n",
    "    mode='markers',\n",
    "    name='Observations bruitées',\n",
    "    marker=dict(color='red', size=6, symbol='circle')\n",
    "))\n",
    "\n",
    "fig.update_layout(\n",
    "    title='Trajectoire vraie vs Observée (Filtrage de Kalman - données synthétiques)',\n",
    "    xaxis_title='Position x',\n",
    "    yaxis_title='Position y',\n",
    "    legend=dict(x=0, y=1),\n",
    "    width=800,\n",
    "    height=600\n",
    ")\n",
    "\n",
    "fig.show()"
   ]
  },
  {
   "cell_type": "code",
   "execution_count": 222,
   "id": "31f22665",
   "metadata": {},
   "outputs": [],
   "source": [
    "def filtre_de_kalman(F, Q, H, R, y_k, x_kalm_prec, P_kalm_prec):\n",
    "    \"\"\"\n",
    "    Effectue une itération du filtre de Kalman (prédiction + mise à jour).\n",
    "\n",
    "    Entrées :\n",
    "    - F : matrice de transition (4x4)\n",
    "    - Q : matrice de covariance du bruit de processus (4x4)\n",
    "    - H : matrice d’observation (2x4)\n",
    "    - R : matrice de covariance du bruit de mesure (2x2)\n",
    "    - y_k : observation actuelle (2,)\n",
    "    - x_kalm_prec : estimation précédente de l’état (4,)\n",
    "    - P_kalm_prec : estimation précédente de la covariance (4x4)\n",
    "\n",
    "    Sorties :\n",
    "    - x_kalm_k : estimation actuelle de l’état (4,)\n",
    "    - P_kalm_k : covariance actuelle de l’état (4x4)\n",
    "    \"\"\"\n",
    "\n",
    "    # === Étape 1 : Prédiction ===\n",
    "    x_pred = F @ x_kalm_prec\n",
    "    P_pred = F @ P_kalm_prec @ F.T + Q\n",
    "\n",
    "    # === Étape 2 : Gain de Kalman ===\n",
    "    S = H @ P_pred @ H.T + R                # Matrice d’innovation\n",
    "    K = P_pred @ H.T @ np.linalg.inv(S)     # Gain de Kalman\n",
    "\n",
    "    # === Étape 3 : Mise à jour ===\n",
    "    y_pred = H @ x_pred                     # observation prédite\n",
    "    innovation = y_k - y_pred               # différence entre observation réelle et prédite\n",
    "\n",
    "    x_kalm_k = x_pred + K @ innovation      # estimation corrigée\n",
    "    P_kalm_k = (np.eye(len(F)) - K @ H) @ P_pred  # mise à jour de la covariance\n",
    "\n",
    "    return x_kalm_k, P_kalm_k"
   ]
  },
  {
   "cell_type": "code",
   "execution_count": 223,
   "id": "8d5b50a2",
   "metadata": {},
   "outputs": [],
   "source": [
    "# --- Initialisation pour le filtrage récursif ---\n",
    "x_est = np.zeros((4, T))           # Pour mémoriser les états estimés x̂_{k|k}\n",
    "x_kalm_prec = x_init.copy()        # x̂_{0|0} : estimation initiale\n",
    "P_kalm_prec = np.eye(4)            # P_{0|0} : covariance initiale\n",
    "\n",
    "# --- Boucle principale de filtrage ---\n",
    "for k in range(T):\n",
    "    # Étape de filtrage de Kalman\n",
    "    x_kalm_k, P_kalm_k = filtre_de_kalman(F, Q, H, R, y[:, k], x_kalm_prec, P_kalm_prec)\n",
    "    \n",
    "    # Mémorisation de l’état estimé à l’instant k\n",
    "    x_est[:, k] = x_kalm_k\n",
    "    \n",
    "    # Mise à jour pour l’itération suivante\n",
    "    x_kalm_prec = x_kalm_k\n",
    "    P_kalm_prec = P_kalm_k\n"
   ]
  },
  {
   "cell_type": "code",
   "execution_count": 224,
   "id": "e3648792",
   "metadata": {},
   "outputs": [
    {
     "name": "stdout",
     "output_type": "stream",
     "text": [
      "Erreur quadratique moyenne : 20.6442\n"
     ]
    }
   ],
   "source": [
    "# --- Calcul de l’erreur quadratique à chaque instant ---\n",
    "err_quadra = np.zeros(T)\n",
    "\n",
    "for k in range(T):\n",
    "    diff = x[:, k] - x_est[:, k]\n",
    "    err_quadra[k] = diff.T @ diff   # ||x_k - x̂_k||^2\n",
    "\n",
    "# --- Moyenne de l’erreur quadratique (avec racine) ---\n",
    "erreur_moyenne = np.mean(np.sqrt(err_quadra))\n",
    "\n",
    "# --- Affichage du résultat ---\n",
    "print(f\"Erreur quadratique moyenne : {erreur_moyenne:.4f}\")\n"
   ]
  },
  {
   "cell_type": "code",
   "execution_count": 225,
   "id": "f68cf503",
   "metadata": {},
   "outputs": [
    {
     "data": {
      "application/vnd.plotly.v1+json": {
       "config": {
        "plotlyServerURL": "https://plot.ly"
       },
       "data": [
        {
         "line": {
          "color": "orange"
         },
         "mode": "lines",
         "name": "√Erreur quadratique instantanée",
         "type": "scatter",
         "x": [
          0,
          1,
          2,
          3,
          4,
          5,
          6,
          7,
          8,
          9,
          10,
          11,
          12,
          13,
          14,
          15,
          16,
          17,
          18,
          19,
          20,
          21,
          22,
          23,
          24,
          25,
          26,
          27,
          28,
          29,
          30,
          31,
          32,
          33,
          34,
          35,
          36,
          37,
          38,
          39,
          40,
          41,
          42,
          43,
          44,
          45,
          46,
          47,
          48,
          49,
          50,
          51,
          52,
          53,
          54,
          55,
          56,
          57,
          58,
          59,
          60,
          61,
          62,
          63,
          64,
          65,
          66,
          67,
          68,
          69,
          70,
          71,
          72,
          73,
          74,
          75,
          76,
          77,
          78,
          79,
          80,
          81,
          82,
          83,
          84,
          85,
          86,
          87,
          88,
          89,
          90,
          91,
          92,
          93,
          94,
          95,
          96,
          97,
          98,
          99
         ],
         "y": [
          44.638324247720554,
          45.215680717631464,
          45.42485411534634,
          44.86988084339216,
          40.74379856473625,
          40.791337068314434,
          37.63201480939988,
          37.1603298374943,
          28.109895747175067,
          20.263231731752203,
          22.61460002822986,
          18.61868662529371,
          15.141362934416096,
          26.053769580425225,
          30.067637929102336,
          33.97314757475905,
          19.98346827581142,
          34.4325379181114,
          25.07539555751588,
          18.358512011988374,
          23.136570951220467,
          15.072088866373404,
          18.210771498050068,
          10.495885366908729,
          7.094540878857861,
          5.8637220751090755,
          17.159960440818598,
          22.305274987960036,
          22.76429495129122,
          16.201174571470474,
          22.14585400008542,
          19.78441767573487,
          20.522527159817884,
          21.930512904215146,
          15.953720463642249,
          17.3195982998558,
          10.285627928065265,
          8.250250616336887,
          19.178147659932165,
          9.886445365424658,
          9.38369384991154,
          16.465717675370335,
          2.0774858242480163,
          13.08602510493375,
          20.013267679474218,
          10.091111434299128,
          14.651627116260522,
          19.554521030893124,
          17.00232075465249,
          13.359975958945926,
          7.902413955635543,
          11.512817971571668,
          11.47410064875627,
          12.460324387718455,
          19.845524524620334,
          8.145483041945166,
          11.353060211253794,
          26.27138131193647,
          18.8645975757863,
          24.614280010667162,
          31.506272276109573,
          30.736423659402323,
          28.792346434010643,
          24.24027424206511,
          18.912114418783755,
          16.828559324836778,
          19.944314480964678,
          13.673845912644115,
          13.467767936004229,
          19.562057273421562,
          22.347819797403517,
          31.936080932438543,
          17.497110499637916,
          11.376180776087198,
          9.789463127646078,
          14.066125678379294,
          14.557253487969573,
          26.220064212502958,
          26.322181042776407,
          19.727717583854183,
          14.2343995930533,
          7.060939644477127,
          6.808889627701265,
          14.542646172240795,
          14.227003048793975,
          11.857060890472354,
          20.521212820832194,
          16.58352246657512,
          18.388309037674052,
          18.62167045553692,
          21.6880771217795,
          39.73303199813901,
          36.77223229867613,
          27.421536914327724,
          19.229365322296083,
          24.156264234911234,
          26.220810690086253,
          18.736440872583202,
          22.67786649706425,
          32.571328407038685
         ]
        },
        {
         "line": {
          "color": "red",
          "dash": "dash"
         },
         "mode": "lines",
         "name": "Erreur quadratique moyenne : 20.64",
         "type": "scatter",
         "x": [
          0,
          1,
          2,
          3,
          4,
          5,
          6,
          7,
          8,
          9,
          10,
          11,
          12,
          13,
          14,
          15,
          16,
          17,
          18,
          19,
          20,
          21,
          22,
          23,
          24,
          25,
          26,
          27,
          28,
          29,
          30,
          31,
          32,
          33,
          34,
          35,
          36,
          37,
          38,
          39,
          40,
          41,
          42,
          43,
          44,
          45,
          46,
          47,
          48,
          49,
          50,
          51,
          52,
          53,
          54,
          55,
          56,
          57,
          58,
          59,
          60,
          61,
          62,
          63,
          64,
          65,
          66,
          67,
          68,
          69,
          70,
          71,
          72,
          73,
          74,
          75,
          76,
          77,
          78,
          79,
          80,
          81,
          82,
          83,
          84,
          85,
          86,
          87,
          88,
          89,
          90,
          91,
          92,
          93,
          94,
          95,
          96,
          97,
          98,
          99
         ],
         "y": [
          20.64416164059864,
          20.64416164059864,
          20.64416164059864,
          20.64416164059864,
          20.64416164059864,
          20.64416164059864,
          20.64416164059864,
          20.64416164059864,
          20.64416164059864,
          20.64416164059864,
          20.64416164059864,
          20.64416164059864,
          20.64416164059864,
          20.64416164059864,
          20.64416164059864,
          20.64416164059864,
          20.64416164059864,
          20.64416164059864,
          20.64416164059864,
          20.64416164059864,
          20.64416164059864,
          20.64416164059864,
          20.64416164059864,
          20.64416164059864,
          20.64416164059864,
          20.64416164059864,
          20.64416164059864,
          20.64416164059864,
          20.64416164059864,
          20.64416164059864,
          20.64416164059864,
          20.64416164059864,
          20.64416164059864,
          20.64416164059864,
          20.64416164059864,
          20.64416164059864,
          20.64416164059864,
          20.64416164059864,
          20.64416164059864,
          20.64416164059864,
          20.64416164059864,
          20.64416164059864,
          20.64416164059864,
          20.64416164059864,
          20.64416164059864,
          20.64416164059864,
          20.64416164059864,
          20.64416164059864,
          20.64416164059864,
          20.64416164059864,
          20.64416164059864,
          20.64416164059864,
          20.64416164059864,
          20.64416164059864,
          20.64416164059864,
          20.64416164059864,
          20.64416164059864,
          20.64416164059864,
          20.64416164059864,
          20.64416164059864,
          20.64416164059864,
          20.64416164059864,
          20.64416164059864,
          20.64416164059864,
          20.64416164059864,
          20.64416164059864,
          20.64416164059864,
          20.64416164059864,
          20.64416164059864,
          20.64416164059864,
          20.64416164059864,
          20.64416164059864,
          20.64416164059864,
          20.64416164059864,
          20.64416164059864,
          20.64416164059864,
          20.64416164059864,
          20.64416164059864,
          20.64416164059864,
          20.64416164059864,
          20.64416164059864,
          20.64416164059864,
          20.64416164059864,
          20.64416164059864,
          20.64416164059864,
          20.64416164059864,
          20.64416164059864,
          20.64416164059864,
          20.64416164059864,
          20.64416164059864,
          20.64416164059864,
          20.64416164059864,
          20.64416164059864,
          20.64416164059864,
          20.64416164059864,
          20.64416164059864,
          20.64416164059864,
          20.64416164059864,
          20.64416164059864,
          20.64416164059864
         ]
        }
       ],
       "layout": {
        "grid": {
         "columns": 1,
         "rows": 1
        },
        "height": 500,
        "legend": {
         "x": 0,
         "y": 1
        },
        "template": {
         "data": {
          "bar": [
           {
            "error_x": {
             "color": "#2a3f5f"
            },
            "error_y": {
             "color": "#2a3f5f"
            },
            "marker": {
             "line": {
              "color": "#E5ECF6",
              "width": 0.5
             },
             "pattern": {
              "fillmode": "overlay",
              "size": 10,
              "solidity": 0.2
             }
            },
            "type": "bar"
           }
          ],
          "barpolar": [
           {
            "marker": {
             "line": {
              "color": "#E5ECF6",
              "width": 0.5
             },
             "pattern": {
              "fillmode": "overlay",
              "size": 10,
              "solidity": 0.2
             }
            },
            "type": "barpolar"
           }
          ],
          "carpet": [
           {
            "aaxis": {
             "endlinecolor": "#2a3f5f",
             "gridcolor": "white",
             "linecolor": "white",
             "minorgridcolor": "white",
             "startlinecolor": "#2a3f5f"
            },
            "baxis": {
             "endlinecolor": "#2a3f5f",
             "gridcolor": "white",
             "linecolor": "white",
             "minorgridcolor": "white",
             "startlinecolor": "#2a3f5f"
            },
            "type": "carpet"
           }
          ],
          "choropleth": [
           {
            "colorbar": {
             "outlinewidth": 0,
             "ticks": ""
            },
            "type": "choropleth"
           }
          ],
          "contour": [
           {
            "colorbar": {
             "outlinewidth": 0,
             "ticks": ""
            },
            "colorscale": [
             [
              0,
              "#0d0887"
             ],
             [
              0.1111111111111111,
              "#46039f"
             ],
             [
              0.2222222222222222,
              "#7201a8"
             ],
             [
              0.3333333333333333,
              "#9c179e"
             ],
             [
              0.4444444444444444,
              "#bd3786"
             ],
             [
              0.5555555555555556,
              "#d8576b"
             ],
             [
              0.6666666666666666,
              "#ed7953"
             ],
             [
              0.7777777777777778,
              "#fb9f3a"
             ],
             [
              0.8888888888888888,
              "#fdca26"
             ],
             [
              1,
              "#f0f921"
             ]
            ],
            "type": "contour"
           }
          ],
          "contourcarpet": [
           {
            "colorbar": {
             "outlinewidth": 0,
             "ticks": ""
            },
            "type": "contourcarpet"
           }
          ],
          "heatmap": [
           {
            "colorbar": {
             "outlinewidth": 0,
             "ticks": ""
            },
            "colorscale": [
             [
              0,
              "#0d0887"
             ],
             [
              0.1111111111111111,
              "#46039f"
             ],
             [
              0.2222222222222222,
              "#7201a8"
             ],
             [
              0.3333333333333333,
              "#9c179e"
             ],
             [
              0.4444444444444444,
              "#bd3786"
             ],
             [
              0.5555555555555556,
              "#d8576b"
             ],
             [
              0.6666666666666666,
              "#ed7953"
             ],
             [
              0.7777777777777778,
              "#fb9f3a"
             ],
             [
              0.8888888888888888,
              "#fdca26"
             ],
             [
              1,
              "#f0f921"
             ]
            ],
            "type": "heatmap"
           }
          ],
          "heatmapgl": [
           {
            "colorbar": {
             "outlinewidth": 0,
             "ticks": ""
            },
            "colorscale": [
             [
              0,
              "#0d0887"
             ],
             [
              0.1111111111111111,
              "#46039f"
             ],
             [
              0.2222222222222222,
              "#7201a8"
             ],
             [
              0.3333333333333333,
              "#9c179e"
             ],
             [
              0.4444444444444444,
              "#bd3786"
             ],
             [
              0.5555555555555556,
              "#d8576b"
             ],
             [
              0.6666666666666666,
              "#ed7953"
             ],
             [
              0.7777777777777778,
              "#fb9f3a"
             ],
             [
              0.8888888888888888,
              "#fdca26"
             ],
             [
              1,
              "#f0f921"
             ]
            ],
            "type": "heatmapgl"
           }
          ],
          "histogram": [
           {
            "marker": {
             "pattern": {
              "fillmode": "overlay",
              "size": 10,
              "solidity": 0.2
             }
            },
            "type": "histogram"
           }
          ],
          "histogram2d": [
           {
            "colorbar": {
             "outlinewidth": 0,
             "ticks": ""
            },
            "colorscale": [
             [
              0,
              "#0d0887"
             ],
             [
              0.1111111111111111,
              "#46039f"
             ],
             [
              0.2222222222222222,
              "#7201a8"
             ],
             [
              0.3333333333333333,
              "#9c179e"
             ],
             [
              0.4444444444444444,
              "#bd3786"
             ],
             [
              0.5555555555555556,
              "#d8576b"
             ],
             [
              0.6666666666666666,
              "#ed7953"
             ],
             [
              0.7777777777777778,
              "#fb9f3a"
             ],
             [
              0.8888888888888888,
              "#fdca26"
             ],
             [
              1,
              "#f0f921"
             ]
            ],
            "type": "histogram2d"
           }
          ],
          "histogram2dcontour": [
           {
            "colorbar": {
             "outlinewidth": 0,
             "ticks": ""
            },
            "colorscale": [
             [
              0,
              "#0d0887"
             ],
             [
              0.1111111111111111,
              "#46039f"
             ],
             [
              0.2222222222222222,
              "#7201a8"
             ],
             [
              0.3333333333333333,
              "#9c179e"
             ],
             [
              0.4444444444444444,
              "#bd3786"
             ],
             [
              0.5555555555555556,
              "#d8576b"
             ],
             [
              0.6666666666666666,
              "#ed7953"
             ],
             [
              0.7777777777777778,
              "#fb9f3a"
             ],
             [
              0.8888888888888888,
              "#fdca26"
             ],
             [
              1,
              "#f0f921"
             ]
            ],
            "type": "histogram2dcontour"
           }
          ],
          "mesh3d": [
           {
            "colorbar": {
             "outlinewidth": 0,
             "ticks": ""
            },
            "type": "mesh3d"
           }
          ],
          "parcoords": [
           {
            "line": {
             "colorbar": {
              "outlinewidth": 0,
              "ticks": ""
             }
            },
            "type": "parcoords"
           }
          ],
          "pie": [
           {
            "automargin": true,
            "type": "pie"
           }
          ],
          "scatter": [
           {
            "fillpattern": {
             "fillmode": "overlay",
             "size": 10,
             "solidity": 0.2
            },
            "type": "scatter"
           }
          ],
          "scatter3d": [
           {
            "line": {
             "colorbar": {
              "outlinewidth": 0,
              "ticks": ""
             }
            },
            "marker": {
             "colorbar": {
              "outlinewidth": 0,
              "ticks": ""
             }
            },
            "type": "scatter3d"
           }
          ],
          "scattercarpet": [
           {
            "marker": {
             "colorbar": {
              "outlinewidth": 0,
              "ticks": ""
             }
            },
            "type": "scattercarpet"
           }
          ],
          "scattergeo": [
           {
            "marker": {
             "colorbar": {
              "outlinewidth": 0,
              "ticks": ""
             }
            },
            "type": "scattergeo"
           }
          ],
          "scattergl": [
           {
            "marker": {
             "colorbar": {
              "outlinewidth": 0,
              "ticks": ""
             }
            },
            "type": "scattergl"
           }
          ],
          "scattermapbox": [
           {
            "marker": {
             "colorbar": {
              "outlinewidth": 0,
              "ticks": ""
             }
            },
            "type": "scattermapbox"
           }
          ],
          "scatterpolar": [
           {
            "marker": {
             "colorbar": {
              "outlinewidth": 0,
              "ticks": ""
             }
            },
            "type": "scatterpolar"
           }
          ],
          "scatterpolargl": [
           {
            "marker": {
             "colorbar": {
              "outlinewidth": 0,
              "ticks": ""
             }
            },
            "type": "scatterpolargl"
           }
          ],
          "scatterternary": [
           {
            "marker": {
             "colorbar": {
              "outlinewidth": 0,
              "ticks": ""
             }
            },
            "type": "scatterternary"
           }
          ],
          "surface": [
           {
            "colorbar": {
             "outlinewidth": 0,
             "ticks": ""
            },
            "colorscale": [
             [
              0,
              "#0d0887"
             ],
             [
              0.1111111111111111,
              "#46039f"
             ],
             [
              0.2222222222222222,
              "#7201a8"
             ],
             [
              0.3333333333333333,
              "#9c179e"
             ],
             [
              0.4444444444444444,
              "#bd3786"
             ],
             [
              0.5555555555555556,
              "#d8576b"
             ],
             [
              0.6666666666666666,
              "#ed7953"
             ],
             [
              0.7777777777777778,
              "#fb9f3a"
             ],
             [
              0.8888888888888888,
              "#fdca26"
             ],
             [
              1,
              "#f0f921"
             ]
            ],
            "type": "surface"
           }
          ],
          "table": [
           {
            "cells": {
             "fill": {
              "color": "#EBF0F8"
             },
             "line": {
              "color": "white"
             }
            },
            "header": {
             "fill": {
              "color": "#C8D4E3"
             },
             "line": {
              "color": "white"
             }
            },
            "type": "table"
           }
          ]
         },
         "layout": {
          "annotationdefaults": {
           "arrowcolor": "#2a3f5f",
           "arrowhead": 0,
           "arrowwidth": 1
          },
          "autotypenumbers": "strict",
          "coloraxis": {
           "colorbar": {
            "outlinewidth": 0,
            "ticks": ""
           }
          },
          "colorscale": {
           "diverging": [
            [
             0,
             "#8e0152"
            ],
            [
             0.1,
             "#c51b7d"
            ],
            [
             0.2,
             "#de77ae"
            ],
            [
             0.3,
             "#f1b6da"
            ],
            [
             0.4,
             "#fde0ef"
            ],
            [
             0.5,
             "#f7f7f7"
            ],
            [
             0.6,
             "#e6f5d0"
            ],
            [
             0.7,
             "#b8e186"
            ],
            [
             0.8,
             "#7fbc41"
            ],
            [
             0.9,
             "#4d9221"
            ],
            [
             1,
             "#276419"
            ]
           ],
           "sequential": [
            [
             0,
             "#0d0887"
            ],
            [
             0.1111111111111111,
             "#46039f"
            ],
            [
             0.2222222222222222,
             "#7201a8"
            ],
            [
             0.3333333333333333,
             "#9c179e"
            ],
            [
             0.4444444444444444,
             "#bd3786"
            ],
            [
             0.5555555555555556,
             "#d8576b"
            ],
            [
             0.6666666666666666,
             "#ed7953"
            ],
            [
             0.7777777777777778,
             "#fb9f3a"
            ],
            [
             0.8888888888888888,
             "#fdca26"
            ],
            [
             1,
             "#f0f921"
            ]
           ],
           "sequentialminus": [
            [
             0,
             "#0d0887"
            ],
            [
             0.1111111111111111,
             "#46039f"
            ],
            [
             0.2222222222222222,
             "#7201a8"
            ],
            [
             0.3333333333333333,
             "#9c179e"
            ],
            [
             0.4444444444444444,
             "#bd3786"
            ],
            [
             0.5555555555555556,
             "#d8576b"
            ],
            [
             0.6666666666666666,
             "#ed7953"
            ],
            [
             0.7777777777777778,
             "#fb9f3a"
            ],
            [
             0.8888888888888888,
             "#fdca26"
            ],
            [
             1,
             "#f0f921"
            ]
           ]
          },
          "colorway": [
           "#636efa",
           "#EF553B",
           "#00cc96",
           "#ab63fa",
           "#FFA15A",
           "#19d3f3",
           "#FF6692",
           "#B6E880",
           "#FF97FF",
           "#FECB52"
          ],
          "font": {
           "color": "#2a3f5f"
          },
          "geo": {
           "bgcolor": "white",
           "lakecolor": "white",
           "landcolor": "#E5ECF6",
           "showlakes": true,
           "showland": true,
           "subunitcolor": "white"
          },
          "hoverlabel": {
           "align": "left"
          },
          "hovermode": "closest",
          "mapbox": {
           "style": "light"
          },
          "paper_bgcolor": "white",
          "plot_bgcolor": "#E5ECF6",
          "polar": {
           "angularaxis": {
            "gridcolor": "white",
            "linecolor": "white",
            "ticks": ""
           },
           "bgcolor": "#E5ECF6",
           "radialaxis": {
            "gridcolor": "white",
            "linecolor": "white",
            "ticks": ""
           }
          },
          "scene": {
           "xaxis": {
            "backgroundcolor": "#E5ECF6",
            "gridcolor": "white",
            "gridwidth": 2,
            "linecolor": "white",
            "showbackground": true,
            "ticks": "",
            "zerolinecolor": "white"
           },
           "yaxis": {
            "backgroundcolor": "#E5ECF6",
            "gridcolor": "white",
            "gridwidth": 2,
            "linecolor": "white",
            "showbackground": true,
            "ticks": "",
            "zerolinecolor": "white"
           },
           "zaxis": {
            "backgroundcolor": "#E5ECF6",
            "gridcolor": "white",
            "gridwidth": 2,
            "linecolor": "white",
            "showbackground": true,
            "ticks": "",
            "zerolinecolor": "white"
           }
          },
          "shapedefaults": {
           "line": {
            "color": "#2a3f5f"
           }
          },
          "ternary": {
           "aaxis": {
            "gridcolor": "white",
            "linecolor": "white",
            "ticks": ""
           },
           "baxis": {
            "gridcolor": "white",
            "linecolor": "white",
            "ticks": ""
           },
           "bgcolor": "#E5ECF6",
           "caxis": {
            "gridcolor": "white",
            "linecolor": "white",
            "ticks": ""
           }
          },
          "title": {
           "x": 0.05
          },
          "xaxis": {
           "automargin": true,
           "gridcolor": "white",
           "linecolor": "white",
           "ticks": "",
           "title": {
            "standoff": 15
           },
           "zerolinecolor": "white",
           "zerolinewidth": 2
          },
          "yaxis": {
           "automargin": true,
           "gridcolor": "white",
           "linecolor": "white",
           "ticks": "",
           "title": {
            "standoff": 15
           },
           "zerolinecolor": "white",
           "zerolinewidth": 2
          }
         }
        },
        "title": {
         "text": "Erreur quadratique (racine) au fil du temps"
        },
        "width": 800,
        "xaxis": {
         "title": {
          "text": "Temps k"
         }
        },
        "yaxis": {
         "title": {
          "text": "√Erreur quadratique"
         }
        }
       }
      }
     },
     "metadata": {},
     "output_type": "display_data"
    }
   ],
   "source": [
    "# --- Courbe d'erreur quadratique moyenne instantanée ---\n",
    "fig = go.Figure()\n",
    "\n",
    "# Courbe des √erreurs à chaque instant\n",
    "fig.add_trace(go.Scatter(\n",
    "    y=np.sqrt(err_quadra),\n",
    "    x=np.arange(T),\n",
    "    mode='lines',\n",
    "    name='√Erreur quadratique instantanée',\n",
    "    line=dict(color='orange')\n",
    "))\n",
    "\n",
    "# Ligne horizontale = erreur moyenne\n",
    "fig.add_trace(go.Scatter(\n",
    "    y=[erreur_moyenne] * T,\n",
    "    x=np.arange(T),\n",
    "    mode='lines',\n",
    "    name=f'Erreur quadratique moyenne : {erreur_moyenne:.2f}',\n",
    "    line=dict(dash='dash', color='red')\n",
    "))\n",
    "\n",
    "fig.update_layout(\n",
    "    title=\"Erreur quadratique (racine) au fil du temps\",\n",
    "    xaxis_title=\"Temps k\",\n",
    "    yaxis_title=\"√Erreur quadratique\",\n",
    "    legend=dict(x=0, y=1),\n",
    "    width=800,\n",
    "    height=500,\n",
    "    grid=dict(rows=1, columns=1)\n",
    ")\n",
    "\n",
    "fig.show()"
   ]
  },
  {
   "cell_type": "code",
   "execution_count": 226,
   "id": "a758810f",
   "metadata": {},
   "outputs": [
    {
     "data": {
      "application/vnd.plotly.v1+json": {
       "config": {
        "plotlyServerURL": "https://plot.ly"
       },
       "data": [
        {
         "line": {
          "color": "blue"
         },
         "mode": "lines",
         "name": "Position vraie x",
         "type": "scatter",
         "x": [
          0,
          1,
          2,
          3,
          4,
          5,
          6,
          7,
          8,
          9,
          10,
          11,
          12,
          13,
          14,
          15,
          16,
          17,
          18,
          19,
          20,
          21,
          22,
          23,
          24,
          25,
          26,
          27,
          28,
          29,
          30,
          31,
          32,
          33,
          34,
          35,
          36,
          37,
          38,
          39,
          40,
          41,
          42,
          43,
          44,
          45,
          46,
          47,
          48,
          49,
          50,
          51,
          52,
          53,
          54,
          55,
          56,
          57,
          58,
          59,
          60,
          61,
          62,
          63,
          64,
          65,
          66,
          67,
          68,
          69,
          70,
          71,
          72,
          73,
          74,
          75,
          76,
          77,
          78,
          79,
          80,
          81,
          82,
          83,
          84,
          85,
          86,
          87,
          88,
          89,
          90,
          91,
          92,
          93,
          94,
          95,
          96,
          97,
          98,
          99
         ],
         "y": [
          3,
          42.611572288641035,
          80.83895642534284,
          118.40127129145667,
          155.88764670793657,
          193.30320144626756,
          230.56567214103615,
          267.26247569166895,
          302.7337128575426,
          337.58133600843763,
          372.55146417141,
          407.1340272812331,
          441.688813039732,
          475.8068741020446,
          509.59723117371595,
          543.3058103275212,
          576.7607908551067,
          610.4360460348227,
          644.5289793891044,
          679.3720842278402,
          714.5578282307815,
          748.6355534144025,
          782.2349209467347,
          815.1445884363916,
          846.8959143825504,
          877.8400486257364,
          908.0141150985345,
          938.2487710916446,
          969.0637672870499,
          997.8067036942729,
          1026.3643207358557,
          1056.6321050284,
          1085.7566927546102,
          1113.234447554195,
          1138.9570429502658,
          1164.0403636627839,
          1189.560891003726,
          1214.3498096357787,
          1239.640133990144,
          1264.4616743493668,
          1289.189284440236,
          1314.197242028945,
          1339.3087637411907,
          1365.2261552207212,
          1391.0265411018054,
          1417.8930645857213,
          1443.8716684209473,
          1471.0309971291017,
          1497.2891598588594,
          1522.4228214889051,
          1546.9081628592894,
          1570.8353384915981,
          1594.0487440319048,
          1618.8088846115968,
          1643.4456547609802,
          1668.8397507304944,
          1694.3098893476656,
          1719.431100878893,
          1744.0549847142327,
          1769.3487976361735,
          1792.6579707238895,
          1815.312205699189,
          1838.7160159131759,
          1861.877683380436,
          1885.7941041557012,
          1910.1194798088693,
          1934.0876585821932,
          1957.083159189848,
          1979.3129944929574,
          2001.6950204423385,
          2023.8779631330447,
          2046.181727401196,
          2066.801881183669,
          2086.3108216444307,
          2104.8274337894436,
          2122.9419552399236,
          2140.1967308899025,
          2156.9195326017393,
          2173.219404626472,
          2189.4939278660613,
          2204.9366556056534,
          2220.50659811823,
          2236.635411593488,
          2251.5212741220175,
          2265.88273886056,
          2280.0781062313376,
          2293.748088022904,
          2306.611298177379,
          2318.435175677534,
          2329.408545398002,
          2339.4832413986333,
          2349.4872363394475,
          2358.1504210000085,
          2365.4836527771386,
          2372.819465819065,
          2379.962874614528,
          2385.95735956407,
          2391.37640256542,
          2395.754632913436,
          2399.7614448998747
         ]
        },
        {
         "marker": {
          "color": "red",
          "size": 4
         },
         "mode": "markers",
         "name": "Observation x",
         "type": "scatter",
         "x": [
          0,
          1,
          2,
          3,
          4,
          5,
          6,
          7,
          8,
          9,
          10,
          11,
          12,
          13,
          14,
          15,
          16,
          17,
          18,
          19,
          20,
          21,
          22,
          23,
          24,
          25,
          26,
          27,
          28,
          29,
          30,
          31,
          32,
          33,
          34,
          35,
          36,
          37,
          38,
          39,
          40,
          41,
          42,
          43,
          44,
          45,
          46,
          47,
          48,
          49,
          50,
          51,
          52,
          53,
          54,
          55,
          56,
          57,
          58,
          59,
          60,
          61,
          62,
          63,
          64,
          65,
          66,
          67,
          68,
          69,
          70,
          71,
          72,
          73,
          74,
          75,
          76,
          77,
          78,
          79,
          80,
          81,
          82,
          83,
          84,
          85,
          86,
          87,
          88,
          89,
          90,
          91,
          92,
          93,
          94,
          95,
          96,
          97,
          98,
          99
         ],
         "y": [
          13.033140961085893,
          106.62773620975577,
          36.33398067559145,
          111.5556516109524,
          110.15735734633421,
          242.46677960202967,
          248.00934141902604,
          302.4645273291583,
          287.9828395484224,
          306.91335650116804,
          357.37925345950543,
          427.3629277002325,
          420.24554321279294,
          469.87203633463685,
          554.6860835298605,
          572.6590623532476,
          541.6890664597489,
          618.9169579441343,
          597.4514122986005,
          657.1845856888805,
          687.5983058651001,
          768.9989508573202,
          757.9349170720162,
          834.3780837976769,
          863.6834171094516,
          886.9516487296146,
          947.9204931086597,
          947.4045864573825,
          992.404089675965,
          956.8333848085805,
          1057.7106627372168,
          1035.8788495184156,
          1084.6632274845815,
          1143.5404826885188,
          1117.7196022563448,
          1165.3229531103202,
          1161.0365238115135,
          1201.075022009861,
          1242.7790161989751,
          1256.6383704032617,
          1297.3644556686324,
          1347.7575273644636,
          1283.121181634817,
          1354.5805251401487,
          1400.400393947988,
          1435.1192306331322,
          1443.6050337386932,
          1457.1987871042804,
          1497.038738540562,
          1485.7826020714288,
          1549.4472058759613,
          1541.6553169403446,
          1593.9212514357337,
          1614.1089915670364,
          1629.9924670370024,
          1701.9544802847572,
          1729.4674271391225,
          1793.9726724084169,
          1728.1105023655102,
          1791.697362837226,
          1826.2499447605062,
          1822.4293468987903,
          1855.5051031109938,
          1861.1340425309922,
          1880.0221412189414,
          1912.5781179568387,
          1944.2704223893286,
          1920.0280668230564,
          1952.8942319827386,
          2002.8414278740145,
          1990.2185889970976,
          2028.8294561103307,
          2094.3073098249183,
          2103.0204153130685,
          2118.414704667053,
          2132.3833884625637,
          2137.155996315259,
          2186.626597639818,
          2163.532328528147,
          2180.561351605111,
          2191.968316101002,
          2177.8377781575387,
          2195.7899752880676,
          2213.1826402666798,
          2277.750287627666,
          2319.8311811486515,
          2321.345368676434,
          2303.3332282794545,
          2332.2177974629617,
          2307.147851344762,
          2354.5624308448373,
          2427.1539380056042,
          2353.1056679341673,
          2325.8717777629295,
          2343.288801658537,
          2405.8359213126996,
          2405.9004544713994,
          2363.4084662043315,
          2410.8247761541043,
          2447.8150423652946
         ]
        },
        {
         "line": {
          "color": "green"
         },
         "mode": "lines",
         "name": "Estimation Kalman x",
         "type": "scatter",
         "x": [
          0,
          1,
          2,
          3,
          4,
          5,
          6,
          7,
          8,
          9,
          10,
          11,
          12,
          13,
          14,
          15,
          16,
          17,
          18,
          19,
          20,
          21,
          22,
          23,
          24,
          25,
          26,
          27,
          28,
          29,
          30,
          31,
          32,
          33,
          34,
          35,
          36,
          37,
          38,
          39,
          40,
          41,
          42,
          43,
          44,
          45,
          46,
          47,
          48,
          49,
          50,
          51,
          52,
          53,
          54,
          55,
          56,
          57,
          58,
          59,
          60,
          61,
          62,
          63,
          64,
          65,
          66,
          67,
          68,
          69,
          70,
          71,
          72,
          73,
          74,
          75,
          76,
          77,
          78,
          79,
          80,
          81,
          82,
          83,
          84,
          85,
          86,
          87,
          88,
          89,
          90,
          91,
          92,
          93,
          94,
          95,
          96,
          97,
          98,
          99
         ],
         "y": [
          42.92250904570654,
          83.07291936595468,
          121.34993216747023,
          158.7479959243854,
          191.74153876201652,
          230.280751639757,
          265.2833926560843,
          302.3404903217689,
          330.1366321455486,
          354.0868615960648,
          381.50347395411535,
          417.2009477065857,
          443.7972095534434,
          474.77797660845215,
          517.6654557536345,
          556.0386086144232,
          579.3389936731796,
          613.6611400337619,
          635.6281721271722,
          664.9745649415408,
          694.3363556577109,
          735.2007812941064,
          765.359716741085,
          805.7394193828324,
          844.4599147989745,
          880.2510523628115,
          921.9435662362905,
          954.8296240967247,
          990.246574284722,
          1009.6012419111468,
          1045.9323369457136,
          1069.3846583484337,
          1097.6144728592649,
          1132.4360713827514,
          1153.786269281269,
          1180.0524861923489,
          1198.934933270384,
          1221.5208802499178,
          1247.8581249574133,
          1271.2072055302885,
          1298.0836665991276,
          1330.2903057835022,
          1340.971842999965,
          1363.7887719787482,
          1391.5703169865462,
          1421.1891446853158,
          1446.4071720562445,
          1468.8979541302735,
          1494.9938826677371,
          1512.6500447715016,
          1539.9885908618512,
          1559.6100743643597,
          1586.1340239985975,
          1611.444260346244,
          1634.6874313381227,
          1668.8794165420688,
          1702.520512064904,
          1743.9744431292117,
          1762.4724739495598,
          1790.2241636933772,
          1819.5666121342606,
          1841.5583301042107,
          1865.5119061842363,
          1885.0023971460935,
          1903.6565562131134,
          1924.781790669859,
          1947.9541284220802,
          1960.2289393668589,
          1976.01175086502,
          1998.8916965897943,
          2013.8084002417738,
          2033.4258158222167,
          2063.344500133871,
          2089.3447716275914,
          2113.33220819276,
          2135.1886920173583,
          2153.0754126965503,
          2177.6829299185106,
          2191.697523723789,
          2205.572942265839,
          2218.1538984388135,
          2223.889292867797,
          2231.055587271318,
          2239.515828411981,
          2259.972314684776,
          2285.8704425039687,
          2307.2147227144824,
          2320.017095843696,
          2335.990332494077,
          2342.5133297401394,
          2357.3054725722413,
          2385.1699818362163,
          2391.073359808776,
          2388.323766313028,
          2388.3336475145015,
          2401.254754935013,
          2411.384452564542,
          2409.378986481733,
          2417.273095048297,
          2431.5993654719014
         ]
        }
       ],
       "layout": {
        "height": 400,
        "template": {
         "data": {
          "bar": [
           {
            "error_x": {
             "color": "#2a3f5f"
            },
            "error_y": {
             "color": "#2a3f5f"
            },
            "marker": {
             "line": {
              "color": "#E5ECF6",
              "width": 0.5
             },
             "pattern": {
              "fillmode": "overlay",
              "size": 10,
              "solidity": 0.2
             }
            },
            "type": "bar"
           }
          ],
          "barpolar": [
           {
            "marker": {
             "line": {
              "color": "#E5ECF6",
              "width": 0.5
             },
             "pattern": {
              "fillmode": "overlay",
              "size": 10,
              "solidity": 0.2
             }
            },
            "type": "barpolar"
           }
          ],
          "carpet": [
           {
            "aaxis": {
             "endlinecolor": "#2a3f5f",
             "gridcolor": "white",
             "linecolor": "white",
             "minorgridcolor": "white",
             "startlinecolor": "#2a3f5f"
            },
            "baxis": {
             "endlinecolor": "#2a3f5f",
             "gridcolor": "white",
             "linecolor": "white",
             "minorgridcolor": "white",
             "startlinecolor": "#2a3f5f"
            },
            "type": "carpet"
           }
          ],
          "choropleth": [
           {
            "colorbar": {
             "outlinewidth": 0,
             "ticks": ""
            },
            "type": "choropleth"
           }
          ],
          "contour": [
           {
            "colorbar": {
             "outlinewidth": 0,
             "ticks": ""
            },
            "colorscale": [
             [
              0,
              "#0d0887"
             ],
             [
              0.1111111111111111,
              "#46039f"
             ],
             [
              0.2222222222222222,
              "#7201a8"
             ],
             [
              0.3333333333333333,
              "#9c179e"
             ],
             [
              0.4444444444444444,
              "#bd3786"
             ],
             [
              0.5555555555555556,
              "#d8576b"
             ],
             [
              0.6666666666666666,
              "#ed7953"
             ],
             [
              0.7777777777777778,
              "#fb9f3a"
             ],
             [
              0.8888888888888888,
              "#fdca26"
             ],
             [
              1,
              "#f0f921"
             ]
            ],
            "type": "contour"
           }
          ],
          "contourcarpet": [
           {
            "colorbar": {
             "outlinewidth": 0,
             "ticks": ""
            },
            "type": "contourcarpet"
           }
          ],
          "heatmap": [
           {
            "colorbar": {
             "outlinewidth": 0,
             "ticks": ""
            },
            "colorscale": [
             [
              0,
              "#0d0887"
             ],
             [
              0.1111111111111111,
              "#46039f"
             ],
             [
              0.2222222222222222,
              "#7201a8"
             ],
             [
              0.3333333333333333,
              "#9c179e"
             ],
             [
              0.4444444444444444,
              "#bd3786"
             ],
             [
              0.5555555555555556,
              "#d8576b"
             ],
             [
              0.6666666666666666,
              "#ed7953"
             ],
             [
              0.7777777777777778,
              "#fb9f3a"
             ],
             [
              0.8888888888888888,
              "#fdca26"
             ],
             [
              1,
              "#f0f921"
             ]
            ],
            "type": "heatmap"
           }
          ],
          "heatmapgl": [
           {
            "colorbar": {
             "outlinewidth": 0,
             "ticks": ""
            },
            "colorscale": [
             [
              0,
              "#0d0887"
             ],
             [
              0.1111111111111111,
              "#46039f"
             ],
             [
              0.2222222222222222,
              "#7201a8"
             ],
             [
              0.3333333333333333,
              "#9c179e"
             ],
             [
              0.4444444444444444,
              "#bd3786"
             ],
             [
              0.5555555555555556,
              "#d8576b"
             ],
             [
              0.6666666666666666,
              "#ed7953"
             ],
             [
              0.7777777777777778,
              "#fb9f3a"
             ],
             [
              0.8888888888888888,
              "#fdca26"
             ],
             [
              1,
              "#f0f921"
             ]
            ],
            "type": "heatmapgl"
           }
          ],
          "histogram": [
           {
            "marker": {
             "pattern": {
              "fillmode": "overlay",
              "size": 10,
              "solidity": 0.2
             }
            },
            "type": "histogram"
           }
          ],
          "histogram2d": [
           {
            "colorbar": {
             "outlinewidth": 0,
             "ticks": ""
            },
            "colorscale": [
             [
              0,
              "#0d0887"
             ],
             [
              0.1111111111111111,
              "#46039f"
             ],
             [
              0.2222222222222222,
              "#7201a8"
             ],
             [
              0.3333333333333333,
              "#9c179e"
             ],
             [
              0.4444444444444444,
              "#bd3786"
             ],
             [
              0.5555555555555556,
              "#d8576b"
             ],
             [
              0.6666666666666666,
              "#ed7953"
             ],
             [
              0.7777777777777778,
              "#fb9f3a"
             ],
             [
              0.8888888888888888,
              "#fdca26"
             ],
             [
              1,
              "#f0f921"
             ]
            ],
            "type": "histogram2d"
           }
          ],
          "histogram2dcontour": [
           {
            "colorbar": {
             "outlinewidth": 0,
             "ticks": ""
            },
            "colorscale": [
             [
              0,
              "#0d0887"
             ],
             [
              0.1111111111111111,
              "#46039f"
             ],
             [
              0.2222222222222222,
              "#7201a8"
             ],
             [
              0.3333333333333333,
              "#9c179e"
             ],
             [
              0.4444444444444444,
              "#bd3786"
             ],
             [
              0.5555555555555556,
              "#d8576b"
             ],
             [
              0.6666666666666666,
              "#ed7953"
             ],
             [
              0.7777777777777778,
              "#fb9f3a"
             ],
             [
              0.8888888888888888,
              "#fdca26"
             ],
             [
              1,
              "#f0f921"
             ]
            ],
            "type": "histogram2dcontour"
           }
          ],
          "mesh3d": [
           {
            "colorbar": {
             "outlinewidth": 0,
             "ticks": ""
            },
            "type": "mesh3d"
           }
          ],
          "parcoords": [
           {
            "line": {
             "colorbar": {
              "outlinewidth": 0,
              "ticks": ""
             }
            },
            "type": "parcoords"
           }
          ],
          "pie": [
           {
            "automargin": true,
            "type": "pie"
           }
          ],
          "scatter": [
           {
            "fillpattern": {
             "fillmode": "overlay",
             "size": 10,
             "solidity": 0.2
            },
            "type": "scatter"
           }
          ],
          "scatter3d": [
           {
            "line": {
             "colorbar": {
              "outlinewidth": 0,
              "ticks": ""
             }
            },
            "marker": {
             "colorbar": {
              "outlinewidth": 0,
              "ticks": ""
             }
            },
            "type": "scatter3d"
           }
          ],
          "scattercarpet": [
           {
            "marker": {
             "colorbar": {
              "outlinewidth": 0,
              "ticks": ""
             }
            },
            "type": "scattercarpet"
           }
          ],
          "scattergeo": [
           {
            "marker": {
             "colorbar": {
              "outlinewidth": 0,
              "ticks": ""
             }
            },
            "type": "scattergeo"
           }
          ],
          "scattergl": [
           {
            "marker": {
             "colorbar": {
              "outlinewidth": 0,
              "ticks": ""
             }
            },
            "type": "scattergl"
           }
          ],
          "scattermapbox": [
           {
            "marker": {
             "colorbar": {
              "outlinewidth": 0,
              "ticks": ""
             }
            },
            "type": "scattermapbox"
           }
          ],
          "scatterpolar": [
           {
            "marker": {
             "colorbar": {
              "outlinewidth": 0,
              "ticks": ""
             }
            },
            "type": "scatterpolar"
           }
          ],
          "scatterpolargl": [
           {
            "marker": {
             "colorbar": {
              "outlinewidth": 0,
              "ticks": ""
             }
            },
            "type": "scatterpolargl"
           }
          ],
          "scatterternary": [
           {
            "marker": {
             "colorbar": {
              "outlinewidth": 0,
              "ticks": ""
             }
            },
            "type": "scatterternary"
           }
          ],
          "surface": [
           {
            "colorbar": {
             "outlinewidth": 0,
             "ticks": ""
            },
            "colorscale": [
             [
              0,
              "#0d0887"
             ],
             [
              0.1111111111111111,
              "#46039f"
             ],
             [
              0.2222222222222222,
              "#7201a8"
             ],
             [
              0.3333333333333333,
              "#9c179e"
             ],
             [
              0.4444444444444444,
              "#bd3786"
             ],
             [
              0.5555555555555556,
              "#d8576b"
             ],
             [
              0.6666666666666666,
              "#ed7953"
             ],
             [
              0.7777777777777778,
              "#fb9f3a"
             ],
             [
              0.8888888888888888,
              "#fdca26"
             ],
             [
              1,
              "#f0f921"
             ]
            ],
            "type": "surface"
           }
          ],
          "table": [
           {
            "cells": {
             "fill": {
              "color": "#EBF0F8"
             },
             "line": {
              "color": "white"
             }
            },
            "header": {
             "fill": {
              "color": "#C8D4E3"
             },
             "line": {
              "color": "white"
             }
            },
            "type": "table"
           }
          ]
         },
         "layout": {
          "annotationdefaults": {
           "arrowcolor": "#2a3f5f",
           "arrowhead": 0,
           "arrowwidth": 1
          },
          "autotypenumbers": "strict",
          "coloraxis": {
           "colorbar": {
            "outlinewidth": 0,
            "ticks": ""
           }
          },
          "colorscale": {
           "diverging": [
            [
             0,
             "#8e0152"
            ],
            [
             0.1,
             "#c51b7d"
            ],
            [
             0.2,
             "#de77ae"
            ],
            [
             0.3,
             "#f1b6da"
            ],
            [
             0.4,
             "#fde0ef"
            ],
            [
             0.5,
             "#f7f7f7"
            ],
            [
             0.6,
             "#e6f5d0"
            ],
            [
             0.7,
             "#b8e186"
            ],
            [
             0.8,
             "#7fbc41"
            ],
            [
             0.9,
             "#4d9221"
            ],
            [
             1,
             "#276419"
            ]
           ],
           "sequential": [
            [
             0,
             "#0d0887"
            ],
            [
             0.1111111111111111,
             "#46039f"
            ],
            [
             0.2222222222222222,
             "#7201a8"
            ],
            [
             0.3333333333333333,
             "#9c179e"
            ],
            [
             0.4444444444444444,
             "#bd3786"
            ],
            [
             0.5555555555555556,
             "#d8576b"
            ],
            [
             0.6666666666666666,
             "#ed7953"
            ],
            [
             0.7777777777777778,
             "#fb9f3a"
            ],
            [
             0.8888888888888888,
             "#fdca26"
            ],
            [
             1,
             "#f0f921"
            ]
           ],
           "sequentialminus": [
            [
             0,
             "#0d0887"
            ],
            [
             0.1111111111111111,
             "#46039f"
            ],
            [
             0.2222222222222222,
             "#7201a8"
            ],
            [
             0.3333333333333333,
             "#9c179e"
            ],
            [
             0.4444444444444444,
             "#bd3786"
            ],
            [
             0.5555555555555556,
             "#d8576b"
            ],
            [
             0.6666666666666666,
             "#ed7953"
            ],
            [
             0.7777777777777778,
             "#fb9f3a"
            ],
            [
             0.8888888888888888,
             "#fdca26"
            ],
            [
             1,
             "#f0f921"
            ]
           ]
          },
          "colorway": [
           "#636efa",
           "#EF553B",
           "#00cc96",
           "#ab63fa",
           "#FFA15A",
           "#19d3f3",
           "#FF6692",
           "#B6E880",
           "#FF97FF",
           "#FECB52"
          ],
          "font": {
           "color": "#2a3f5f"
          },
          "geo": {
           "bgcolor": "white",
           "lakecolor": "white",
           "landcolor": "#E5ECF6",
           "showlakes": true,
           "showland": true,
           "subunitcolor": "white"
          },
          "hoverlabel": {
           "align": "left"
          },
          "hovermode": "closest",
          "mapbox": {
           "style": "light"
          },
          "paper_bgcolor": "white",
          "plot_bgcolor": "#E5ECF6",
          "polar": {
           "angularaxis": {
            "gridcolor": "white",
            "linecolor": "white",
            "ticks": ""
           },
           "bgcolor": "#E5ECF6",
           "radialaxis": {
            "gridcolor": "white",
            "linecolor": "white",
            "ticks": ""
           }
          },
          "scene": {
           "xaxis": {
            "backgroundcolor": "#E5ECF6",
            "gridcolor": "white",
            "gridwidth": 2,
            "linecolor": "white",
            "showbackground": true,
            "ticks": "",
            "zerolinecolor": "white"
           },
           "yaxis": {
            "backgroundcolor": "#E5ECF6",
            "gridcolor": "white",
            "gridwidth": 2,
            "linecolor": "white",
            "showbackground": true,
            "ticks": "",
            "zerolinecolor": "white"
           },
           "zaxis": {
            "backgroundcolor": "#E5ECF6",
            "gridcolor": "white",
            "gridwidth": 2,
            "linecolor": "white",
            "showbackground": true,
            "ticks": "",
            "zerolinecolor": "white"
           }
          },
          "shapedefaults": {
           "line": {
            "color": "#2a3f5f"
           }
          },
          "ternary": {
           "aaxis": {
            "gridcolor": "white",
            "linecolor": "white",
            "ticks": ""
           },
           "baxis": {
            "gridcolor": "white",
            "linecolor": "white",
            "ticks": ""
           },
           "bgcolor": "#E5ECF6",
           "caxis": {
            "gridcolor": "white",
            "linecolor": "white",
            "ticks": ""
           }
          },
          "title": {
           "x": 0.05
          },
          "xaxis": {
           "automargin": true,
           "gridcolor": "white",
           "linecolor": "white",
           "ticks": "",
           "title": {
            "standoff": 15
           },
           "zerolinecolor": "white",
           "zerolinewidth": 2
          },
          "yaxis": {
           "automargin": true,
           "gridcolor": "white",
           "linecolor": "white",
           "ticks": "",
           "title": {
            "standoff": 15
           },
           "zerolinecolor": "white",
           "zerolinewidth": 2
          }
         }
        },
        "title": {
         "text": "Position en abscisse (x) dans le temps"
        },
        "width": 800,
        "xaxis": {
         "title": {
          "text": "Temps k"
         }
        },
        "yaxis": {
         "title": {
          "text": "Position x"
         }
        }
       }
      }
     },
     "metadata": {},
     "output_type": "display_data"
    },
    {
     "data": {
      "application/vnd.plotly.v1+json": {
       "config": {
        "plotlyServerURL": "https://plot.ly"
       },
       "data": [
        {
         "line": {
          "color": "blue"
         },
         "mode": "lines",
         "name": "Position vraie y",
         "type": "scatter",
         "x": [
          0,
          1,
          2,
          3,
          4,
          5,
          6,
          7,
          8,
          9,
          10,
          11,
          12,
          13,
          14,
          15,
          16,
          17,
          18,
          19,
          20,
          21,
          22,
          23,
          24,
          25,
          26,
          27,
          28,
          29,
          30,
          31,
          32,
          33,
          34,
          35,
          36,
          37,
          38,
          39,
          40,
          41,
          42,
          43,
          44,
          45,
          46,
          47,
          48,
          49,
          50,
          51,
          52,
          53,
          54,
          55,
          56,
          57,
          58,
          59,
          60,
          61,
          62,
          63,
          64,
          65,
          66,
          67,
          68,
          69,
          70,
          71,
          72,
          73,
          74,
          75,
          76,
          77,
          78,
          79,
          80,
          81,
          82,
          83,
          84,
          85,
          86,
          87,
          88,
          89,
          90,
          91,
          92,
          93,
          94,
          95,
          96,
          97,
          98,
          99
         ],
         "y": [
          -4,
          15.386418447625463,
          34.77738666018273,
          54.38654741884121,
          73.44703283164306,
          92.46263764468061,
          111.68116459172522,
          131.20798703581664,
          151.48312560129452,
          171.54630613594793,
          191.20915566542672,
          210.60024023477564,
          229.98819693147797,
          249.76557328412247,
          269.06398377632996,
          287.95042216757815,
          306.95936408231114,
          325.66740555398644,
          344.2889537924346,
          363.40921268023476,
          383.14735219689265,
          401.6437062808699,
          418.721486820412,
          435.6259729391685,
          452.5157525005365,
          469.3042245475263,
          484.61941163417566,
          499.62151007176686,
          513.5179504253182,
          526.891027504795,
          538.8157979261355,
          550.3776670025636,
          561.9580441932937,
          574.042523025998,
          585.4847252752177,
          597.4713458498392,
          609.8945484730175,
          621.5429180978847,
          633.7456207533127,
          646.4995638124169,
          659.76086738128,
          673.1116952657712,
          685.245706983358,
          697.2618207747241,
          710.9183598665159,
          724.1571562041422,
          738.9693362217417,
          752.7223839153783,
          765.2263990880685,
          777.6431375797582,
          789.6211590638954,
          802.2315051701124,
          815.0049873575193,
          827.8765114415559,
          840.3604553705951,
          852.4451717829488,
          864.1465422272771,
          875.1289331250063,
          884.7659516399008,
          893.036974507825,
          901.54590361273,
          911.453587394201,
          923.12561116704,
          936.9596485243287,
          950.8088103279249,
          964.1617251627506,
          976.9080236435111,
          987.8148862960829,
          997.8132916957755,
          1007.1538764882966,
          1016.7525583569372,
          1027.3261942122183,
          1039.1137140724004,
          1051.4090865042938,
          1063.648496712013,
          1075.5887195921957,
          1087.8485894591388,
          1098.8443065088177,
          1108.6017946217871,
          1118.073909951475,
          1125.7526944857314,
          1134.1414661565689,
          1143.7679455048294,
          1153.1911868301286,
          1161.624395701839,
          1169.5731677912531,
          1177.2305858519237,
          1187.0485199745528,
          1196.4779011029577,
          1205.3529038006843,
          1214.2323677924633,
          1222.393890354794,
          1230.6590254862801,
          1238.4058374264996,
          1245.3207009505443,
          1252.3216501982051,
          1259.893642386053,
          1267.968812114837,
          1275.8271111572142,
          1284.2144752291797
         ]
        },
        {
         "marker": {
          "color": "red",
          "size": 4
         },
         "mode": "markers",
         "name": "Observation y",
         "type": "scatter",
         "x": [
          0,
          1,
          2,
          3,
          4,
          5,
          6,
          7,
          8,
          9,
          10,
          11,
          12,
          13,
          14,
          15,
          16,
          17,
          18,
          19,
          20,
          21,
          22,
          23,
          24,
          25,
          26,
          27,
          28,
          29,
          30,
          31,
          32,
          33,
          34,
          35,
          36,
          37,
          38,
          39,
          40,
          41,
          42,
          43,
          44,
          45,
          46,
          47,
          48,
          49,
          50,
          51,
          52,
          53,
          54,
          55,
          56,
          57,
          58,
          59,
          60,
          61,
          62,
          63,
          64,
          65,
          66,
          67,
          68,
          69,
          70,
          71,
          72,
          73,
          74,
          75,
          76,
          77,
          78,
          79,
          80,
          81,
          82,
          83,
          84,
          85,
          86,
          87,
          88,
          89,
          90,
          91,
          92,
          93,
          94,
          95,
          96,
          97,
          98,
          99
         ],
         "y": [
          4.103160440859613,
          -13.089997967345337,
          52.95678319727399,
          49.49316261174272,
          83.84306524320142,
          87.36965953575532,
          110.84176318492563,
          136.8648501528268,
          136.19517099838794,
          107.97714158390343,
          150.0983731757469,
          230.98743983482612,
          229.97112630042437,
          196.9900855583984,
          242.69839529582433,
          259.2252950996919,
          338.9770952212113,
          245.4593436443754,
          368.575235657047,
          400.88670192448404,
          374.77404703490123,
          406.6352231712769,
          453.0529232088624,
          418.8811295877719,
          452.0199986640722,
          450.8130071052847,
          495.52717598080517,
          519.5567450977062,
          469.5758516448326,
          533.8546917710714,
          527.086669776904,
          564.4814210057293,
          565.7298507288577,
          542.3576939123699,
          536.6659311922218,
          578.1088209601604,
          612.0328137243839,
          632.7984929170124,
          551.5932148203398,
          682.062925117847,
          674.1031391646511,
          674.6309851859191,
          688.2994162214761,
          749.6611882431221,
          750.9604927975454,
          690.7106526919077,
          773.1555845126688,
          785.5308048734278,
          764.5242083910138,
          753.4804654475271,
          770.5557079202906,
          801.2200266795617,
          773.3954446817279,
          818.1820911544112,
          801.1393003290013,
          883.4781189969085,
          858.434543768518,
          861.2707924259518,
          907.6976843157692,
          929.4603578152486,
          912.0487635585167,
          916.6568221898323,
          911.3155307831993,
          937.724653441548,
          961.9138330388031,
          985.3206972522114,
          1012.6873742716093,
          988.9294574738269,
          1000.2036257780946,
          1037.3184631874822,
          1028.1032723534363,
          1081.8757840697235,
          1009.1497121274875,
          1040.2253190803704,
          1029.1421889872258,
          1071.196334499117,
          1088.7865200237509,
          1055.044354223434,
          1082.0209258560915,
          1137.252209770784,
          1141.8172707532685,
          1163.2220898237244,
          1136.4602431845478,
          1169.8181998637783,
          1182.1840946772809,
          1155.2699274901179,
          1202.2441759677156,
          1169.6835258085239,
          1176.0838825190635,
          1146.3785831617479,
          1209.86891128621,
          1194.438100296023,
          1224.361505307803,
          1227.9262314546856,
          1244.008697325843,
          1242.8773242828079,
          1284.2996139144334,
          1264.1877485682378,
          1258.7172764630227,
          1290.591258138778
         ]
        },
        {
         "line": {
          "color": "green"
         },
         "mode": "lines",
         "name": "Estimation Kalman y",
         "type": "scatter",
         "x": [
          0,
          1,
          2,
          3,
          4,
          5,
          6,
          7,
          8,
          9,
          10,
          11,
          12,
          13,
          14,
          15,
          16,
          17,
          18,
          19,
          20,
          21,
          22,
          23,
          24,
          25,
          26,
          27,
          28,
          29,
          30,
          31,
          32,
          33,
          34,
          35,
          36,
          37,
          38,
          39,
          40,
          41,
          42,
          43,
          44,
          45,
          46,
          47,
          48,
          49,
          50,
          51,
          52,
          53,
          54,
          55,
          56,
          57,
          58,
          59,
          60,
          61,
          62,
          63,
          64,
          65,
          66,
          67,
          68,
          69,
          70,
          71,
          72,
          73,
          74,
          75,
          76,
          77,
          78,
          79,
          80,
          81,
          82,
          83,
          84,
          85,
          86,
          87,
          88,
          89,
          90,
          91,
          92,
          93,
          94,
          95,
          96,
          97,
          98,
          99
         ],
         "y": [
          15.9692361001426,
          35.5361167083326,
          55.25256313254414,
          73.98406640411294,
          92.78158384498671,
          109.66876866680572,
          126.15902475934648,
          143.2646318728881,
          156.82396651807193,
          161.11569697324387,
          170.97716833466592,
          195.4099124625217,
          215.46103083954694,
          224.14906869198558,
          240.31137290855813,
          256.62446870378676,
          287.23294452855407,
          291.48495973994324,
          321.0736261930822,
          352.6291986740732,
          372.6279714994506,
          395.35557964233084,
          423.7462659196448,
          438.88659780785207,
          457.50426504830335,
          471.475183045779,
          491.8012497492776,
          513.077137241675,
          518.3686803937261,
          535.6229305709332,
          547.365181312828,
          564.344147083308,
          577.7493382395672,
          582.4353789066813,
          583.5847221031257,
          592.526565613319,
          606.7303551446304,
          622.5826711174196,
          616.6487404357927,
          639.8478396364172,
          657.1933543387253,
          671.207338317841,
          685.2429846014645,
          710.1373201481654,
          730.8204074412128,
          733.6769878441953,
          753.3854427296133,
          772.0043789097799,
          782.0026031425367,
          786.7005524200297,
          793.2417969004717,
          804.6077846980619,
          806.9564275119172,
          817.9789362357058,
          822.6209199646296,
          844.3141015302605,
          856.5193199486239,
          866.6486616965503,
          884.8802584716398,
          904.583846480278,
          916.570355088787,
          926.7453704342314,
          933.0939646603451,
          943.3694733004768,
          956.6457817160871,
          972.3817164049257,
          991.1433865105205,
          1000.8605280139896,
          1010.5824486868128,
          1026.2337953655006,
          1036.5512932302638,
          1056.5098463253305,
          1056.120367066347,
          1061.514967635791,
          1062.5362170541098,
          1071.9165250872893,
          1083.1439603015547,
          1084.303493677186,
          1090.4807270900737,
          1107.5727783818654,
          1122.6837037719254,
          1139.787398329866,
          1147.595671205109,
          1160.8917616653353,
          1174.237689251041,
          1178.6548962946595,
          1192.0712216900465,
          1195.3231321280657,
          1198.540354210533,
          1193.607892348777,
          1202.861966502462,
          1206.704066257831,
          1216.1218380069329,
          1224.4490915436525,
          1234.6429753532593,
          1242.5340828079438,
          1258.0655459713234,
          1266.254631628188,
          1271.274819184687,
          1282.0379229187486
         ]
        }
       ],
       "layout": {
        "height": 400,
        "template": {
         "data": {
          "bar": [
           {
            "error_x": {
             "color": "#2a3f5f"
            },
            "error_y": {
             "color": "#2a3f5f"
            },
            "marker": {
             "line": {
              "color": "#E5ECF6",
              "width": 0.5
             },
             "pattern": {
              "fillmode": "overlay",
              "size": 10,
              "solidity": 0.2
             }
            },
            "type": "bar"
           }
          ],
          "barpolar": [
           {
            "marker": {
             "line": {
              "color": "#E5ECF6",
              "width": 0.5
             },
             "pattern": {
              "fillmode": "overlay",
              "size": 10,
              "solidity": 0.2
             }
            },
            "type": "barpolar"
           }
          ],
          "carpet": [
           {
            "aaxis": {
             "endlinecolor": "#2a3f5f",
             "gridcolor": "white",
             "linecolor": "white",
             "minorgridcolor": "white",
             "startlinecolor": "#2a3f5f"
            },
            "baxis": {
             "endlinecolor": "#2a3f5f",
             "gridcolor": "white",
             "linecolor": "white",
             "minorgridcolor": "white",
             "startlinecolor": "#2a3f5f"
            },
            "type": "carpet"
           }
          ],
          "choropleth": [
           {
            "colorbar": {
             "outlinewidth": 0,
             "ticks": ""
            },
            "type": "choropleth"
           }
          ],
          "contour": [
           {
            "colorbar": {
             "outlinewidth": 0,
             "ticks": ""
            },
            "colorscale": [
             [
              0,
              "#0d0887"
             ],
             [
              0.1111111111111111,
              "#46039f"
             ],
             [
              0.2222222222222222,
              "#7201a8"
             ],
             [
              0.3333333333333333,
              "#9c179e"
             ],
             [
              0.4444444444444444,
              "#bd3786"
             ],
             [
              0.5555555555555556,
              "#d8576b"
             ],
             [
              0.6666666666666666,
              "#ed7953"
             ],
             [
              0.7777777777777778,
              "#fb9f3a"
             ],
             [
              0.8888888888888888,
              "#fdca26"
             ],
             [
              1,
              "#f0f921"
             ]
            ],
            "type": "contour"
           }
          ],
          "contourcarpet": [
           {
            "colorbar": {
             "outlinewidth": 0,
             "ticks": ""
            },
            "type": "contourcarpet"
           }
          ],
          "heatmap": [
           {
            "colorbar": {
             "outlinewidth": 0,
             "ticks": ""
            },
            "colorscale": [
             [
              0,
              "#0d0887"
             ],
             [
              0.1111111111111111,
              "#46039f"
             ],
             [
              0.2222222222222222,
              "#7201a8"
             ],
             [
              0.3333333333333333,
              "#9c179e"
             ],
             [
              0.4444444444444444,
              "#bd3786"
             ],
             [
              0.5555555555555556,
              "#d8576b"
             ],
             [
              0.6666666666666666,
              "#ed7953"
             ],
             [
              0.7777777777777778,
              "#fb9f3a"
             ],
             [
              0.8888888888888888,
              "#fdca26"
             ],
             [
              1,
              "#f0f921"
             ]
            ],
            "type": "heatmap"
           }
          ],
          "heatmapgl": [
           {
            "colorbar": {
             "outlinewidth": 0,
             "ticks": ""
            },
            "colorscale": [
             [
              0,
              "#0d0887"
             ],
             [
              0.1111111111111111,
              "#46039f"
             ],
             [
              0.2222222222222222,
              "#7201a8"
             ],
             [
              0.3333333333333333,
              "#9c179e"
             ],
             [
              0.4444444444444444,
              "#bd3786"
             ],
             [
              0.5555555555555556,
              "#d8576b"
             ],
             [
              0.6666666666666666,
              "#ed7953"
             ],
             [
              0.7777777777777778,
              "#fb9f3a"
             ],
             [
              0.8888888888888888,
              "#fdca26"
             ],
             [
              1,
              "#f0f921"
             ]
            ],
            "type": "heatmapgl"
           }
          ],
          "histogram": [
           {
            "marker": {
             "pattern": {
              "fillmode": "overlay",
              "size": 10,
              "solidity": 0.2
             }
            },
            "type": "histogram"
           }
          ],
          "histogram2d": [
           {
            "colorbar": {
             "outlinewidth": 0,
             "ticks": ""
            },
            "colorscale": [
             [
              0,
              "#0d0887"
             ],
             [
              0.1111111111111111,
              "#46039f"
             ],
             [
              0.2222222222222222,
              "#7201a8"
             ],
             [
              0.3333333333333333,
              "#9c179e"
             ],
             [
              0.4444444444444444,
              "#bd3786"
             ],
             [
              0.5555555555555556,
              "#d8576b"
             ],
             [
              0.6666666666666666,
              "#ed7953"
             ],
             [
              0.7777777777777778,
              "#fb9f3a"
             ],
             [
              0.8888888888888888,
              "#fdca26"
             ],
             [
              1,
              "#f0f921"
             ]
            ],
            "type": "histogram2d"
           }
          ],
          "histogram2dcontour": [
           {
            "colorbar": {
             "outlinewidth": 0,
             "ticks": ""
            },
            "colorscale": [
             [
              0,
              "#0d0887"
             ],
             [
              0.1111111111111111,
              "#46039f"
             ],
             [
              0.2222222222222222,
              "#7201a8"
             ],
             [
              0.3333333333333333,
              "#9c179e"
             ],
             [
              0.4444444444444444,
              "#bd3786"
             ],
             [
              0.5555555555555556,
              "#d8576b"
             ],
             [
              0.6666666666666666,
              "#ed7953"
             ],
             [
              0.7777777777777778,
              "#fb9f3a"
             ],
             [
              0.8888888888888888,
              "#fdca26"
             ],
             [
              1,
              "#f0f921"
             ]
            ],
            "type": "histogram2dcontour"
           }
          ],
          "mesh3d": [
           {
            "colorbar": {
             "outlinewidth": 0,
             "ticks": ""
            },
            "type": "mesh3d"
           }
          ],
          "parcoords": [
           {
            "line": {
             "colorbar": {
              "outlinewidth": 0,
              "ticks": ""
             }
            },
            "type": "parcoords"
           }
          ],
          "pie": [
           {
            "automargin": true,
            "type": "pie"
           }
          ],
          "scatter": [
           {
            "fillpattern": {
             "fillmode": "overlay",
             "size": 10,
             "solidity": 0.2
            },
            "type": "scatter"
           }
          ],
          "scatter3d": [
           {
            "line": {
             "colorbar": {
              "outlinewidth": 0,
              "ticks": ""
             }
            },
            "marker": {
             "colorbar": {
              "outlinewidth": 0,
              "ticks": ""
             }
            },
            "type": "scatter3d"
           }
          ],
          "scattercarpet": [
           {
            "marker": {
             "colorbar": {
              "outlinewidth": 0,
              "ticks": ""
             }
            },
            "type": "scattercarpet"
           }
          ],
          "scattergeo": [
           {
            "marker": {
             "colorbar": {
              "outlinewidth": 0,
              "ticks": ""
             }
            },
            "type": "scattergeo"
           }
          ],
          "scattergl": [
           {
            "marker": {
             "colorbar": {
              "outlinewidth": 0,
              "ticks": ""
             }
            },
            "type": "scattergl"
           }
          ],
          "scattermapbox": [
           {
            "marker": {
             "colorbar": {
              "outlinewidth": 0,
              "ticks": ""
             }
            },
            "type": "scattermapbox"
           }
          ],
          "scatterpolar": [
           {
            "marker": {
             "colorbar": {
              "outlinewidth": 0,
              "ticks": ""
             }
            },
            "type": "scatterpolar"
           }
          ],
          "scatterpolargl": [
           {
            "marker": {
             "colorbar": {
              "outlinewidth": 0,
              "ticks": ""
             }
            },
            "type": "scatterpolargl"
           }
          ],
          "scatterternary": [
           {
            "marker": {
             "colorbar": {
              "outlinewidth": 0,
              "ticks": ""
             }
            },
            "type": "scatterternary"
           }
          ],
          "surface": [
           {
            "colorbar": {
             "outlinewidth": 0,
             "ticks": ""
            },
            "colorscale": [
             [
              0,
              "#0d0887"
             ],
             [
              0.1111111111111111,
              "#46039f"
             ],
             [
              0.2222222222222222,
              "#7201a8"
             ],
             [
              0.3333333333333333,
              "#9c179e"
             ],
             [
              0.4444444444444444,
              "#bd3786"
             ],
             [
              0.5555555555555556,
              "#d8576b"
             ],
             [
              0.6666666666666666,
              "#ed7953"
             ],
             [
              0.7777777777777778,
              "#fb9f3a"
             ],
             [
              0.8888888888888888,
              "#fdca26"
             ],
             [
              1,
              "#f0f921"
             ]
            ],
            "type": "surface"
           }
          ],
          "table": [
           {
            "cells": {
             "fill": {
              "color": "#EBF0F8"
             },
             "line": {
              "color": "white"
             }
            },
            "header": {
             "fill": {
              "color": "#C8D4E3"
             },
             "line": {
              "color": "white"
             }
            },
            "type": "table"
           }
          ]
         },
         "layout": {
          "annotationdefaults": {
           "arrowcolor": "#2a3f5f",
           "arrowhead": 0,
           "arrowwidth": 1
          },
          "autotypenumbers": "strict",
          "coloraxis": {
           "colorbar": {
            "outlinewidth": 0,
            "ticks": ""
           }
          },
          "colorscale": {
           "diverging": [
            [
             0,
             "#8e0152"
            ],
            [
             0.1,
             "#c51b7d"
            ],
            [
             0.2,
             "#de77ae"
            ],
            [
             0.3,
             "#f1b6da"
            ],
            [
             0.4,
             "#fde0ef"
            ],
            [
             0.5,
             "#f7f7f7"
            ],
            [
             0.6,
             "#e6f5d0"
            ],
            [
             0.7,
             "#b8e186"
            ],
            [
             0.8,
             "#7fbc41"
            ],
            [
             0.9,
             "#4d9221"
            ],
            [
             1,
             "#276419"
            ]
           ],
           "sequential": [
            [
             0,
             "#0d0887"
            ],
            [
             0.1111111111111111,
             "#46039f"
            ],
            [
             0.2222222222222222,
             "#7201a8"
            ],
            [
             0.3333333333333333,
             "#9c179e"
            ],
            [
             0.4444444444444444,
             "#bd3786"
            ],
            [
             0.5555555555555556,
             "#d8576b"
            ],
            [
             0.6666666666666666,
             "#ed7953"
            ],
            [
             0.7777777777777778,
             "#fb9f3a"
            ],
            [
             0.8888888888888888,
             "#fdca26"
            ],
            [
             1,
             "#f0f921"
            ]
           ],
           "sequentialminus": [
            [
             0,
             "#0d0887"
            ],
            [
             0.1111111111111111,
             "#46039f"
            ],
            [
             0.2222222222222222,
             "#7201a8"
            ],
            [
             0.3333333333333333,
             "#9c179e"
            ],
            [
             0.4444444444444444,
             "#bd3786"
            ],
            [
             0.5555555555555556,
             "#d8576b"
            ],
            [
             0.6666666666666666,
             "#ed7953"
            ],
            [
             0.7777777777777778,
             "#fb9f3a"
            ],
            [
             0.8888888888888888,
             "#fdca26"
            ],
            [
             1,
             "#f0f921"
            ]
           ]
          },
          "colorway": [
           "#636efa",
           "#EF553B",
           "#00cc96",
           "#ab63fa",
           "#FFA15A",
           "#19d3f3",
           "#FF6692",
           "#B6E880",
           "#FF97FF",
           "#FECB52"
          ],
          "font": {
           "color": "#2a3f5f"
          },
          "geo": {
           "bgcolor": "white",
           "lakecolor": "white",
           "landcolor": "#E5ECF6",
           "showlakes": true,
           "showland": true,
           "subunitcolor": "white"
          },
          "hoverlabel": {
           "align": "left"
          },
          "hovermode": "closest",
          "mapbox": {
           "style": "light"
          },
          "paper_bgcolor": "white",
          "plot_bgcolor": "#E5ECF6",
          "polar": {
           "angularaxis": {
            "gridcolor": "white",
            "linecolor": "white",
            "ticks": ""
           },
           "bgcolor": "#E5ECF6",
           "radialaxis": {
            "gridcolor": "white",
            "linecolor": "white",
            "ticks": ""
           }
          },
          "scene": {
           "xaxis": {
            "backgroundcolor": "#E5ECF6",
            "gridcolor": "white",
            "gridwidth": 2,
            "linecolor": "white",
            "showbackground": true,
            "ticks": "",
            "zerolinecolor": "white"
           },
           "yaxis": {
            "backgroundcolor": "#E5ECF6",
            "gridcolor": "white",
            "gridwidth": 2,
            "linecolor": "white",
            "showbackground": true,
            "ticks": "",
            "zerolinecolor": "white"
           },
           "zaxis": {
            "backgroundcolor": "#E5ECF6",
            "gridcolor": "white",
            "gridwidth": 2,
            "linecolor": "white",
            "showbackground": true,
            "ticks": "",
            "zerolinecolor": "white"
           }
          },
          "shapedefaults": {
           "line": {
            "color": "#2a3f5f"
           }
          },
          "ternary": {
           "aaxis": {
            "gridcolor": "white",
            "linecolor": "white",
            "ticks": ""
           },
           "baxis": {
            "gridcolor": "white",
            "linecolor": "white",
            "ticks": ""
           },
           "bgcolor": "#E5ECF6",
           "caxis": {
            "gridcolor": "white",
            "linecolor": "white",
            "ticks": ""
           }
          },
          "title": {
           "x": 0.05
          },
          "xaxis": {
           "automargin": true,
           "gridcolor": "white",
           "linecolor": "white",
           "ticks": "",
           "title": {
            "standoff": 15
           },
           "zerolinecolor": "white",
           "zerolinewidth": 2
          },
          "yaxis": {
           "automargin": true,
           "gridcolor": "white",
           "linecolor": "white",
           "ticks": "",
           "title": {
            "standoff": 15
           },
           "zerolinecolor": "white",
           "zerolinewidth": 2
          }
         }
        },
        "title": {
         "text": "Position en ordonnée (y) dans le temps"
        },
        "width": 800,
        "xaxis": {
         "title": {
          "text": "Temps k"
         }
        },
        "yaxis": {
         "title": {
          "text": "Position y"
         }
        }
       }
      }
     },
     "metadata": {},
     "output_type": "display_data"
    },
    {
     "data": {
      "application/vnd.plotly.v1+json": {
       "config": {
        "plotlyServerURL": "https://plot.ly"
       },
       "data": [
        {
         "line": {
          "color": "blue"
         },
         "mode": "lines+markers",
         "name": "Trajectoire vraie",
         "type": "scatter",
         "x": [
          3,
          42.611572288641035,
          80.83895642534284,
          118.40127129145667,
          155.88764670793657,
          193.30320144626756,
          230.56567214103615,
          267.26247569166895,
          302.7337128575426,
          337.58133600843763,
          372.55146417141,
          407.1340272812331,
          441.688813039732,
          475.8068741020446,
          509.59723117371595,
          543.3058103275212,
          576.7607908551067,
          610.4360460348227,
          644.5289793891044,
          679.3720842278402,
          714.5578282307815,
          748.6355534144025,
          782.2349209467347,
          815.1445884363916,
          846.8959143825504,
          877.8400486257364,
          908.0141150985345,
          938.2487710916446,
          969.0637672870499,
          997.8067036942729,
          1026.3643207358557,
          1056.6321050284,
          1085.7566927546102,
          1113.234447554195,
          1138.9570429502658,
          1164.0403636627839,
          1189.560891003726,
          1214.3498096357787,
          1239.640133990144,
          1264.4616743493668,
          1289.189284440236,
          1314.197242028945,
          1339.3087637411907,
          1365.2261552207212,
          1391.0265411018054,
          1417.8930645857213,
          1443.8716684209473,
          1471.0309971291017,
          1497.2891598588594,
          1522.4228214889051,
          1546.9081628592894,
          1570.8353384915981,
          1594.0487440319048,
          1618.8088846115968,
          1643.4456547609802,
          1668.8397507304944,
          1694.3098893476656,
          1719.431100878893,
          1744.0549847142327,
          1769.3487976361735,
          1792.6579707238895,
          1815.312205699189,
          1838.7160159131759,
          1861.877683380436,
          1885.7941041557012,
          1910.1194798088693,
          1934.0876585821932,
          1957.083159189848,
          1979.3129944929574,
          2001.6950204423385,
          2023.8779631330447,
          2046.181727401196,
          2066.801881183669,
          2086.3108216444307,
          2104.8274337894436,
          2122.9419552399236,
          2140.1967308899025,
          2156.9195326017393,
          2173.219404626472,
          2189.4939278660613,
          2204.9366556056534,
          2220.50659811823,
          2236.635411593488,
          2251.5212741220175,
          2265.88273886056,
          2280.0781062313376,
          2293.748088022904,
          2306.611298177379,
          2318.435175677534,
          2329.408545398002,
          2339.4832413986333,
          2349.4872363394475,
          2358.1504210000085,
          2365.4836527771386,
          2372.819465819065,
          2379.962874614528,
          2385.95735956407,
          2391.37640256542,
          2395.754632913436,
          2399.7614448998747
         ],
         "y": [
          -4,
          15.386418447625463,
          34.77738666018273,
          54.38654741884121,
          73.44703283164306,
          92.46263764468061,
          111.68116459172522,
          131.20798703581664,
          151.48312560129452,
          171.54630613594793,
          191.20915566542672,
          210.60024023477564,
          229.98819693147797,
          249.76557328412247,
          269.06398377632996,
          287.95042216757815,
          306.95936408231114,
          325.66740555398644,
          344.2889537924346,
          363.40921268023476,
          383.14735219689265,
          401.6437062808699,
          418.721486820412,
          435.6259729391685,
          452.5157525005365,
          469.3042245475263,
          484.61941163417566,
          499.62151007176686,
          513.5179504253182,
          526.891027504795,
          538.8157979261355,
          550.3776670025636,
          561.9580441932937,
          574.042523025998,
          585.4847252752177,
          597.4713458498392,
          609.8945484730175,
          621.5429180978847,
          633.7456207533127,
          646.4995638124169,
          659.76086738128,
          673.1116952657712,
          685.245706983358,
          697.2618207747241,
          710.9183598665159,
          724.1571562041422,
          738.9693362217417,
          752.7223839153783,
          765.2263990880685,
          777.6431375797582,
          789.6211590638954,
          802.2315051701124,
          815.0049873575193,
          827.8765114415559,
          840.3604553705951,
          852.4451717829488,
          864.1465422272771,
          875.1289331250063,
          884.7659516399008,
          893.036974507825,
          901.54590361273,
          911.453587394201,
          923.12561116704,
          936.9596485243287,
          950.8088103279249,
          964.1617251627506,
          976.9080236435111,
          987.8148862960829,
          997.8132916957755,
          1007.1538764882966,
          1016.7525583569372,
          1027.3261942122183,
          1039.1137140724004,
          1051.4090865042938,
          1063.648496712013,
          1075.5887195921957,
          1087.8485894591388,
          1098.8443065088177,
          1108.6017946217871,
          1118.073909951475,
          1125.7526944857314,
          1134.1414661565689,
          1143.7679455048294,
          1153.1911868301286,
          1161.624395701839,
          1169.5731677912531,
          1177.2305858519237,
          1187.0485199745528,
          1196.4779011029577,
          1205.3529038006843,
          1214.2323677924633,
          1222.393890354794,
          1230.6590254862801,
          1238.4058374264996,
          1245.3207009505443,
          1252.3216501982051,
          1259.893642386053,
          1267.968812114837,
          1275.8271111572142,
          1284.2144752291797
         ]
        },
        {
         "marker": {
          "color": "red",
          "size": 4
         },
         "mode": "markers",
         "name": "Observations",
         "type": "scatter",
         "x": [
          13.033140961085893,
          106.62773620975577,
          36.33398067559145,
          111.5556516109524,
          110.15735734633421,
          242.46677960202967,
          248.00934141902604,
          302.4645273291583,
          287.9828395484224,
          306.91335650116804,
          357.37925345950543,
          427.3629277002325,
          420.24554321279294,
          469.87203633463685,
          554.6860835298605,
          572.6590623532476,
          541.6890664597489,
          618.9169579441343,
          597.4514122986005,
          657.1845856888805,
          687.5983058651001,
          768.9989508573202,
          757.9349170720162,
          834.3780837976769,
          863.6834171094516,
          886.9516487296146,
          947.9204931086597,
          947.4045864573825,
          992.404089675965,
          956.8333848085805,
          1057.7106627372168,
          1035.8788495184156,
          1084.6632274845815,
          1143.5404826885188,
          1117.7196022563448,
          1165.3229531103202,
          1161.0365238115135,
          1201.075022009861,
          1242.7790161989751,
          1256.6383704032617,
          1297.3644556686324,
          1347.7575273644636,
          1283.121181634817,
          1354.5805251401487,
          1400.400393947988,
          1435.1192306331322,
          1443.6050337386932,
          1457.1987871042804,
          1497.038738540562,
          1485.7826020714288,
          1549.4472058759613,
          1541.6553169403446,
          1593.9212514357337,
          1614.1089915670364,
          1629.9924670370024,
          1701.9544802847572,
          1729.4674271391225,
          1793.9726724084169,
          1728.1105023655102,
          1791.697362837226,
          1826.2499447605062,
          1822.4293468987903,
          1855.5051031109938,
          1861.1340425309922,
          1880.0221412189414,
          1912.5781179568387,
          1944.2704223893286,
          1920.0280668230564,
          1952.8942319827386,
          2002.8414278740145,
          1990.2185889970976,
          2028.8294561103307,
          2094.3073098249183,
          2103.0204153130685,
          2118.414704667053,
          2132.3833884625637,
          2137.155996315259,
          2186.626597639818,
          2163.532328528147,
          2180.561351605111,
          2191.968316101002,
          2177.8377781575387,
          2195.7899752880676,
          2213.1826402666798,
          2277.750287627666,
          2319.8311811486515,
          2321.345368676434,
          2303.3332282794545,
          2332.2177974629617,
          2307.147851344762,
          2354.5624308448373,
          2427.1539380056042,
          2353.1056679341673,
          2325.8717777629295,
          2343.288801658537,
          2405.8359213126996,
          2405.9004544713994,
          2363.4084662043315,
          2410.8247761541043,
          2447.8150423652946
         ],
         "y": [
          4.103160440859613,
          -13.089997967345337,
          52.95678319727399,
          49.49316261174272,
          83.84306524320142,
          87.36965953575532,
          110.84176318492563,
          136.8648501528268,
          136.19517099838794,
          107.97714158390343,
          150.0983731757469,
          230.98743983482612,
          229.97112630042437,
          196.9900855583984,
          242.69839529582433,
          259.2252950996919,
          338.9770952212113,
          245.4593436443754,
          368.575235657047,
          400.88670192448404,
          374.77404703490123,
          406.6352231712769,
          453.0529232088624,
          418.8811295877719,
          452.0199986640722,
          450.8130071052847,
          495.52717598080517,
          519.5567450977062,
          469.5758516448326,
          533.8546917710714,
          527.086669776904,
          564.4814210057293,
          565.7298507288577,
          542.3576939123699,
          536.6659311922218,
          578.1088209601604,
          612.0328137243839,
          632.7984929170124,
          551.5932148203398,
          682.062925117847,
          674.1031391646511,
          674.6309851859191,
          688.2994162214761,
          749.6611882431221,
          750.9604927975454,
          690.7106526919077,
          773.1555845126688,
          785.5308048734278,
          764.5242083910138,
          753.4804654475271,
          770.5557079202906,
          801.2200266795617,
          773.3954446817279,
          818.1820911544112,
          801.1393003290013,
          883.4781189969085,
          858.434543768518,
          861.2707924259518,
          907.6976843157692,
          929.4603578152486,
          912.0487635585167,
          916.6568221898323,
          911.3155307831993,
          937.724653441548,
          961.9138330388031,
          985.3206972522114,
          1012.6873742716093,
          988.9294574738269,
          1000.2036257780946,
          1037.3184631874822,
          1028.1032723534363,
          1081.8757840697235,
          1009.1497121274875,
          1040.2253190803704,
          1029.1421889872258,
          1071.196334499117,
          1088.7865200237509,
          1055.044354223434,
          1082.0209258560915,
          1137.252209770784,
          1141.8172707532685,
          1163.2220898237244,
          1136.4602431845478,
          1169.8181998637783,
          1182.1840946772809,
          1155.2699274901179,
          1202.2441759677156,
          1169.6835258085239,
          1176.0838825190635,
          1146.3785831617479,
          1209.86891128621,
          1194.438100296023,
          1224.361505307803,
          1227.9262314546856,
          1244.008697325843,
          1242.8773242828079,
          1284.2996139144334,
          1264.1877485682378,
          1258.7172764630227,
          1290.591258138778
         ]
        },
        {
         "line": {
          "color": "green"
         },
         "mode": "lines",
         "name": "Trajectoire estimée (Kalman)",
         "type": "scatter",
         "x": [
          42.92250904570654,
          83.07291936595468,
          121.34993216747023,
          158.7479959243854,
          191.74153876201652,
          230.280751639757,
          265.2833926560843,
          302.3404903217689,
          330.1366321455486,
          354.0868615960648,
          381.50347395411535,
          417.2009477065857,
          443.7972095534434,
          474.77797660845215,
          517.6654557536345,
          556.0386086144232,
          579.3389936731796,
          613.6611400337619,
          635.6281721271722,
          664.9745649415408,
          694.3363556577109,
          735.2007812941064,
          765.359716741085,
          805.7394193828324,
          844.4599147989745,
          880.2510523628115,
          921.9435662362905,
          954.8296240967247,
          990.246574284722,
          1009.6012419111468,
          1045.9323369457136,
          1069.3846583484337,
          1097.6144728592649,
          1132.4360713827514,
          1153.786269281269,
          1180.0524861923489,
          1198.934933270384,
          1221.5208802499178,
          1247.8581249574133,
          1271.2072055302885,
          1298.0836665991276,
          1330.2903057835022,
          1340.971842999965,
          1363.7887719787482,
          1391.5703169865462,
          1421.1891446853158,
          1446.4071720562445,
          1468.8979541302735,
          1494.9938826677371,
          1512.6500447715016,
          1539.9885908618512,
          1559.6100743643597,
          1586.1340239985975,
          1611.444260346244,
          1634.6874313381227,
          1668.8794165420688,
          1702.520512064904,
          1743.9744431292117,
          1762.4724739495598,
          1790.2241636933772,
          1819.5666121342606,
          1841.5583301042107,
          1865.5119061842363,
          1885.0023971460935,
          1903.6565562131134,
          1924.781790669859,
          1947.9541284220802,
          1960.2289393668589,
          1976.01175086502,
          1998.8916965897943,
          2013.8084002417738,
          2033.4258158222167,
          2063.344500133871,
          2089.3447716275914,
          2113.33220819276,
          2135.1886920173583,
          2153.0754126965503,
          2177.6829299185106,
          2191.697523723789,
          2205.572942265839,
          2218.1538984388135,
          2223.889292867797,
          2231.055587271318,
          2239.515828411981,
          2259.972314684776,
          2285.8704425039687,
          2307.2147227144824,
          2320.017095843696,
          2335.990332494077,
          2342.5133297401394,
          2357.3054725722413,
          2385.1699818362163,
          2391.073359808776,
          2388.323766313028,
          2388.3336475145015,
          2401.254754935013,
          2411.384452564542,
          2409.378986481733,
          2417.273095048297,
          2431.5993654719014
         ],
         "y": [
          15.9692361001426,
          35.5361167083326,
          55.25256313254414,
          73.98406640411294,
          92.78158384498671,
          109.66876866680572,
          126.15902475934648,
          143.2646318728881,
          156.82396651807193,
          161.11569697324387,
          170.97716833466592,
          195.4099124625217,
          215.46103083954694,
          224.14906869198558,
          240.31137290855813,
          256.62446870378676,
          287.23294452855407,
          291.48495973994324,
          321.0736261930822,
          352.6291986740732,
          372.6279714994506,
          395.35557964233084,
          423.7462659196448,
          438.88659780785207,
          457.50426504830335,
          471.475183045779,
          491.8012497492776,
          513.077137241675,
          518.3686803937261,
          535.6229305709332,
          547.365181312828,
          564.344147083308,
          577.7493382395672,
          582.4353789066813,
          583.5847221031257,
          592.526565613319,
          606.7303551446304,
          622.5826711174196,
          616.6487404357927,
          639.8478396364172,
          657.1933543387253,
          671.207338317841,
          685.2429846014645,
          710.1373201481654,
          730.8204074412128,
          733.6769878441953,
          753.3854427296133,
          772.0043789097799,
          782.0026031425367,
          786.7005524200297,
          793.2417969004717,
          804.6077846980619,
          806.9564275119172,
          817.9789362357058,
          822.6209199646296,
          844.3141015302605,
          856.5193199486239,
          866.6486616965503,
          884.8802584716398,
          904.583846480278,
          916.570355088787,
          926.7453704342314,
          933.0939646603451,
          943.3694733004768,
          956.6457817160871,
          972.3817164049257,
          991.1433865105205,
          1000.8605280139896,
          1010.5824486868128,
          1026.2337953655006,
          1036.5512932302638,
          1056.5098463253305,
          1056.120367066347,
          1061.514967635791,
          1062.5362170541098,
          1071.9165250872893,
          1083.1439603015547,
          1084.303493677186,
          1090.4807270900737,
          1107.5727783818654,
          1122.6837037719254,
          1139.787398329866,
          1147.595671205109,
          1160.8917616653353,
          1174.237689251041,
          1178.6548962946595,
          1192.0712216900465,
          1195.3231321280657,
          1198.540354210533,
          1193.607892348777,
          1202.861966502462,
          1206.704066257831,
          1216.1218380069329,
          1224.4490915436525,
          1234.6429753532593,
          1242.5340828079438,
          1258.0655459713234,
          1266.254631628188,
          1271.274819184687,
          1282.0379229187486
         ]
        }
       ],
       "layout": {
        "height": 600,
        "template": {
         "data": {
          "bar": [
           {
            "error_x": {
             "color": "#2a3f5f"
            },
            "error_y": {
             "color": "#2a3f5f"
            },
            "marker": {
             "line": {
              "color": "#E5ECF6",
              "width": 0.5
             },
             "pattern": {
              "fillmode": "overlay",
              "size": 10,
              "solidity": 0.2
             }
            },
            "type": "bar"
           }
          ],
          "barpolar": [
           {
            "marker": {
             "line": {
              "color": "#E5ECF6",
              "width": 0.5
             },
             "pattern": {
              "fillmode": "overlay",
              "size": 10,
              "solidity": 0.2
             }
            },
            "type": "barpolar"
           }
          ],
          "carpet": [
           {
            "aaxis": {
             "endlinecolor": "#2a3f5f",
             "gridcolor": "white",
             "linecolor": "white",
             "minorgridcolor": "white",
             "startlinecolor": "#2a3f5f"
            },
            "baxis": {
             "endlinecolor": "#2a3f5f",
             "gridcolor": "white",
             "linecolor": "white",
             "minorgridcolor": "white",
             "startlinecolor": "#2a3f5f"
            },
            "type": "carpet"
           }
          ],
          "choropleth": [
           {
            "colorbar": {
             "outlinewidth": 0,
             "ticks": ""
            },
            "type": "choropleth"
           }
          ],
          "contour": [
           {
            "colorbar": {
             "outlinewidth": 0,
             "ticks": ""
            },
            "colorscale": [
             [
              0,
              "#0d0887"
             ],
             [
              0.1111111111111111,
              "#46039f"
             ],
             [
              0.2222222222222222,
              "#7201a8"
             ],
             [
              0.3333333333333333,
              "#9c179e"
             ],
             [
              0.4444444444444444,
              "#bd3786"
             ],
             [
              0.5555555555555556,
              "#d8576b"
             ],
             [
              0.6666666666666666,
              "#ed7953"
             ],
             [
              0.7777777777777778,
              "#fb9f3a"
             ],
             [
              0.8888888888888888,
              "#fdca26"
             ],
             [
              1,
              "#f0f921"
             ]
            ],
            "type": "contour"
           }
          ],
          "contourcarpet": [
           {
            "colorbar": {
             "outlinewidth": 0,
             "ticks": ""
            },
            "type": "contourcarpet"
           }
          ],
          "heatmap": [
           {
            "colorbar": {
             "outlinewidth": 0,
             "ticks": ""
            },
            "colorscale": [
             [
              0,
              "#0d0887"
             ],
             [
              0.1111111111111111,
              "#46039f"
             ],
             [
              0.2222222222222222,
              "#7201a8"
             ],
             [
              0.3333333333333333,
              "#9c179e"
             ],
             [
              0.4444444444444444,
              "#bd3786"
             ],
             [
              0.5555555555555556,
              "#d8576b"
             ],
             [
              0.6666666666666666,
              "#ed7953"
             ],
             [
              0.7777777777777778,
              "#fb9f3a"
             ],
             [
              0.8888888888888888,
              "#fdca26"
             ],
             [
              1,
              "#f0f921"
             ]
            ],
            "type": "heatmap"
           }
          ],
          "heatmapgl": [
           {
            "colorbar": {
             "outlinewidth": 0,
             "ticks": ""
            },
            "colorscale": [
             [
              0,
              "#0d0887"
             ],
             [
              0.1111111111111111,
              "#46039f"
             ],
             [
              0.2222222222222222,
              "#7201a8"
             ],
             [
              0.3333333333333333,
              "#9c179e"
             ],
             [
              0.4444444444444444,
              "#bd3786"
             ],
             [
              0.5555555555555556,
              "#d8576b"
             ],
             [
              0.6666666666666666,
              "#ed7953"
             ],
             [
              0.7777777777777778,
              "#fb9f3a"
             ],
             [
              0.8888888888888888,
              "#fdca26"
             ],
             [
              1,
              "#f0f921"
             ]
            ],
            "type": "heatmapgl"
           }
          ],
          "histogram": [
           {
            "marker": {
             "pattern": {
              "fillmode": "overlay",
              "size": 10,
              "solidity": 0.2
             }
            },
            "type": "histogram"
           }
          ],
          "histogram2d": [
           {
            "colorbar": {
             "outlinewidth": 0,
             "ticks": ""
            },
            "colorscale": [
             [
              0,
              "#0d0887"
             ],
             [
              0.1111111111111111,
              "#46039f"
             ],
             [
              0.2222222222222222,
              "#7201a8"
             ],
             [
              0.3333333333333333,
              "#9c179e"
             ],
             [
              0.4444444444444444,
              "#bd3786"
             ],
             [
              0.5555555555555556,
              "#d8576b"
             ],
             [
              0.6666666666666666,
              "#ed7953"
             ],
             [
              0.7777777777777778,
              "#fb9f3a"
             ],
             [
              0.8888888888888888,
              "#fdca26"
             ],
             [
              1,
              "#f0f921"
             ]
            ],
            "type": "histogram2d"
           }
          ],
          "histogram2dcontour": [
           {
            "colorbar": {
             "outlinewidth": 0,
             "ticks": ""
            },
            "colorscale": [
             [
              0,
              "#0d0887"
             ],
             [
              0.1111111111111111,
              "#46039f"
             ],
             [
              0.2222222222222222,
              "#7201a8"
             ],
             [
              0.3333333333333333,
              "#9c179e"
             ],
             [
              0.4444444444444444,
              "#bd3786"
             ],
             [
              0.5555555555555556,
              "#d8576b"
             ],
             [
              0.6666666666666666,
              "#ed7953"
             ],
             [
              0.7777777777777778,
              "#fb9f3a"
             ],
             [
              0.8888888888888888,
              "#fdca26"
             ],
             [
              1,
              "#f0f921"
             ]
            ],
            "type": "histogram2dcontour"
           }
          ],
          "mesh3d": [
           {
            "colorbar": {
             "outlinewidth": 0,
             "ticks": ""
            },
            "type": "mesh3d"
           }
          ],
          "parcoords": [
           {
            "line": {
             "colorbar": {
              "outlinewidth": 0,
              "ticks": ""
             }
            },
            "type": "parcoords"
           }
          ],
          "pie": [
           {
            "automargin": true,
            "type": "pie"
           }
          ],
          "scatter": [
           {
            "fillpattern": {
             "fillmode": "overlay",
             "size": 10,
             "solidity": 0.2
            },
            "type": "scatter"
           }
          ],
          "scatter3d": [
           {
            "line": {
             "colorbar": {
              "outlinewidth": 0,
              "ticks": ""
             }
            },
            "marker": {
             "colorbar": {
              "outlinewidth": 0,
              "ticks": ""
             }
            },
            "type": "scatter3d"
           }
          ],
          "scattercarpet": [
           {
            "marker": {
             "colorbar": {
              "outlinewidth": 0,
              "ticks": ""
             }
            },
            "type": "scattercarpet"
           }
          ],
          "scattergeo": [
           {
            "marker": {
             "colorbar": {
              "outlinewidth": 0,
              "ticks": ""
             }
            },
            "type": "scattergeo"
           }
          ],
          "scattergl": [
           {
            "marker": {
             "colorbar": {
              "outlinewidth": 0,
              "ticks": ""
             }
            },
            "type": "scattergl"
           }
          ],
          "scattermapbox": [
           {
            "marker": {
             "colorbar": {
              "outlinewidth": 0,
              "ticks": ""
             }
            },
            "type": "scattermapbox"
           }
          ],
          "scatterpolar": [
           {
            "marker": {
             "colorbar": {
              "outlinewidth": 0,
              "ticks": ""
             }
            },
            "type": "scatterpolar"
           }
          ],
          "scatterpolargl": [
           {
            "marker": {
             "colorbar": {
              "outlinewidth": 0,
              "ticks": ""
             }
            },
            "type": "scatterpolargl"
           }
          ],
          "scatterternary": [
           {
            "marker": {
             "colorbar": {
              "outlinewidth": 0,
              "ticks": ""
             }
            },
            "type": "scatterternary"
           }
          ],
          "surface": [
           {
            "colorbar": {
             "outlinewidth": 0,
             "ticks": ""
            },
            "colorscale": [
             [
              0,
              "#0d0887"
             ],
             [
              0.1111111111111111,
              "#46039f"
             ],
             [
              0.2222222222222222,
              "#7201a8"
             ],
             [
              0.3333333333333333,
              "#9c179e"
             ],
             [
              0.4444444444444444,
              "#bd3786"
             ],
             [
              0.5555555555555556,
              "#d8576b"
             ],
             [
              0.6666666666666666,
              "#ed7953"
             ],
             [
              0.7777777777777778,
              "#fb9f3a"
             ],
             [
              0.8888888888888888,
              "#fdca26"
             ],
             [
              1,
              "#f0f921"
             ]
            ],
            "type": "surface"
           }
          ],
          "table": [
           {
            "cells": {
             "fill": {
              "color": "#EBF0F8"
             },
             "line": {
              "color": "white"
             }
            },
            "header": {
             "fill": {
              "color": "#C8D4E3"
             },
             "line": {
              "color": "white"
             }
            },
            "type": "table"
           }
          ]
         },
         "layout": {
          "annotationdefaults": {
           "arrowcolor": "#2a3f5f",
           "arrowhead": 0,
           "arrowwidth": 1
          },
          "autotypenumbers": "strict",
          "coloraxis": {
           "colorbar": {
            "outlinewidth": 0,
            "ticks": ""
           }
          },
          "colorscale": {
           "diverging": [
            [
             0,
             "#8e0152"
            ],
            [
             0.1,
             "#c51b7d"
            ],
            [
             0.2,
             "#de77ae"
            ],
            [
             0.3,
             "#f1b6da"
            ],
            [
             0.4,
             "#fde0ef"
            ],
            [
             0.5,
             "#f7f7f7"
            ],
            [
             0.6,
             "#e6f5d0"
            ],
            [
             0.7,
             "#b8e186"
            ],
            [
             0.8,
             "#7fbc41"
            ],
            [
             0.9,
             "#4d9221"
            ],
            [
             1,
             "#276419"
            ]
           ],
           "sequential": [
            [
             0,
             "#0d0887"
            ],
            [
             0.1111111111111111,
             "#46039f"
            ],
            [
             0.2222222222222222,
             "#7201a8"
            ],
            [
             0.3333333333333333,
             "#9c179e"
            ],
            [
             0.4444444444444444,
             "#bd3786"
            ],
            [
             0.5555555555555556,
             "#d8576b"
            ],
            [
             0.6666666666666666,
             "#ed7953"
            ],
            [
             0.7777777777777778,
             "#fb9f3a"
            ],
            [
             0.8888888888888888,
             "#fdca26"
            ],
            [
             1,
             "#f0f921"
            ]
           ],
           "sequentialminus": [
            [
             0,
             "#0d0887"
            ],
            [
             0.1111111111111111,
             "#46039f"
            ],
            [
             0.2222222222222222,
             "#7201a8"
            ],
            [
             0.3333333333333333,
             "#9c179e"
            ],
            [
             0.4444444444444444,
             "#bd3786"
            ],
            [
             0.5555555555555556,
             "#d8576b"
            ],
            [
             0.6666666666666666,
             "#ed7953"
            ],
            [
             0.7777777777777778,
             "#fb9f3a"
            ],
            [
             0.8888888888888888,
             "#fdca26"
            ],
            [
             1,
             "#f0f921"
            ]
           ]
          },
          "colorway": [
           "#636efa",
           "#EF553B",
           "#00cc96",
           "#ab63fa",
           "#FFA15A",
           "#19d3f3",
           "#FF6692",
           "#B6E880",
           "#FF97FF",
           "#FECB52"
          ],
          "font": {
           "color": "#2a3f5f"
          },
          "geo": {
           "bgcolor": "white",
           "lakecolor": "white",
           "landcolor": "#E5ECF6",
           "showlakes": true,
           "showland": true,
           "subunitcolor": "white"
          },
          "hoverlabel": {
           "align": "left"
          },
          "hovermode": "closest",
          "mapbox": {
           "style": "light"
          },
          "paper_bgcolor": "white",
          "plot_bgcolor": "#E5ECF6",
          "polar": {
           "angularaxis": {
            "gridcolor": "white",
            "linecolor": "white",
            "ticks": ""
           },
           "bgcolor": "#E5ECF6",
           "radialaxis": {
            "gridcolor": "white",
            "linecolor": "white",
            "ticks": ""
           }
          },
          "scene": {
           "xaxis": {
            "backgroundcolor": "#E5ECF6",
            "gridcolor": "white",
            "gridwidth": 2,
            "linecolor": "white",
            "showbackground": true,
            "ticks": "",
            "zerolinecolor": "white"
           },
           "yaxis": {
            "backgroundcolor": "#E5ECF6",
            "gridcolor": "white",
            "gridwidth": 2,
            "linecolor": "white",
            "showbackground": true,
            "ticks": "",
            "zerolinecolor": "white"
           },
           "zaxis": {
            "backgroundcolor": "#E5ECF6",
            "gridcolor": "white",
            "gridwidth": 2,
            "linecolor": "white",
            "showbackground": true,
            "ticks": "",
            "zerolinecolor": "white"
           }
          },
          "shapedefaults": {
           "line": {
            "color": "#2a3f5f"
           }
          },
          "ternary": {
           "aaxis": {
            "gridcolor": "white",
            "linecolor": "white",
            "ticks": ""
           },
           "baxis": {
            "gridcolor": "white",
            "linecolor": "white",
            "ticks": ""
           },
           "bgcolor": "#E5ECF6",
           "caxis": {
            "gridcolor": "white",
            "linecolor": "white",
            "ticks": ""
           }
          },
          "title": {
           "x": 0.05
          },
          "xaxis": {
           "automargin": true,
           "gridcolor": "white",
           "linecolor": "white",
           "ticks": "",
           "title": {
            "standoff": 15
           },
           "zerolinecolor": "white",
           "zerolinewidth": 2
          },
          "yaxis": {
           "automargin": true,
           "gridcolor": "white",
           "linecolor": "white",
           "ticks": "",
           "title": {
            "standoff": 15
           },
           "zerolinecolor": "white",
           "zerolinewidth": 2
          }
         }
        },
        "title": {
         "text": "Trajectoires dans le plan (x, y)"
        },
        "width": 800,
        "xaxis": {
         "title": {
          "text": "Position x"
         }
        },
        "yaxis": {
         "title": {
          "text": "Position y"
         }
        }
       }
      }
     },
     "metadata": {},
     "output_type": "display_data"
    }
   ],
   "source": [
    "\n",
    "\n",
    "temps = np.arange(T)\n",
    "\n",
    "# --- 1. Position en abscisse (x) ---\n",
    "fig_x = go.Figure()\n",
    "fig_x.add_trace(go.Scatter(x=temps, y=x[0], mode='lines', name='Position vraie x', line=dict(color='blue')))\n",
    "fig_x.add_trace(go.Scatter(x=temps, y=y[0], mode='markers', name='Observation x', marker=dict(color='red', size=4)))\n",
    "fig_x.add_trace(go.Scatter(x=temps, y=x_est[0], mode='lines', name='Estimation Kalman x', line=dict(color='green')))\n",
    "\n",
    "fig_x.update_layout(\n",
    "    title='Position en abscisse (x) dans le temps',\n",
    "    xaxis_title='Temps k',\n",
    "    yaxis_title='Position x',\n",
    "    width=800,\n",
    "    height=400\n",
    ")\n",
    "fig_x.show()\n",
    "\n",
    "# --- 2. Position en ordonnée (y) ---\n",
    "fig_y = go.Figure()\n",
    "fig_y.add_trace(go.Scatter(x=temps, y=x[2], mode='lines', name='Position vraie y', line=dict(color='blue')))\n",
    "fig_y.add_trace(go.Scatter(x=temps, y=y[1], mode='markers', name='Observation y', marker=dict(color='red', size=4)))\n",
    "fig_y.add_trace(go.Scatter(x=temps, y=x_est[2], mode='lines', name='Estimation Kalman y', line=dict(color='green')))\n",
    "\n",
    "fig_y.update_layout(\n",
    "    title='Position en ordonnée (y) dans le temps',\n",
    "    xaxis_title='Temps k',\n",
    "    yaxis_title='Position y',\n",
    "    width=800,\n",
    "    height=400\n",
    ")\n",
    "fig_y.show()\n",
    "\n",
    "# --- 3. Trajectoires dans le plan (x, y) ---\n",
    "fig_xy = go.Figure()\n",
    "fig_xy.add_trace(go.Scatter(x=x[0], y=x[2], mode='lines+markers', name='Trajectoire vraie', line=dict(color='blue')))\n",
    "fig_xy.add_trace(go.Scatter(x=y[0], y=y[1], mode='markers', name='Observations', marker=dict(color='red', size=4)))\n",
    "fig_xy.add_trace(go.Scatter(x=x_est[0], y=x_est[2], mode='lines', name='Trajectoire estimée (Kalman)', line=dict(color='green')))\n",
    "\n",
    "fig_xy.update_layout(\n",
    "    title='Trajectoires dans le plan (x, y)',\n",
    "    xaxis_title='Position x',\n",
    "    yaxis_title='Position y',\n",
    "    width=800,\n",
    "    height=600\n",
    ")\n",
    "fig_xy.show()\n"
   ]
  },
  {
   "cell_type": "code",
   "execution_count": 227,
   "id": "5b430d92",
   "metadata": {},
   "outputs": [
    {
     "data": {
      "text/html": [
       "<div>\n",
       "<style scoped>\n",
       "    .dataframe tbody tr th:only-of-type {\n",
       "        vertical-align: middle;\n",
       "    }\n",
       "\n",
       "    .dataframe tbody tr th {\n",
       "        vertical-align: top;\n",
       "    }\n",
       "\n",
       "    .dataframe thead th {\n",
       "        text-align: right;\n",
       "    }\n",
       "</style>\n",
       "<table border=\"1\" class=\"dataframe\">\n",
       "  <thead>\n",
       "    <tr style=\"text-align: right;\">\n",
       "      <th></th>\n",
       "      <th>sigma_Q</th>\n",
       "      <th>sigma_px = sigma_py</th>\n",
       "      <th>erreur_moyenne</th>\n",
       "    </tr>\n",
       "  </thead>\n",
       "  <tbody>\n",
       "    <tr>\n",
       "      <th>0</th>\n",
       "      <td>0.01</td>\n",
       "      <td>1</td>\n",
       "      <td>2.217095</td>\n",
       "    </tr>\n",
       "    <tr>\n",
       "      <th>1</th>\n",
       "      <td>0.01</td>\n",
       "      <td>10</td>\n",
       "      <td>19.109848</td>\n",
       "    </tr>\n",
       "    <tr>\n",
       "      <th>2</th>\n",
       "      <td>0.01</td>\n",
       "      <td>30</td>\n",
       "      <td>24.055373</td>\n",
       "    </tr>\n",
       "    <tr>\n",
       "      <th>3</th>\n",
       "      <td>0.01</td>\n",
       "      <td>100</td>\n",
       "      <td>21.134452</td>\n",
       "    </tr>\n",
       "    <tr>\n",
       "      <th>4</th>\n",
       "      <td>0.01</td>\n",
       "      <td>200</td>\n",
       "      <td>37.726216</td>\n",
       "    </tr>\n",
       "    <tr>\n",
       "      <th>5</th>\n",
       "      <td>0.10</td>\n",
       "      <td>1</td>\n",
       "      <td>1.702929</td>\n",
       "    </tr>\n",
       "    <tr>\n",
       "      <th>6</th>\n",
       "      <td>0.10</td>\n",
       "      <td>10</td>\n",
       "      <td>7.788044</td>\n",
       "    </tr>\n",
       "    <tr>\n",
       "      <th>7</th>\n",
       "      <td>0.10</td>\n",
       "      <td>30</td>\n",
       "      <td>12.433248</td>\n",
       "    </tr>\n",
       "    <tr>\n",
       "      <th>8</th>\n",
       "      <td>0.10</td>\n",
       "      <td>100</td>\n",
       "      <td>32.126211</td>\n",
       "    </tr>\n",
       "    <tr>\n",
       "      <th>9</th>\n",
       "      <td>0.10</td>\n",
       "      <td>200</td>\n",
       "      <td>53.538898</td>\n",
       "    </tr>\n",
       "    <tr>\n",
       "      <th>10</th>\n",
       "      <td>1.00</td>\n",
       "      <td>1</td>\n",
       "      <td>2.262934</td>\n",
       "    </tr>\n",
       "    <tr>\n",
       "      <th>11</th>\n",
       "      <td>1.00</td>\n",
       "      <td>10</td>\n",
       "      <td>9.998644</td>\n",
       "    </tr>\n",
       "    <tr>\n",
       "      <th>12</th>\n",
       "      <td>1.00</td>\n",
       "      <td>30</td>\n",
       "      <td>16.891663</td>\n",
       "    </tr>\n",
       "    <tr>\n",
       "      <th>13</th>\n",
       "      <td>1.00</td>\n",
       "      <td>100</td>\n",
       "      <td>49.178826</td>\n",
       "    </tr>\n",
       "    <tr>\n",
       "      <th>14</th>\n",
       "      <td>1.00</td>\n",
       "      <td>200</td>\n",
       "      <td>85.332010</td>\n",
       "    </tr>\n",
       "    <tr>\n",
       "      <th>15</th>\n",
       "      <td>5.00</td>\n",
       "      <td>1</td>\n",
       "      <td>4.470125</td>\n",
       "    </tr>\n",
       "    <tr>\n",
       "      <th>16</th>\n",
       "      <td>5.00</td>\n",
       "      <td>10</td>\n",
       "      <td>14.648578</td>\n",
       "    </tr>\n",
       "    <tr>\n",
       "      <th>17</th>\n",
       "      <td>5.00</td>\n",
       "      <td>30</td>\n",
       "      <td>28.570908</td>\n",
       "    </tr>\n",
       "    <tr>\n",
       "      <th>18</th>\n",
       "      <td>5.00</td>\n",
       "      <td>100</td>\n",
       "      <td>59.910335</td>\n",
       "    </tr>\n",
       "    <tr>\n",
       "      <th>19</th>\n",
       "      <td>5.00</td>\n",
       "      <td>200</td>\n",
       "      <td>132.705554</td>\n",
       "    </tr>\n",
       "    <tr>\n",
       "      <th>20</th>\n",
       "      <td>10.00</td>\n",
       "      <td>1</td>\n",
       "      <td>7.824244</td>\n",
       "    </tr>\n",
       "    <tr>\n",
       "      <th>21</th>\n",
       "      <td>10.00</td>\n",
       "      <td>10</td>\n",
       "      <td>18.416533</td>\n",
       "    </tr>\n",
       "    <tr>\n",
       "      <th>22</th>\n",
       "      <td>10.00</td>\n",
       "      <td>30</td>\n",
       "      <td>36.524191</td>\n",
       "    </tr>\n",
       "    <tr>\n",
       "      <th>23</th>\n",
       "      <td>10.00</td>\n",
       "      <td>100</td>\n",
       "      <td>81.610179</td>\n",
       "    </tr>\n",
       "    <tr>\n",
       "      <th>24</th>\n",
       "      <td>10.00</td>\n",
       "      <td>200</td>\n",
       "      <td>135.897905</td>\n",
       "    </tr>\n",
       "  </tbody>\n",
       "</table>\n",
       "</div>"
      ],
      "text/plain": [
       "    sigma_Q  sigma_px = sigma_py  erreur_moyenne\n",
       "0      0.01                    1        2.217095\n",
       "1      0.01                   10       19.109848\n",
       "2      0.01                   30       24.055373\n",
       "3      0.01                  100       21.134452\n",
       "4      0.01                  200       37.726216\n",
       "5      0.10                    1        1.702929\n",
       "6      0.10                   10        7.788044\n",
       "7      0.10                   30       12.433248\n",
       "8      0.10                  100       32.126211\n",
       "9      0.10                  200       53.538898\n",
       "10     1.00                    1        2.262934\n",
       "11     1.00                   10        9.998644\n",
       "12     1.00                   30       16.891663\n",
       "13     1.00                  100       49.178826\n",
       "14     1.00                  200       85.332010\n",
       "15     5.00                    1        4.470125\n",
       "16     5.00                   10       14.648578\n",
       "17     5.00                   30       28.570908\n",
       "18     5.00                  100       59.910335\n",
       "19     5.00                  200      132.705554\n",
       "20    10.00                    1        7.824244\n",
       "21    10.00                   10       18.416533\n",
       "22    10.00                   30       36.524191\n",
       "23    10.00                  100       81.610179\n",
       "24    10.00                  200      135.897905"
      ]
     },
     "execution_count": 227,
     "metadata": {},
     "output_type": "execute_result"
    }
   ],
   "source": [
    "# Étude combinée de l'influence de sigma_Q et sigma_px = sigma_py sur l'erreur quadratique moyenne\n",
    "\n",
    "sigma_Q_list = [0.01, 0.1, 1, 5, 10]\n",
    "sigma_p_list = [1, 10, 30, 100, 200]\n",
    "\n",
    "resultats = []\n",
    "\n",
    "for sigma_Q in sigma_Q_list:\n",
    "    for sigma_p in sigma_p_list:\n",
    "        Q = sigma_Q**2 * np.array([\n",
    "            [Te**3/3, Te**2/2, 0, 0],\n",
    "            [Te**2/2, Te, 0, 0],\n",
    "            [0, 0, Te**3/3, Te**2/2],\n",
    "            [0, 0, Te**2/2, Te]\n",
    "        ])\n",
    "        R = np.array([[sigma_p**2, 0], [0, sigma_p**2]])\n",
    "        \n",
    "        x = creer_trajectoire(F, Q, x_init, T)\n",
    "        y = creer_observation(H, R, x)\n",
    "        \n",
    "        x_est = np.zeros((4, T))\n",
    "        x_kalm_prec = x_init.copy()\n",
    "        P_kalm_prec = np.eye(4)\n",
    "        \n",
    "        for k in range(T):\n",
    "            x_kalm_k, P_kalm_k = filtre_de_kalman(F, Q, H, R, y[:, k], x_kalm_prec, P_kalm_prec)\n",
    "            x_est[:, k] = x_kalm_k\n",
    "            x_kalm_prec = x_kalm_k\n",
    "            P_kalm_prec = P_kalm_k\n",
    "\n",
    "        err_quadra = np.array([np.linalg.norm(x[:, k] - x_est[:, k])**2 for k in range(T)])\n",
    "        erreur_moyenne = np.mean(np.sqrt(err_quadra))\n",
    "        resultats.append((sigma_Q, sigma_p, erreur_moyenne))\n",
    "\n",
    "# Affichage des résultats\n",
    "\n",
    "df = pd.DataFrame(resultats, columns=[\"sigma_Q\", \"sigma_px = sigma_py\", \"erreur_moyenne\"])\n",
    "df_pivot = df.pivot(index=\"sigma_Q\", columns=\"sigma_px = sigma_py\", values=\"erreur_moyenne\")\n",
    "df\n"
   ]
  },
  {
   "cell_type": "code",
   "execution_count": 228,
   "id": "eb9c9e2c",
   "metadata": {},
   "outputs": [
    {
     "data": {
      "application/vnd.plotly.v1+json": {
       "config": {
        "plotlyServerURL": "https://plot.ly"
       },
       "data": [
        {
         "colorbar": {
          "title": {
           "text": "Erreur moyenne"
          }
         },
         "colorscale": [
          [
           0,
           "#440154"
          ],
          [
           0.1111111111111111,
           "#482878"
          ],
          [
           0.2222222222222222,
           "#3e4989"
          ],
          [
           0.3333333333333333,
           "#31688e"
          ],
          [
           0.4444444444444444,
           "#26828e"
          ],
          [
           0.5555555555555556,
           "#1f9e89"
          ],
          [
           0.6666666666666666,
           "#35b779"
          ],
          [
           0.7777777777777778,
           "#6ece58"
          ],
          [
           0.8888888888888888,
           "#b5de2b"
          ],
          [
           1,
           "#fde725"
          ]
         ],
         "type": "heatmap",
         "x": [
          1,
          10,
          30,
          100,
          200
         ],
         "y": [
          0.01,
          0.1,
          1,
          5,
          10
         ],
         "z": [
          [
           2.2170952484672997,
           19.109848000914916,
           24.055372904257688,
           21.13445207578815,
           37.72621589883649
          ],
          [
           1.7029288098820814,
           7.788043950960564,
           12.433247783949755,
           32.12621082182217,
           53.538898134015454
          ],
          [
           2.2629339212073383,
           9.998643879214681,
           16.891662846656416,
           49.178826030948976,
           85.33200976277897
          ],
          [
           4.470124923307701,
           14.648577832782191,
           28.570908496846734,
           59.91033459314482,
           132.7055544027461
          ],
          [
           7.824244157345432,
           18.416532642095124,
           36.5241905366052,
           81.61017870566302,
           135.89790464640953
          ]
         ]
        }
       ],
       "layout": {
        "height": 500,
        "template": {
         "data": {
          "bar": [
           {
            "error_x": {
             "color": "#2a3f5f"
            },
            "error_y": {
             "color": "#2a3f5f"
            },
            "marker": {
             "line": {
              "color": "#E5ECF6",
              "width": 0.5
             },
             "pattern": {
              "fillmode": "overlay",
              "size": 10,
              "solidity": 0.2
             }
            },
            "type": "bar"
           }
          ],
          "barpolar": [
           {
            "marker": {
             "line": {
              "color": "#E5ECF6",
              "width": 0.5
             },
             "pattern": {
              "fillmode": "overlay",
              "size": 10,
              "solidity": 0.2
             }
            },
            "type": "barpolar"
           }
          ],
          "carpet": [
           {
            "aaxis": {
             "endlinecolor": "#2a3f5f",
             "gridcolor": "white",
             "linecolor": "white",
             "minorgridcolor": "white",
             "startlinecolor": "#2a3f5f"
            },
            "baxis": {
             "endlinecolor": "#2a3f5f",
             "gridcolor": "white",
             "linecolor": "white",
             "minorgridcolor": "white",
             "startlinecolor": "#2a3f5f"
            },
            "type": "carpet"
           }
          ],
          "choropleth": [
           {
            "colorbar": {
             "outlinewidth": 0,
             "ticks": ""
            },
            "type": "choropleth"
           }
          ],
          "contour": [
           {
            "colorbar": {
             "outlinewidth": 0,
             "ticks": ""
            },
            "colorscale": [
             [
              0,
              "#0d0887"
             ],
             [
              0.1111111111111111,
              "#46039f"
             ],
             [
              0.2222222222222222,
              "#7201a8"
             ],
             [
              0.3333333333333333,
              "#9c179e"
             ],
             [
              0.4444444444444444,
              "#bd3786"
             ],
             [
              0.5555555555555556,
              "#d8576b"
             ],
             [
              0.6666666666666666,
              "#ed7953"
             ],
             [
              0.7777777777777778,
              "#fb9f3a"
             ],
             [
              0.8888888888888888,
              "#fdca26"
             ],
             [
              1,
              "#f0f921"
             ]
            ],
            "type": "contour"
           }
          ],
          "contourcarpet": [
           {
            "colorbar": {
             "outlinewidth": 0,
             "ticks": ""
            },
            "type": "contourcarpet"
           }
          ],
          "heatmap": [
           {
            "colorbar": {
             "outlinewidth": 0,
             "ticks": ""
            },
            "colorscale": [
             [
              0,
              "#0d0887"
             ],
             [
              0.1111111111111111,
              "#46039f"
             ],
             [
              0.2222222222222222,
              "#7201a8"
             ],
             [
              0.3333333333333333,
              "#9c179e"
             ],
             [
              0.4444444444444444,
              "#bd3786"
             ],
             [
              0.5555555555555556,
              "#d8576b"
             ],
             [
              0.6666666666666666,
              "#ed7953"
             ],
             [
              0.7777777777777778,
              "#fb9f3a"
             ],
             [
              0.8888888888888888,
              "#fdca26"
             ],
             [
              1,
              "#f0f921"
             ]
            ],
            "type": "heatmap"
           }
          ],
          "heatmapgl": [
           {
            "colorbar": {
             "outlinewidth": 0,
             "ticks": ""
            },
            "colorscale": [
             [
              0,
              "#0d0887"
             ],
             [
              0.1111111111111111,
              "#46039f"
             ],
             [
              0.2222222222222222,
              "#7201a8"
             ],
             [
              0.3333333333333333,
              "#9c179e"
             ],
             [
              0.4444444444444444,
              "#bd3786"
             ],
             [
              0.5555555555555556,
              "#d8576b"
             ],
             [
              0.6666666666666666,
              "#ed7953"
             ],
             [
              0.7777777777777778,
              "#fb9f3a"
             ],
             [
              0.8888888888888888,
              "#fdca26"
             ],
             [
              1,
              "#f0f921"
             ]
            ],
            "type": "heatmapgl"
           }
          ],
          "histogram": [
           {
            "marker": {
             "pattern": {
              "fillmode": "overlay",
              "size": 10,
              "solidity": 0.2
             }
            },
            "type": "histogram"
           }
          ],
          "histogram2d": [
           {
            "colorbar": {
             "outlinewidth": 0,
             "ticks": ""
            },
            "colorscale": [
             [
              0,
              "#0d0887"
             ],
             [
              0.1111111111111111,
              "#46039f"
             ],
             [
              0.2222222222222222,
              "#7201a8"
             ],
             [
              0.3333333333333333,
              "#9c179e"
             ],
             [
              0.4444444444444444,
              "#bd3786"
             ],
             [
              0.5555555555555556,
              "#d8576b"
             ],
             [
              0.6666666666666666,
              "#ed7953"
             ],
             [
              0.7777777777777778,
              "#fb9f3a"
             ],
             [
              0.8888888888888888,
              "#fdca26"
             ],
             [
              1,
              "#f0f921"
             ]
            ],
            "type": "histogram2d"
           }
          ],
          "histogram2dcontour": [
           {
            "colorbar": {
             "outlinewidth": 0,
             "ticks": ""
            },
            "colorscale": [
             [
              0,
              "#0d0887"
             ],
             [
              0.1111111111111111,
              "#46039f"
             ],
             [
              0.2222222222222222,
              "#7201a8"
             ],
             [
              0.3333333333333333,
              "#9c179e"
             ],
             [
              0.4444444444444444,
              "#bd3786"
             ],
             [
              0.5555555555555556,
              "#d8576b"
             ],
             [
              0.6666666666666666,
              "#ed7953"
             ],
             [
              0.7777777777777778,
              "#fb9f3a"
             ],
             [
              0.8888888888888888,
              "#fdca26"
             ],
             [
              1,
              "#f0f921"
             ]
            ],
            "type": "histogram2dcontour"
           }
          ],
          "mesh3d": [
           {
            "colorbar": {
             "outlinewidth": 0,
             "ticks": ""
            },
            "type": "mesh3d"
           }
          ],
          "parcoords": [
           {
            "line": {
             "colorbar": {
              "outlinewidth": 0,
              "ticks": ""
             }
            },
            "type": "parcoords"
           }
          ],
          "pie": [
           {
            "automargin": true,
            "type": "pie"
           }
          ],
          "scatter": [
           {
            "fillpattern": {
             "fillmode": "overlay",
             "size": 10,
             "solidity": 0.2
            },
            "type": "scatter"
           }
          ],
          "scatter3d": [
           {
            "line": {
             "colorbar": {
              "outlinewidth": 0,
              "ticks": ""
             }
            },
            "marker": {
             "colorbar": {
              "outlinewidth": 0,
              "ticks": ""
             }
            },
            "type": "scatter3d"
           }
          ],
          "scattercarpet": [
           {
            "marker": {
             "colorbar": {
              "outlinewidth": 0,
              "ticks": ""
             }
            },
            "type": "scattercarpet"
           }
          ],
          "scattergeo": [
           {
            "marker": {
             "colorbar": {
              "outlinewidth": 0,
              "ticks": ""
             }
            },
            "type": "scattergeo"
           }
          ],
          "scattergl": [
           {
            "marker": {
             "colorbar": {
              "outlinewidth": 0,
              "ticks": ""
             }
            },
            "type": "scattergl"
           }
          ],
          "scattermapbox": [
           {
            "marker": {
             "colorbar": {
              "outlinewidth": 0,
              "ticks": ""
             }
            },
            "type": "scattermapbox"
           }
          ],
          "scatterpolar": [
           {
            "marker": {
             "colorbar": {
              "outlinewidth": 0,
              "ticks": ""
             }
            },
            "type": "scatterpolar"
           }
          ],
          "scatterpolargl": [
           {
            "marker": {
             "colorbar": {
              "outlinewidth": 0,
              "ticks": ""
             }
            },
            "type": "scatterpolargl"
           }
          ],
          "scatterternary": [
           {
            "marker": {
             "colorbar": {
              "outlinewidth": 0,
              "ticks": ""
             }
            },
            "type": "scatterternary"
           }
          ],
          "surface": [
           {
            "colorbar": {
             "outlinewidth": 0,
             "ticks": ""
            },
            "colorscale": [
             [
              0,
              "#0d0887"
             ],
             [
              0.1111111111111111,
              "#46039f"
             ],
             [
              0.2222222222222222,
              "#7201a8"
             ],
             [
              0.3333333333333333,
              "#9c179e"
             ],
             [
              0.4444444444444444,
              "#bd3786"
             ],
             [
              0.5555555555555556,
              "#d8576b"
             ],
             [
              0.6666666666666666,
              "#ed7953"
             ],
             [
              0.7777777777777778,
              "#fb9f3a"
             ],
             [
              0.8888888888888888,
              "#fdca26"
             ],
             [
              1,
              "#f0f921"
             ]
            ],
            "type": "surface"
           }
          ],
          "table": [
           {
            "cells": {
             "fill": {
              "color": "#EBF0F8"
             },
             "line": {
              "color": "white"
             }
            },
            "header": {
             "fill": {
              "color": "#C8D4E3"
             },
             "line": {
              "color": "white"
             }
            },
            "type": "table"
           }
          ]
         },
         "layout": {
          "annotationdefaults": {
           "arrowcolor": "#2a3f5f",
           "arrowhead": 0,
           "arrowwidth": 1
          },
          "autotypenumbers": "strict",
          "coloraxis": {
           "colorbar": {
            "outlinewidth": 0,
            "ticks": ""
           }
          },
          "colorscale": {
           "diverging": [
            [
             0,
             "#8e0152"
            ],
            [
             0.1,
             "#c51b7d"
            ],
            [
             0.2,
             "#de77ae"
            ],
            [
             0.3,
             "#f1b6da"
            ],
            [
             0.4,
             "#fde0ef"
            ],
            [
             0.5,
             "#f7f7f7"
            ],
            [
             0.6,
             "#e6f5d0"
            ],
            [
             0.7,
             "#b8e186"
            ],
            [
             0.8,
             "#7fbc41"
            ],
            [
             0.9,
             "#4d9221"
            ],
            [
             1,
             "#276419"
            ]
           ],
           "sequential": [
            [
             0,
             "#0d0887"
            ],
            [
             0.1111111111111111,
             "#46039f"
            ],
            [
             0.2222222222222222,
             "#7201a8"
            ],
            [
             0.3333333333333333,
             "#9c179e"
            ],
            [
             0.4444444444444444,
             "#bd3786"
            ],
            [
             0.5555555555555556,
             "#d8576b"
            ],
            [
             0.6666666666666666,
             "#ed7953"
            ],
            [
             0.7777777777777778,
             "#fb9f3a"
            ],
            [
             0.8888888888888888,
             "#fdca26"
            ],
            [
             1,
             "#f0f921"
            ]
           ],
           "sequentialminus": [
            [
             0,
             "#0d0887"
            ],
            [
             0.1111111111111111,
             "#46039f"
            ],
            [
             0.2222222222222222,
             "#7201a8"
            ],
            [
             0.3333333333333333,
             "#9c179e"
            ],
            [
             0.4444444444444444,
             "#bd3786"
            ],
            [
             0.5555555555555556,
             "#d8576b"
            ],
            [
             0.6666666666666666,
             "#ed7953"
            ],
            [
             0.7777777777777778,
             "#fb9f3a"
            ],
            [
             0.8888888888888888,
             "#fdca26"
            ],
            [
             1,
             "#f0f921"
            ]
           ]
          },
          "colorway": [
           "#636efa",
           "#EF553B",
           "#00cc96",
           "#ab63fa",
           "#FFA15A",
           "#19d3f3",
           "#FF6692",
           "#B6E880",
           "#FF97FF",
           "#FECB52"
          ],
          "font": {
           "color": "#2a3f5f"
          },
          "geo": {
           "bgcolor": "white",
           "lakecolor": "white",
           "landcolor": "#E5ECF6",
           "showlakes": true,
           "showland": true,
           "subunitcolor": "white"
          },
          "hoverlabel": {
           "align": "left"
          },
          "hovermode": "closest",
          "mapbox": {
           "style": "light"
          },
          "paper_bgcolor": "white",
          "plot_bgcolor": "#E5ECF6",
          "polar": {
           "angularaxis": {
            "gridcolor": "white",
            "linecolor": "white",
            "ticks": ""
           },
           "bgcolor": "#E5ECF6",
           "radialaxis": {
            "gridcolor": "white",
            "linecolor": "white",
            "ticks": ""
           }
          },
          "scene": {
           "xaxis": {
            "backgroundcolor": "#E5ECF6",
            "gridcolor": "white",
            "gridwidth": 2,
            "linecolor": "white",
            "showbackground": true,
            "ticks": "",
            "zerolinecolor": "white"
           },
           "yaxis": {
            "backgroundcolor": "#E5ECF6",
            "gridcolor": "white",
            "gridwidth": 2,
            "linecolor": "white",
            "showbackground": true,
            "ticks": "",
            "zerolinecolor": "white"
           },
           "zaxis": {
            "backgroundcolor": "#E5ECF6",
            "gridcolor": "white",
            "gridwidth": 2,
            "linecolor": "white",
            "showbackground": true,
            "ticks": "",
            "zerolinecolor": "white"
           }
          },
          "shapedefaults": {
           "line": {
            "color": "#2a3f5f"
           }
          },
          "ternary": {
           "aaxis": {
            "gridcolor": "white",
            "linecolor": "white",
            "ticks": ""
           },
           "baxis": {
            "gridcolor": "white",
            "linecolor": "white",
            "ticks": ""
           },
           "bgcolor": "#E5ECF6",
           "caxis": {
            "gridcolor": "white",
            "linecolor": "white",
            "ticks": ""
           }
          },
          "title": {
           "x": 0.05
          },
          "xaxis": {
           "automargin": true,
           "gridcolor": "white",
           "linecolor": "white",
           "ticks": "",
           "title": {
            "standoff": 15
           },
           "zerolinecolor": "white",
           "zerolinewidth": 2
          },
          "yaxis": {
           "automargin": true,
           "gridcolor": "white",
           "linecolor": "white",
           "ticks": "",
           "title": {
            "standoff": 15
           },
           "zerolinecolor": "white",
           "zerolinewidth": 2
          }
         }
        },
        "title": {
         "text": "Erreur quadratique moyenne selon σQ et σpx = σpy"
        },
        "width": 800,
        "xaxis": {
         "title": {
          "text": "Bruit de mesure (σpx = σpy)"
         }
        },
        "yaxis": {
         "title": {
          "text": "Bruit de processus (σQ)"
         }
        }
       }
      }
     },
     "metadata": {},
     "output_type": "display_data"
    }
   ],
   "source": [
    "# Créer la heatmap à partir du tableau pivot\n",
    "heatmap = go.Figure(data=go.Heatmap(\n",
    "    z=df_pivot.values,\n",
    "    x=df_pivot.columns.tolist(),\n",
    "    y=df_pivot.index.tolist(),\n",
    "    colorscale='Viridis',   \n",
    "    colorbar=dict(title=\"Erreur moyenne\")\n",
    "))\n",
    "\n",
    "heatmap.update_layout(\n",
    "    title=\"Erreur quadratique moyenne selon σQ et σpx = σpy\",\n",
    "    xaxis_title=\"Bruit de mesure (σpx = σpy)\",\n",
    "    yaxis_title=\"Bruit de processus (σQ)\",\n",
    "    width=800,\n",
    "    height=500\n",
    ")\n",
    "\n",
    "heatmap.show()\n"
   ]
  }
 ],
 "metadata": {
  "kernelspec": {
   "display_name": "base",
   "language": "python",
   "name": "python3"
  },
  "language_info": {
   "codemirror_mode": {
    "name": "ipython",
    "version": 3
   },
   "file_extension": ".py",
   "mimetype": "text/x-python",
   "name": "python",
   "nbconvert_exporter": "python",
   "pygments_lexer": "ipython3",
   "version": "3.11.3"
  }
 },
 "nbformat": 4,
 "nbformat_minor": 5
}
